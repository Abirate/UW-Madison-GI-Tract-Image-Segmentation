{
 "cells": [
  {
   "cell_type": "markdown",
   "id": "80f89adb",
   "metadata": {
    "papermill": {
     "duration": 0.008608,
     "end_time": "2022-07-20T18:15:03.073043",
     "exception": false,
     "start_time": "2022-07-20T18:15:03.064435",
     "status": "completed"
    },
    "tags": []
   },
   "source": [
    "## **Imports**"
   ]
  },
  {
   "cell_type": "code",
   "execution_count": 1,
   "id": "2a2bb498",
   "metadata": {
    "execution": {
     "iopub.execute_input": "2022-07-20T18:15:03.089884Z",
     "iopub.status.busy": "2022-07-20T18:15:03.089414Z",
     "iopub.status.idle": "2022-07-20T18:15:04.671238Z",
     "shell.execute_reply": "2022-07-20T18:15:04.670044Z"
    },
    "papermill": {
     "duration": 1.593306,
     "end_time": "2022-07-20T18:15:04.673986",
     "exception": false,
     "start_time": "2022-07-20T18:15:03.080680",
     "status": "completed"
    },
    "tags": []
   },
   "outputs": [],
   "source": [
    "from pathlib import Path\n",
    "import numpy as np\n",
    "import pandas as pd\n",
    "import matplotlib.pyplot as plt\n",
    "from tqdm.notebook import tqdm\n",
    "import nibabel as nib\n",
    "\n",
    "import os\n",
    "import cv2\n",
    "from glob import glob\n",
    "import gc\n",
    "\n",
    "from sklearn.model_selection import StratifiedKFold, KFold, StratifiedGroupKFold,GroupKFold"
   ]
  },
  {
   "cell_type": "markdown",
   "id": "fbae457c",
   "metadata": {
    "papermill": {
     "duration": 0.010386,
     "end_time": "2022-07-20T18:15:04.693285",
     "exception": false,
     "start_time": "2022-07-20T18:15:04.682899",
     "status": "completed"
    },
    "tags": []
   },
   "source": [
    "## **Goal**\n",
    "The Goal is to reconstrcut 3D MRI Images (from all slices/ subject) "
   ]
  },
  {
   "cell_type": "code",
   "execution_count": 2,
   "id": "981837d8",
   "metadata": {
    "execution": {
     "iopub.execute_input": "2022-07-20T18:15:04.711163Z",
     "iopub.status.busy": "2022-07-20T18:15:04.710485Z",
     "iopub.status.idle": "2022-07-20T18:15:04.716190Z",
     "shell.execute_reply": "2022-07-20T18:15:04.715444Z"
    },
    "papermill": {
     "duration": 0.016832,
     "end_time": "2022-07-20T18:15:04.718399",
     "exception": false,
     "start_time": "2022-07-20T18:15:04.701567",
     "status": "completed"
    },
    "tags": []
   },
   "outputs": [],
   "source": [
    "TRAIN_ROOT_DIR = '../input/uw-madison-gi-tract-image-segmentation/train'\n",
    "TEST_ROOT_DIR = '../input/uw-madison-gi-tract-image-segmentation/test'"
   ]
  },
  {
   "cell_type": "code",
   "execution_count": 3,
   "id": "0e09c640",
   "metadata": {
    "execution": {
     "iopub.execute_input": "2022-07-20T18:15:04.735314Z",
     "iopub.status.busy": "2022-07-20T18:15:04.734268Z",
     "iopub.status.idle": "2022-07-20T18:15:05.521082Z",
     "shell.execute_reply": "2022-07-20T18:15:05.519456Z"
    },
    "papermill": {
     "duration": 0.799648,
     "end_time": "2022-07-20T18:15:05.525434",
     "exception": false,
     "start_time": "2022-07-20T18:15:04.725786",
     "status": "completed"
    },
    "tags": []
   },
   "outputs": [
    {
     "name": "stdout",
     "output_type": "stream",
     "text": [
      "(115488, 3)\n"
     ]
    },
    {
     "data": {
      "text/html": [
       "<div>\n",
       "<style scoped>\n",
       "    .dataframe tbody tr th:only-of-type {\n",
       "        vertical-align: middle;\n",
       "    }\n",
       "\n",
       "    .dataframe tbody tr th {\n",
       "        vertical-align: top;\n",
       "    }\n",
       "\n",
       "    .dataframe thead th {\n",
       "        text-align: right;\n",
       "    }\n",
       "</style>\n",
       "<table border=\"1\" class=\"dataframe\">\n",
       "  <thead>\n",
       "    <tr style=\"text-align: right;\">\n",
       "      <th></th>\n",
       "      <th>id</th>\n",
       "      <th>class</th>\n",
       "      <th>segmentation</th>\n",
       "    </tr>\n",
       "  </thead>\n",
       "  <tbody>\n",
       "    <tr>\n",
       "      <th>0</th>\n",
       "      <td>case123_day20_slice_0001</td>\n",
       "      <td>large_bowel</td>\n",
       "      <td>NaN</td>\n",
       "    </tr>\n",
       "    <tr>\n",
       "      <th>1</th>\n",
       "      <td>case123_day20_slice_0001</td>\n",
       "      <td>small_bowel</td>\n",
       "      <td>NaN</td>\n",
       "    </tr>\n",
       "    <tr>\n",
       "      <th>2</th>\n",
       "      <td>case123_day20_slice_0001</td>\n",
       "      <td>stomach</td>\n",
       "      <td>NaN</td>\n",
       "    </tr>\n",
       "    <tr>\n",
       "      <th>3</th>\n",
       "      <td>case123_day20_slice_0002</td>\n",
       "      <td>large_bowel</td>\n",
       "      <td>NaN</td>\n",
       "    </tr>\n",
       "    <tr>\n",
       "      <th>4</th>\n",
       "      <td>case123_day20_slice_0002</td>\n",
       "      <td>small_bowel</td>\n",
       "      <td>NaN</td>\n",
       "    </tr>\n",
       "  </tbody>\n",
       "</table>\n",
       "</div>"
      ],
      "text/plain": [
       "                         id        class segmentation\n",
       "0  case123_day20_slice_0001  large_bowel          NaN\n",
       "1  case123_day20_slice_0001  small_bowel          NaN\n",
       "2  case123_day20_slice_0001      stomach          NaN\n",
       "3  case123_day20_slice_0002  large_bowel          NaN\n",
       "4  case123_day20_slice_0002  small_bowel          NaN"
      ]
     },
     "execution_count": 3,
     "metadata": {},
     "output_type": "execute_result"
    }
   ],
   "source": [
    "train_df_original = pd.read_csv('../input/uw-madison-gi-tract-image-segmentation/train.csv')\n",
    "\n",
    "print(train_df_original.shape)\n",
    "train_df_original.head()\n"
   ]
  },
  {
   "cell_type": "markdown",
   "id": "81a2c31a",
   "metadata": {
    "papermill": {
     "duration": 0.007414,
     "end_time": "2022-07-20T18:15:05.541540",
     "exception": false,
     "start_time": "2022-07-20T18:15:05.534126",
     "status": "completed"
    },
    "tags": []
   },
   "source": [
    "### **Helper function: Prepare a DataFrame from the Images Folder**"
   ]
  },
  {
   "cell_type": "code",
   "execution_count": 4,
   "id": "fd9a47ff",
   "metadata": {
    "execution": {
     "iopub.execute_input": "2022-07-20T18:15:05.559300Z",
     "iopub.status.busy": "2022-07-20T18:15:05.558414Z",
     "iopub.status.idle": "2022-07-20T18:15:05.571536Z",
     "shell.execute_reply": "2022-07-20T18:15:05.570282Z"
    },
    "papermill": {
     "duration": 0.024678,
     "end_time": "2022-07-20T18:15:05.574044",
     "exception": false,
     "start_time": "2022-07-20T18:15:05.549366",
     "status": "completed"
    },
    "tags": []
   },
   "outputs": [],
   "source": [
    "def prepare_df(df, root_dir):\n",
    "    all_images = []\n",
    "    for path in Path(root_dir).rglob('*.png'):\n",
    "\n",
    "        parts = path.parts\n",
    "        dict_path = {}\n",
    "        case_str = parts[4][4:]\n",
    "        day_str = parts[5].split('_')[1][3:]\n",
    "        dict_path['case'] = int(case_str)\n",
    "        dict_path['day'] = int(day_str)\n",
    "        dict_path['slice'] = int(parts[7].split('_')[1])\n",
    "        slice_str = '_'.join(parts[7].split('_')[0:2])\n",
    "        #dict_path['PosixPath'] = path\n",
    "        dict_path['path'] = str(path)\n",
    "        dict_path['join_col'] = 'case'+ case_str + '_'+ 'day' + day_str + '_' + slice_str\n",
    "        dict_path['height'] = int(dict_path['path'].split('/')[7].split('_')[2])\n",
    "        dict_path['width'] = int(dict_path['path'].split('/')[7].split('_')[3])\n",
    "        dict_path['subject'] = case_str + '_'+ day_str\n",
    "        all_images.append(dict_path)\n",
    "    \n",
    "    # Only contains 1/3 length of the orginal df(where each slice is repeated 3 times )\n",
    "    df_1_3 = pd.DataFrame(all_images) \n",
    "    # Get the final dataframe with the same length of the original one...\n",
    "    df_final = pd.merge(df, df_1_3, left_on = 'id', right_on = 'join_col')\n",
    "    df_final = df_final.drop('join_col', axis=1)\n",
    "\n",
    "    return df_final"
   ]
  },
  {
   "cell_type": "code",
   "execution_count": 5,
   "id": "94a1ae29",
   "metadata": {
    "execution": {
     "iopub.execute_input": "2022-07-20T18:15:05.592680Z",
     "iopub.status.busy": "2022-07-20T18:15:05.591479Z",
     "iopub.status.idle": "2022-07-20T18:15:12.058122Z",
     "shell.execute_reply": "2022-07-20T18:15:12.056790Z"
    },
    "papermill": {
     "duration": 6.479388,
     "end_time": "2022-07-20T18:15:12.061680",
     "exception": false,
     "start_time": "2022-07-20T18:15:05.582292",
     "status": "completed"
    },
    "tags": []
   },
   "outputs": [
    {
     "name": "stdout",
     "output_type": "stream",
     "text": [
      "115488\n"
     ]
    },
    {
     "data": {
      "text/html": [
       "<div>\n",
       "<style scoped>\n",
       "    .dataframe tbody tr th:only-of-type {\n",
       "        vertical-align: middle;\n",
       "    }\n",
       "\n",
       "    .dataframe tbody tr th {\n",
       "        vertical-align: top;\n",
       "    }\n",
       "\n",
       "    .dataframe thead th {\n",
       "        text-align: right;\n",
       "    }\n",
       "</style>\n",
       "<table border=\"1\" class=\"dataframe\">\n",
       "  <thead>\n",
       "    <tr style=\"text-align: right;\">\n",
       "      <th></th>\n",
       "      <th>id</th>\n",
       "      <th>class</th>\n",
       "      <th>segmentation</th>\n",
       "      <th>case</th>\n",
       "      <th>day</th>\n",
       "      <th>slice</th>\n",
       "      <th>path</th>\n",
       "      <th>height</th>\n",
       "      <th>width</th>\n",
       "      <th>subject</th>\n",
       "    </tr>\n",
       "  </thead>\n",
       "  <tbody>\n",
       "    <tr>\n",
       "      <th>0</th>\n",
       "      <td>case123_day20_slice_0001</td>\n",
       "      <td>large_bowel</td>\n",
       "      <td>NaN</td>\n",
       "      <td>123</td>\n",
       "      <td>20</td>\n",
       "      <td>1</td>\n",
       "      <td>../input/uw-madison-gi-tract-image-segmentatio...</td>\n",
       "      <td>266</td>\n",
       "      <td>266</td>\n",
       "      <td>123_20</td>\n",
       "    </tr>\n",
       "    <tr>\n",
       "      <th>1</th>\n",
       "      <td>case123_day20_slice_0001</td>\n",
       "      <td>small_bowel</td>\n",
       "      <td>NaN</td>\n",
       "      <td>123</td>\n",
       "      <td>20</td>\n",
       "      <td>1</td>\n",
       "      <td>../input/uw-madison-gi-tract-image-segmentatio...</td>\n",
       "      <td>266</td>\n",
       "      <td>266</td>\n",
       "      <td>123_20</td>\n",
       "    </tr>\n",
       "  </tbody>\n",
       "</table>\n",
       "</div>"
      ],
      "text/plain": [
       "                         id        class segmentation  case  day  slice  \\\n",
       "0  case123_day20_slice_0001  large_bowel          NaN   123   20      1   \n",
       "1  case123_day20_slice_0001  small_bowel          NaN   123   20      1   \n",
       "\n",
       "                                                path  height  width subject  \n",
       "0  ../input/uw-madison-gi-tract-image-segmentatio...     266    266  123_20  \n",
       "1  ../input/uw-madison-gi-tract-image-segmentatio...     266    266  123_20  "
      ]
     },
     "execution_count": 5,
     "metadata": {},
     "output_type": "execute_result"
    }
   ],
   "source": [
    "train_df = prepare_df(train_df_original, TRAIN_ROOT_DIR)\n",
    "print(len(train_df))\n",
    "train_df.head(2)\n"
   ]
  },
  {
   "cell_type": "markdown",
   "id": "278457b6",
   "metadata": {
    "papermill": {
     "duration": 0.007869,
     "end_time": "2022-07-20T18:15:12.078335",
     "exception": false,
     "start_time": "2022-07-20T18:15:12.070466",
     "status": "completed"
    },
    "tags": []
   },
   "source": [
    "## **Helper function: Rearrange the DataFrame**"
   ]
  },
  {
   "cell_type": "code",
   "execution_count": 6,
   "id": "8687112d",
   "metadata": {
    "execution": {
     "iopub.execute_input": "2022-07-20T18:15:12.096518Z",
     "iopub.status.busy": "2022-07-20T18:15:12.096139Z",
     "iopub.status.idle": "2022-07-20T18:15:12.108509Z",
     "shell.execute_reply": "2022-07-20T18:15:12.107449Z"
    },
    "papermill": {
     "duration": 0.024269,
     "end_time": "2022-07-20T18:15:12.110762",
     "exception": false,
     "start_time": "2022-07-20T18:15:12.086493",
     "status": "completed"
    },
    "tags": []
   },
   "outputs": [],
   "source": [
    "def rearrange_df(df):\n",
    "    \"\"\" \n",
    "    Rearrange data in the the prepared DataFrame (train_df or test_df).\n",
    "    For each id (repeated 3 times),it creates 3 associated columns representing the segmentation \n",
    "    for the 3 classes:'large_bowel', 'small_bowel', 'stomach' \n",
    "    \"\"\"\n",
    "    # I keep only one id (so that it is not repeated 3 times)\n",
    "    df_rearranged = pd.DataFrame({\"id\": df[\"id\"][::3]}) \n",
    "    df_rearranged[\"large_bowel\"] = df[\"segmentation\"][::3].values\n",
    "    df_rearranged[\"small_bowel\"] = df[\"segmentation\"][1::3].values\n",
    "    df_rearranged[\"stomach\"] = df[\"segmentation\"][2::3].values\n",
    "\n",
    "    # Adjust the corresponding other columns\n",
    "    df_rearranged[\"case\"] = df[\"case\"][::3].values\n",
    "    df_rearranged[\"day\"] = df[\"day\"][::3].values\n",
    "    df_rearranged[\"subject\"] = df[\"subject\"][::3].values\n",
    "    df_rearranged[\"slice\"] = df[\"slice\"][::3].values\n",
    "    df_rearranged[\"path\"] = df[\"path\"][::3].values\n",
    "    df_rearranged[\"width\"] = df[\"width\"][::3].values\n",
    "    df_rearranged[\"height\"] = df[\"height\"][::3].values\n",
    "    \n",
    "    df_rearranged = df_rearranged.reset_index(drop=True)\n",
    "    df_rearranged = df_rearranged.fillna(\"\")\n",
    "    # I count the classes for which we have segmentation (I mean rle encoding),\n",
    "    # I'll use it for the validation strategy\n",
    "    # 0: No segmentation\n",
    "    # 1: Only one class for which we have segmentation\n",
    "    # 2: Only 2 classes for which we have segmentation\n",
    "    # 3: we have segmentation for the 3 classes\n",
    "    #df_rearranged[\"count\"] = np.sum(~df_rearranged.iloc[:, 1:4].isnull(), axis=1).values\n",
    "    df_rearranged[\"count\"] = np.sum(df_rearranged.iloc[:, 1:4] != \"\", axis=1).values\n",
    "    \n",
    "    \n",
    "    return df_rearranged"
   ]
  },
  {
   "cell_type": "code",
   "execution_count": 7,
   "id": "6ee93526",
   "metadata": {
    "execution": {
     "iopub.execute_input": "2022-07-20T18:15:12.129413Z",
     "iopub.status.busy": "2022-07-20T18:15:12.128609Z",
     "iopub.status.idle": "2022-07-20T18:15:12.217934Z",
     "shell.execute_reply": "2022-07-20T18:15:12.216649Z"
    },
    "papermill": {
     "duration": 0.101544,
     "end_time": "2022-07-20T18:15:12.220424",
     "exception": false,
     "start_time": "2022-07-20T18:15:12.118880",
     "status": "completed"
    },
    "tags": []
   },
   "outputs": [
    {
     "name": "stdout",
     "output_type": "stream",
     "text": [
      "38496\n"
     ]
    },
    {
     "data": {
      "text/html": [
       "<div>\n",
       "<style scoped>\n",
       "    .dataframe tbody tr th:only-of-type {\n",
       "        vertical-align: middle;\n",
       "    }\n",
       "\n",
       "    .dataframe tbody tr th {\n",
       "        vertical-align: top;\n",
       "    }\n",
       "\n",
       "    .dataframe thead th {\n",
       "        text-align: right;\n",
       "    }\n",
       "</style>\n",
       "<table border=\"1\" class=\"dataframe\">\n",
       "  <thead>\n",
       "    <tr style=\"text-align: right;\">\n",
       "      <th></th>\n",
       "      <th>id</th>\n",
       "      <th>large_bowel</th>\n",
       "      <th>small_bowel</th>\n",
       "      <th>stomach</th>\n",
       "      <th>case</th>\n",
       "      <th>day</th>\n",
       "      <th>subject</th>\n",
       "      <th>slice</th>\n",
       "      <th>path</th>\n",
       "      <th>width</th>\n",
       "      <th>height</th>\n",
       "      <th>count</th>\n",
       "    </tr>\n",
       "  </thead>\n",
       "  <tbody>\n",
       "    <tr>\n",
       "      <th>0</th>\n",
       "      <td>case123_day20_slice_0001</td>\n",
       "      <td></td>\n",
       "      <td></td>\n",
       "      <td></td>\n",
       "      <td>123</td>\n",
       "      <td>20</td>\n",
       "      <td>123_20</td>\n",
       "      <td>1</td>\n",
       "      <td>../input/uw-madison-gi-tract-image-segmentatio...</td>\n",
       "      <td>266</td>\n",
       "      <td>266</td>\n",
       "      <td>0</td>\n",
       "    </tr>\n",
       "    <tr>\n",
       "      <th>1</th>\n",
       "      <td>case123_day20_slice_0002</td>\n",
       "      <td></td>\n",
       "      <td></td>\n",
       "      <td></td>\n",
       "      <td>123</td>\n",
       "      <td>20</td>\n",
       "      <td>123_20</td>\n",
       "      <td>2</td>\n",
       "      <td>../input/uw-madison-gi-tract-image-segmentatio...</td>\n",
       "      <td>266</td>\n",
       "      <td>266</td>\n",
       "      <td>0</td>\n",
       "    </tr>\n",
       "    <tr>\n",
       "      <th>2</th>\n",
       "      <td>case123_day20_slice_0003</td>\n",
       "      <td></td>\n",
       "      <td></td>\n",
       "      <td></td>\n",
       "      <td>123</td>\n",
       "      <td>20</td>\n",
       "      <td>123_20</td>\n",
       "      <td>3</td>\n",
       "      <td>../input/uw-madison-gi-tract-image-segmentatio...</td>\n",
       "      <td>266</td>\n",
       "      <td>266</td>\n",
       "      <td>0</td>\n",
       "    </tr>\n",
       "  </tbody>\n",
       "</table>\n",
       "</div>"
      ],
      "text/plain": [
       "                         id large_bowel small_bowel stomach  case  day  \\\n",
       "0  case123_day20_slice_0001                                   123   20   \n",
       "1  case123_day20_slice_0002                                   123   20   \n",
       "2  case123_day20_slice_0003                                   123   20   \n",
       "\n",
       "  subject  slice                                               path  width  \\\n",
       "0  123_20      1  ../input/uw-madison-gi-tract-image-segmentatio...    266   \n",
       "1  123_20      2  ../input/uw-madison-gi-tract-image-segmentatio...    266   \n",
       "2  123_20      3  ../input/uw-madison-gi-tract-image-segmentatio...    266   \n",
       "\n",
       "   height  count  \n",
       "0     266      0  \n",
       "1     266      0  \n",
       "2     266      0  "
      ]
     },
     "execution_count": 7,
     "metadata": {},
     "output_type": "execute_result"
    }
   ],
   "source": [
    "train_df_rearranged = rearrange_df(train_df)\n",
    "print(len(train_df_rearranged))\n",
    "train_df_rearranged.head(3)"
   ]
  },
  {
   "cell_type": "code",
   "execution_count": 8,
   "id": "4fed8407",
   "metadata": {
    "execution": {
     "iopub.execute_input": "2022-07-20T18:15:12.241153Z",
     "iopub.status.busy": "2022-07-20T18:15:12.240401Z",
     "iopub.status.idle": "2022-07-20T18:15:12.278711Z",
     "shell.execute_reply": "2022-07-20T18:15:12.277774Z"
    },
    "papermill": {
     "duration": 0.051448,
     "end_time": "2022-07-20T18:15:12.281328",
     "exception": false,
     "start_time": "2022-07-20T18:15:12.229880",
     "status": "completed"
    },
    "tags": []
   },
   "outputs": [],
   "source": [
    "# According to this discussion : \n",
    "# https://www.kaggle.com/competitions/uw-madison-gi-tract-image-segmentation/discussion/319963#1763869\n",
    "# I'll remove misslabeled training data\n",
    "\n",
    "train_df_rearranged = train_df_rearranged[(train_df_rearranged['case']!=7)|(train_df_rearranged['day']!=0)]\n",
    "train_df_rearranged = train_df_rearranged.reset_index(drop=True)\n",
    "\n",
    "train_df_rearranged = train_df_rearranged[(train_df_rearranged['case']!=81)|(train_df_rearranged['day']!=30)]\n",
    "train_df_rearranged = train_df_rearranged.reset_index(drop=True)\n"
   ]
  },
  {
   "cell_type": "code",
   "execution_count": 9,
   "id": "9f5abaca",
   "metadata": {
    "execution": {
     "iopub.execute_input": "2022-07-20T18:15:12.300517Z",
     "iopub.status.busy": "2022-07-20T18:15:12.299484Z",
     "iopub.status.idle": "2022-07-20T18:15:12.308016Z",
     "shell.execute_reply": "2022-07-20T18:15:12.306795Z"
    },
    "papermill": {
     "duration": 0.020284,
     "end_time": "2022-07-20T18:15:12.310127",
     "exception": false,
     "start_time": "2022-07-20T18:15:12.289843",
     "status": "completed"
    },
    "tags": []
   },
   "outputs": [
    {
     "data": {
      "text/plain": [
       "85"
      ]
     },
     "execution_count": 9,
     "metadata": {},
     "output_type": "execute_result"
    }
   ],
   "source": [
    "len(np.unique(train_df_rearranged['case'])) \n",
    "# we have 85 cases but one case may have several MRI scans: MRI scan = case_day\n"
   ]
  },
  {
   "cell_type": "markdown",
   "id": "e59f16b0",
   "metadata": {
    "papermill": {
     "duration": 0.008372,
     "end_time": "2022-07-20T18:15:12.327144",
     "exception": false,
     "start_time": "2022-07-20T18:15:12.318772",
     "status": "completed"
    },
    "tags": []
   },
   "source": [
    "## **Before further preprocessing: Validation Strategy**"
   ]
  },
  {
   "cell_type": "code",
   "execution_count": 10,
   "id": "38ae16e7",
   "metadata": {
    "execution": {
     "iopub.execute_input": "2022-07-20T18:15:12.346398Z",
     "iopub.status.busy": "2022-07-20T18:15:12.345659Z",
     "iopub.status.idle": "2022-07-20T18:15:12.364370Z",
     "shell.execute_reply": "2022-07-20T18:15:12.363516Z"
    },
    "papermill": {
     "duration": 0.031093,
     "end_time": "2022-07-20T18:15:12.366856",
     "exception": false,
     "start_time": "2022-07-20T18:15:12.335763",
     "status": "completed"
    },
    "tags": []
   },
   "outputs": [],
   "source": [
    "# It is important to have a good validation strategy\n",
    "# the whole case (with all its slices) should not be present in the two sets : train & validation\n",
    "\n",
    "sgkf = GroupKFold(n_splits=5)\n",
    "\n",
    "for fold, (_, val_idx) in enumerate(sgkf.split(X=train_df_rearranged,groups=train_df_rearranged[\"case\"]),1): # the 1st fold has index 1 not 0\n",
    "    train_df_rearranged.loc[val_idx, \"fold\"] = fold\n",
    "\n",
    "train_df_rearranged[\"fold\"] = train_df_rearranged[\"fold\"].astype(np.uint8)"
   ]
  },
  {
   "cell_type": "code",
   "execution_count": 11,
   "id": "bd9c1405",
   "metadata": {
    "execution": {
     "iopub.execute_input": "2022-07-20T18:15:12.386602Z",
     "iopub.status.busy": "2022-07-20T18:15:12.385794Z",
     "iopub.status.idle": "2022-07-20T18:15:12.397202Z",
     "shell.execute_reply": "2022-07-20T18:15:12.396322Z"
    },
    "papermill": {
     "duration": 0.024014,
     "end_time": "2022-07-20T18:15:12.399394",
     "exception": false,
     "start_time": "2022-07-20T18:15:12.375380",
     "status": "completed"
    },
    "tags": []
   },
   "outputs": [
    {
     "data": {
      "text/plain": [
       "fold\n",
       "1    7696\n",
       "2    7632\n",
       "3    7632\n",
       "4    7648\n",
       "5    7600\n",
       "dtype: int64"
      ]
     },
     "execution_count": 11,
     "metadata": {},
     "output_type": "execute_result"
    }
   ],
   "source": [
    "train_df_rearranged.groupby(\"fold\").size()"
   ]
  },
  {
   "cell_type": "markdown",
   "id": "9ac959e0",
   "metadata": {
    "papermill": {
     "duration": 0.008498,
     "end_time": "2022-07-20T18:15:12.416549",
     "exception": false,
     "start_time": "2022-07-20T18:15:12.408051",
     "status": "completed"
    },
    "tags": []
   },
   "source": [
    "## **Slelected_fold = 5**\n"
   ]
  },
  {
   "cell_type": "code",
   "execution_count": 12,
   "id": "afec13b3",
   "metadata": {
    "execution": {
     "iopub.execute_input": "2022-07-20T18:15:12.436280Z",
     "iopub.status.busy": "2022-07-20T18:15:12.435533Z",
     "iopub.status.idle": "2022-07-20T18:15:12.461493Z",
     "shell.execute_reply": "2022-07-20T18:15:12.460649Z"
    },
    "papermill": {
     "duration": 0.038659,
     "end_time": "2022-07-20T18:15:12.463972",
     "exception": false,
     "start_time": "2022-07-20T18:15:12.425313",
     "status": "completed"
    },
    "tags": []
   },
   "outputs": [],
   "source": [
    "fold_selected = 5\n",
    "train_ids = train_df_rearranged[train_df_rearranged[\"fold\"] != fold_selected].index\n",
    "valid_ids = train_df_rearranged[train_df_rearranged[\"fold\"] == fold_selected].index\n",
    "\n",
    "X_train = train_df_rearranged[train_df_rearranged.index.isin(train_ids)]\n",
    "X_valid = train_df_rearranged[train_df_rearranged.index.isin(valid_ids)]"
   ]
  },
  {
   "cell_type": "code",
   "execution_count": 13,
   "id": "37550b06",
   "metadata": {
    "execution": {
     "iopub.execute_input": "2022-07-20T18:15:12.483528Z",
     "iopub.status.busy": "2022-07-20T18:15:12.482807Z",
     "iopub.status.idle": "2022-07-20T18:15:12.500316Z",
     "shell.execute_reply": "2022-07-20T18:15:12.499276Z"
    },
    "papermill": {
     "duration": 0.03014,
     "end_time": "2022-07-20T18:15:12.502689",
     "exception": false,
     "start_time": "2022-07-20T18:15:12.472549",
     "status": "completed"
    },
    "tags": []
   },
   "outputs": [
    {
     "data": {
      "text/plain": [
       "123_20    144\n",
       "32_0      144\n",
       "55_0      144\n",
       "55_18     144\n",
       "55_20     144\n",
       "         ... \n",
       "35_18      80\n",
       "35_15      80\n",
       "35_12      80\n",
       "35_13      80\n",
       "131_15     80\n",
       "Name: subject, Length: 217, dtype: int64"
      ]
     },
     "execution_count": 13,
     "metadata": {},
     "output_type": "execute_result"
    }
   ],
   "source": [
    "X_train['subject'].value_counts()"
   ]
  },
  {
   "cell_type": "code",
   "execution_count": 14,
   "id": "81aa79c3",
   "metadata": {
    "execution": {
     "iopub.execute_input": "2022-07-20T18:15:12.522252Z",
     "iopub.status.busy": "2022-07-20T18:15:12.521583Z",
     "iopub.status.idle": "2022-07-20T18:15:12.534675Z",
     "shell.execute_reply": "2022-07-20T18:15:12.533878Z"
    },
    "papermill": {
     "duration": 0.025211,
     "end_time": "2022-07-20T18:15:12.536707",
     "exception": false,
     "start_time": "2022-07-20T18:15:12.511496",
     "status": "completed"
    },
    "tags": []
   },
   "outputs": [
    {
     "data": {
      "text/plain": [
       "(array([ 80, 144]), array([ 10, 207]))"
      ]
     },
     "execution_count": 14,
     "metadata": {},
     "output_type": "execute_result"
    }
   ],
   "source": [
    "np.unique(X_train['subject'].value_counts(), return_counts = True)"
   ]
  },
  {
   "cell_type": "markdown",
   "id": "430001a3",
   "metadata": {
    "papermill": {
     "duration": 0.008605,
     "end_time": "2022-07-20T18:15:12.554139",
     "exception": false,
     "start_time": "2022-07-20T18:15:12.545534",
     "status": "completed"
    },
    "tags": []
   },
   "source": [
    "## **Helper function: Create the list of subjects (subject=case_day) with their corresponding slices**"
   ]
  },
  {
   "cell_type": "code",
   "execution_count": 15,
   "id": "fdd3e58f",
   "metadata": {
    "execution": {
     "iopub.execute_input": "2022-07-20T18:15:12.573788Z",
     "iopub.status.busy": "2022-07-20T18:15:12.573135Z",
     "iopub.status.idle": "2022-07-20T18:15:12.581055Z",
     "shell.execute_reply": "2022-07-20T18:15:12.580218Z"
    },
    "papermill": {
     "duration": 0.020029,
     "end_time": "2022-07-20T18:15:12.583084",
     "exception": false,
     "start_time": "2022-07-20T18:15:12.563055",
     "status": "completed"
    },
    "tags": []
   },
   "outputs": [],
   "source": [
    "def create_list_subjects_slices(rearranged_df):\n",
    "    list_subjects_dict = []\n",
    "    for subject, slices in list(rearranged_df.groupby('subject')['path']):\n",
    "        dict_subject ={}\n",
    "        list_slices_arrays = []\n",
    "        for path_slice in slices.values:\n",
    "            arr_img = cv2.imread(path_slice, cv2.IMREAD_ANYDEPTH)\n",
    "            resized_arr_image = cv2.resize(arr_img, (128,128), interpolation=cv2.INTER_NEAREST)\n",
    "            list_slices_arrays.append(resized_arr_image)\n",
    "        dict_subject[subject] = list_slices_arrays\n",
    "        list_subjects_dict.append(dict_subject)\n",
    "    \n",
    "    list_subjects_slices=[]\n",
    "    list_subjects = []\n",
    "    for x_dict in list_subjects_dict:\n",
    "        for key_subject in x_dict:\n",
    "            list_subjects_slices.append(x_dict[key_subject])\n",
    "            list_subjects.append(key_subject)\n",
    "    gc.collect()\n",
    "    del list_subjects_dict \n",
    "    return list_subjects_slices, list_subjects\n"
   ]
  },
  {
   "cell_type": "code",
   "execution_count": 16,
   "id": "9a8e79e1",
   "metadata": {
    "execution": {
     "iopub.execute_input": "2022-07-20T18:15:12.602785Z",
     "iopub.status.busy": "2022-07-20T18:15:12.602143Z",
     "iopub.status.idle": "2022-07-20T18:19:51.910007Z",
     "shell.execute_reply": "2022-07-20T18:19:51.908644Z"
    },
    "papermill": {
     "duration": 279.321438,
     "end_time": "2022-07-20T18:19:51.913461",
     "exception": false,
     "start_time": "2022-07-20T18:15:12.592023",
     "status": "completed"
    },
    "tags": []
   },
   "outputs": [],
   "source": [
    "list_slices, list_subjects = create_list_subjects_slices(X_train)"
   ]
  },
  {
   "cell_type": "markdown",
   "id": "9673553c",
   "metadata": {
    "papermill": {
     "duration": 0.008897,
     "end_time": "2022-07-20T18:19:51.932437",
     "exception": false,
     "start_time": "2022-07-20T18:19:51.923540",
     "status": "completed"
    },
    "tags": []
   },
   "source": [
    "### **Create the 3D MRI scans (niftii format)**"
   ]
  },
  {
   "cell_type": "code",
   "execution_count": 17,
   "id": "88abcc68",
   "metadata": {
    "execution": {
     "iopub.execute_input": "2022-07-20T18:19:51.952528Z",
     "iopub.status.busy": "2022-07-20T18:19:51.952131Z",
     "iopub.status.idle": "2022-07-20T18:19:51.960070Z",
     "shell.execute_reply": "2022-07-20T18:19:51.958831Z"
    },
    "papermill": {
     "duration": 0.020704,
     "end_time": "2022-07-20T18:19:51.962309",
     "exception": false,
     "start_time": "2022-07-20T18:19:51.941605",
     "status": "completed"
    },
    "tags": []
   },
   "outputs": [],
   "source": [
    "def create_3d_mri_images(list_all_slices, list_subjects, root):\n",
    "    root_path = Path(root)\n",
    "    root_path.mkdir(parents=True, exist_ok=True)\n",
    "    list_mri_arrays=[]\n",
    "    for subject, slices_subject in zip(list_subjects,list_all_slices):\n",
    "        mri_subject = np.asarray(slices_subject)\n",
    "        mri_subject = np.swapaxes(mri_subject, 0, 2) # (num_slices,w,h) --> (h, w, num_slices)\n",
    "        mri_subject = np.swapaxes(mri_subject, 0, 1) # (h,w, num_slices) --> (w,h,num_slices)\n",
    "        mri_subject_nifti = nib.Nifti1Image(mri_subject, affine=np.eye(4))\n",
    "        nib.save(mri_subject_nifti, root+subject+'.nii.gz')\n",
    "\n",
    "    gc.collect()\n",
    "    "
   ]
  },
  {
   "cell_type": "code",
   "execution_count": 18,
   "id": "b16bb868",
   "metadata": {
    "execution": {
     "iopub.execute_input": "2022-07-20T18:19:51.982333Z",
     "iopub.status.busy": "2022-07-20T18:19:51.981958Z",
     "iopub.status.idle": "2022-07-20T18:20:16.263093Z",
     "shell.execute_reply": "2022-07-20T18:20:16.261928Z"
    },
    "papermill": {
     "duration": 24.294266,
     "end_time": "2022-07-20T18:20:16.265952",
     "exception": false,
     "start_time": "2022-07-20T18:19:51.971686",
     "status": "completed"
    },
    "tags": []
   },
   "outputs": [],
   "source": [
    "create_3d_mri_images(list_slices,list_subjects, root= './mri_images/train/')"
   ]
  },
  {
   "cell_type": "markdown",
   "id": "2408c98a",
   "metadata": {
    "papermill": {
     "duration": 0.008781,
     "end_time": "2022-07-20T18:20:16.283921",
     "exception": false,
     "start_time": "2022-07-20T18:20:16.275140",
     "status": "completed"
    },
    "tags": []
   },
   "source": [
    "### **Validation set: Construct the 3D MRI scans**"
   ]
  },
  {
   "cell_type": "code",
   "execution_count": 19,
   "id": "5a774e4d",
   "metadata": {
    "execution": {
     "iopub.execute_input": "2022-07-20T18:20:16.303438Z",
     "iopub.status.busy": "2022-07-20T18:20:16.303032Z",
     "iopub.status.idle": "2022-07-20T18:21:23.754304Z",
     "shell.execute_reply": "2022-07-20T18:21:23.753428Z"
    },
    "papermill": {
     "duration": 67.464531,
     "end_time": "2022-07-20T18:21:23.757262",
     "exception": false,
     "start_time": "2022-07-20T18:20:16.292731",
     "status": "completed"
    },
    "tags": []
   },
   "outputs": [],
   "source": [
    "list_slices_val, list_subjects_val = create_list_subjects_slices(X_valid)"
   ]
  },
  {
   "cell_type": "code",
   "execution_count": 20,
   "id": "3ade923a",
   "metadata": {
    "execution": {
     "iopub.execute_input": "2022-07-20T18:21:23.778552Z",
     "iopub.status.busy": "2022-07-20T18:21:23.778165Z",
     "iopub.status.idle": "2022-07-20T18:21:29.831848Z",
     "shell.execute_reply": "2022-07-20T18:21:29.830321Z"
    },
    "papermill": {
     "duration": 6.067746,
     "end_time": "2022-07-20T18:21:29.834898",
     "exception": false,
     "start_time": "2022-07-20T18:21:23.767152",
     "status": "completed"
    },
    "tags": []
   },
   "outputs": [],
   "source": [
    "create_3d_mri_images(list_slices_val,list_subjects_val,root='./mri_images/val/')"
   ]
  }
 ],
 "metadata": {
  "kernelspec": {
   "display_name": "Python 3",
   "language": "python",
   "name": "python3"
  },
  "language_info": {
   "codemirror_mode": {
    "name": "ipython",
    "version": 3
   },
   "file_extension": ".py",
   "mimetype": "text/x-python",
   "name": "python",
   "nbconvert_exporter": "python",
   "pygments_lexer": "ipython3",
   "version": "3.7.12"
  },
  "papermill": {
   "default_parameters": {},
   "duration": 397.572413,
   "end_time": "2022-07-20T18:21:30.767995",
   "environment_variables": {},
   "exception": null,
   "input_path": "__notebook__.ipynb",
   "output_path": "__notebook__.ipynb",
   "parameters": {},
   "start_time": "2022-07-20T18:14:53.195582",
   "version": "2.3.4"
  }
 },
 "nbformat": 4,
 "nbformat_minor": 5
}
