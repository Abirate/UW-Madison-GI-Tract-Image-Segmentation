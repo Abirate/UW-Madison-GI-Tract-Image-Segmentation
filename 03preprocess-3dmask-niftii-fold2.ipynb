{
 "cells": [
  {
   "cell_type": "markdown",
   "id": "fa579507",
   "metadata": {
    "papermill": {
     "duration": 0.007564,
     "end_time": "2022-07-20T22:37:35.876954",
     "exception": false,
     "start_time": "2022-07-20T22:37:35.869390",
     "status": "completed"
    },
    "tags": []
   },
   "source": [
    "## **Imports**"
   ]
  },
  {
   "cell_type": "code",
   "execution_count": 1,
   "id": "418618e4",
   "metadata": {
    "execution": {
     "iopub.execute_input": "2022-07-20T22:37:35.892650Z",
     "iopub.status.busy": "2022-07-20T22:37:35.891832Z",
     "iopub.status.idle": "2022-07-20T22:37:37.754946Z",
     "shell.execute_reply": "2022-07-20T22:37:37.753744Z"
    },
    "papermill": {
     "duration": 1.874203,
     "end_time": "2022-07-20T22:37:37.757987",
     "exception": false,
     "start_time": "2022-07-20T22:37:35.883784",
     "status": "completed"
    },
    "tags": []
   },
   "outputs": [],
   "source": [
    "from pathlib import Path\n",
    "import numpy as np\n",
    "import pandas as pd\n",
    "pd.set_option('chained_assignment',None)\n",
    "import matplotlib.pyplot as plt\n",
    "from tqdm.notebook import tqdm\n",
    "import nibabel as nib\n",
    "\n",
    "import os\n",
    "import cv2\n",
    "from glob import glob\n",
    "import gc\n",
    "\n",
    "from sklearn.model_selection import StratifiedKFold, KFold, StratifiedGroupKFold,GroupKFold\n",
    "import pandas as pd\n",
    "pd.options.mode.chained_assignment = None "
   ]
  },
  {
   "cell_type": "markdown",
   "id": "61189e9f",
   "metadata": {
    "papermill": {
     "duration": 0.006202,
     "end_time": "2022-07-20T22:37:37.770807",
     "exception": false,
     "start_time": "2022-07-20T22:37:37.764605",
     "status": "completed"
    },
    "tags": []
   },
   "source": [
    "## **Goal**\n",
    "\n",
    "The Goal is to reconstrcut 3D Masks (from  provided RLE encodings)"
   ]
  },
  {
   "cell_type": "code",
   "execution_count": 2,
   "id": "153864be",
   "metadata": {
    "execution": {
     "iopub.execute_input": "2022-07-20T22:37:37.785891Z",
     "iopub.status.busy": "2022-07-20T22:37:37.785501Z",
     "iopub.status.idle": "2022-07-20T22:37:37.789906Z",
     "shell.execute_reply": "2022-07-20T22:37:37.788874Z"
    },
    "papermill": {
     "duration": 0.01476,
     "end_time": "2022-07-20T22:37:37.792137",
     "exception": false,
     "start_time": "2022-07-20T22:37:37.777377",
     "status": "completed"
    },
    "tags": []
   },
   "outputs": [],
   "source": [
    "TRAIN_ROOT_DIR = '../input/uw-madison-gi-tract-image-segmentation/train'\n",
    "TEST_ROOT_DIR = '../input/uw-madison-gi-tract-image-segmentation/test'"
   ]
  },
  {
   "cell_type": "code",
   "execution_count": 3,
   "id": "486b96ba",
   "metadata": {
    "execution": {
     "iopub.execute_input": "2022-07-20T22:37:37.807585Z",
     "iopub.status.busy": "2022-07-20T22:37:37.806785Z",
     "iopub.status.idle": "2022-07-20T22:37:38.384978Z",
     "shell.execute_reply": "2022-07-20T22:37:38.382693Z"
    },
    "papermill": {
     "duration": 0.589377,
     "end_time": "2022-07-20T22:37:38.388158",
     "exception": false,
     "start_time": "2022-07-20T22:37:37.798781",
     "status": "completed"
    },
    "tags": []
   },
   "outputs": [
    {
     "name": "stdout",
     "output_type": "stream",
     "text": [
      "(115488, 3)\n"
     ]
    },
    {
     "data": {
      "text/html": [
       "<div>\n",
       "<style scoped>\n",
       "    .dataframe tbody tr th:only-of-type {\n",
       "        vertical-align: middle;\n",
       "    }\n",
       "\n",
       "    .dataframe tbody tr th {\n",
       "        vertical-align: top;\n",
       "    }\n",
       "\n",
       "    .dataframe thead th {\n",
       "        text-align: right;\n",
       "    }\n",
       "</style>\n",
       "<table border=\"1\" class=\"dataframe\">\n",
       "  <thead>\n",
       "    <tr style=\"text-align: right;\">\n",
       "      <th></th>\n",
       "      <th>id</th>\n",
       "      <th>class</th>\n",
       "      <th>segmentation</th>\n",
       "    </tr>\n",
       "  </thead>\n",
       "  <tbody>\n",
       "    <tr>\n",
       "      <th>0</th>\n",
       "      <td>case123_day20_slice_0001</td>\n",
       "      <td>large_bowel</td>\n",
       "      <td>NaN</td>\n",
       "    </tr>\n",
       "    <tr>\n",
       "      <th>1</th>\n",
       "      <td>case123_day20_slice_0001</td>\n",
       "      <td>small_bowel</td>\n",
       "      <td>NaN</td>\n",
       "    </tr>\n",
       "    <tr>\n",
       "      <th>2</th>\n",
       "      <td>case123_day20_slice_0001</td>\n",
       "      <td>stomach</td>\n",
       "      <td>NaN</td>\n",
       "    </tr>\n",
       "    <tr>\n",
       "      <th>3</th>\n",
       "      <td>case123_day20_slice_0002</td>\n",
       "      <td>large_bowel</td>\n",
       "      <td>NaN</td>\n",
       "    </tr>\n",
       "    <tr>\n",
       "      <th>4</th>\n",
       "      <td>case123_day20_slice_0002</td>\n",
       "      <td>small_bowel</td>\n",
       "      <td>NaN</td>\n",
       "    </tr>\n",
       "  </tbody>\n",
       "</table>\n",
       "</div>"
      ],
      "text/plain": [
       "                         id        class segmentation\n",
       "0  case123_day20_slice_0001  large_bowel          NaN\n",
       "1  case123_day20_slice_0001  small_bowel          NaN\n",
       "2  case123_day20_slice_0001      stomach          NaN\n",
       "3  case123_day20_slice_0002  large_bowel          NaN\n",
       "4  case123_day20_slice_0002  small_bowel          NaN"
      ]
     },
     "execution_count": 3,
     "metadata": {},
     "output_type": "execute_result"
    }
   ],
   "source": [
    "train_df_original = pd.read_csv('../input/uw-madison-gi-tract-image-segmentation/train.csv')\n",
    "\n",
    "print(train_df_original.shape)\n",
    "train_df_original.head()"
   ]
  },
  {
   "cell_type": "markdown",
   "id": "e7885b7f",
   "metadata": {
    "papermill": {
     "duration": 0.006675,
     "end_time": "2022-07-20T22:37:38.402134",
     "exception": false,
     "start_time": "2022-07-20T22:37:38.395459",
     "status": "completed"
    },
    "tags": []
   },
   "source": [
    "\n",
    "## **Helper function: Prepare a DataFrame from the Images Folder**\n"
   ]
  },
  {
   "cell_type": "code",
   "execution_count": 4,
   "id": "67b92f0f",
   "metadata": {
    "execution": {
     "iopub.execute_input": "2022-07-20T22:37:38.418038Z",
     "iopub.status.busy": "2022-07-20T22:37:38.417320Z",
     "iopub.status.idle": "2022-07-20T22:37:38.430083Z",
     "shell.execute_reply": "2022-07-20T22:37:38.428782Z"
    },
    "papermill": {
     "duration": 0.023697,
     "end_time": "2022-07-20T22:37:38.432784",
     "exception": false,
     "start_time": "2022-07-20T22:37:38.409087",
     "status": "completed"
    },
    "tags": []
   },
   "outputs": [],
   "source": [
    "def prepare_df(df, root_dir):\n",
    "    all_images = []\n",
    "    for path in Path(root_dir).rglob('*.png'):\n",
    "\n",
    "        parts = path.parts\n",
    "        dict_path = {}\n",
    "        case_str = parts[4][4:]\n",
    "        day_str = parts[5].split('_')[1][3:]\n",
    "        dict_path['case'] = int(case_str)\n",
    "        dict_path['day'] = int(day_str)\n",
    "        dict_path['slice'] = int(parts[7].split('_')[1])\n",
    "        slice_str = '_'.join(parts[7].split('_')[0:2])\n",
    "        #dict_path['PosixPath'] = path\n",
    "        dict_path['path'] = str(path)\n",
    "        dict_path['join_col'] = 'case'+ case_str + '_'+ 'day' + day_str + '_' + slice_str\n",
    "        dict_path['height'] = int(dict_path['path'].split('/')[7].split('_')[2])\n",
    "        dict_path['width'] = int(dict_path['path'].split('/')[7].split('_')[3])\n",
    "        dict_path['subject'] = case_str + '_'+ day_str\n",
    "        all_images.append(dict_path)\n",
    "    \n",
    "    # Only contains 1/3 length of the orginal df(where each slice is repeated 3 times )\n",
    "    df_1_3 = pd.DataFrame(all_images) \n",
    "    # Get the final dataframe with the same length of the original one...\n",
    "    df_final = pd.merge(df, df_1_3, left_on = 'id', right_on = 'join_col')\n",
    "    df_final = df_final.drop('join_col', axis=1)\n",
    "\n",
    "    return df_final"
   ]
  },
  {
   "cell_type": "markdown",
   "id": "db00d8cb",
   "metadata": {
    "papermill": {
     "duration": 0.007084,
     "end_time": "2022-07-20T22:37:38.446767",
     "exception": false,
     "start_time": "2022-07-20T22:37:38.439683",
     "status": "completed"
    },
    "tags": []
   },
   "source": [
    "\n",
    "## **Helper function: Rearrange the DataFrame**\n"
   ]
  },
  {
   "cell_type": "code",
   "execution_count": 5,
   "id": "35263581",
   "metadata": {
    "execution": {
     "iopub.execute_input": "2022-07-20T22:37:38.462661Z",
     "iopub.status.busy": "2022-07-20T22:37:38.462226Z",
     "iopub.status.idle": "2022-07-20T22:37:38.474167Z",
     "shell.execute_reply": "2022-07-20T22:37:38.472833Z"
    },
    "papermill": {
     "duration": 0.022824,
     "end_time": "2022-07-20T22:37:38.476654",
     "exception": false,
     "start_time": "2022-07-20T22:37:38.453830",
     "status": "completed"
    },
    "tags": []
   },
   "outputs": [],
   "source": [
    "def rearrange_df(df):\n",
    "    \"\"\" \n",
    "    Rearrange data in the the prepared DataFrame (train_df or test_df).\n",
    "    For each id (repeated 3 times),it creates 3 associated columns representing the segmentation \n",
    "    for the 3 classes:'large_bowel', 'small_bowel', 'stomach' \n",
    "    \"\"\"\n",
    "    # I keep only one id (so that it is not repeated 3 times)\n",
    "    df_rearranged = pd.DataFrame({\"id\": df[\"id\"][::3]}) \n",
    "    df_rearranged[\"large_bowel\"] = df[\"segmentation\"][::3].values\n",
    "    df_rearranged[\"small_bowel\"] = df[\"segmentation\"][1::3].values\n",
    "    df_rearranged[\"stomach\"] = df[\"segmentation\"][2::3].values\n",
    "\n",
    "    # Adjust the corresponding other columns\n",
    "    df_rearranged[\"case\"] = df[\"case\"][::3].values\n",
    "    df_rearranged[\"day\"] = df[\"day\"][::3].values\n",
    "    df_rearranged[\"subject\"] = df[\"subject\"][::3].values\n",
    "    df_rearranged[\"slice\"] = df[\"slice\"][::3].values\n",
    "    df_rearranged[\"path\"] = df[\"path\"][::3].values\n",
    "    df_rearranged[\"width\"] = df[\"width\"][::3].values\n",
    "    df_rearranged[\"height\"] = df[\"height\"][::3].values\n",
    "    \n",
    "    df_rearranged = df_rearranged.reset_index(drop=True)\n",
    "    df_rearranged = df_rearranged.fillna(\"\")\n",
    "    # I count the classes for which we have segmentation (I mean rle encoding),\n",
    "    # I'll use it for the validation strategy\n",
    "    # 0: No segmentation\n",
    "    # 1: Only one class for which we have segmentation\n",
    "    # 2: Only 2 classes for which we have segmentation\n",
    "    # 3: we have segmentation for the 3 classes\n",
    "    #df_rearranged[\"count\"] = np.sum(~df_rearranged.iloc[:, 1:4].isnull(), axis=1).values\n",
    "    df_rearranged[\"count\"] = np.sum(df_rearranged.iloc[:, 1:4] != \"\", axis=1).values\n",
    "    \n",
    "   \n",
    "    return df_rearranged"
   ]
  },
  {
   "cell_type": "code",
   "execution_count": 6,
   "id": "d522504f",
   "metadata": {
    "execution": {
     "iopub.execute_input": "2022-07-20T22:37:38.492646Z",
     "iopub.status.busy": "2022-07-20T22:37:38.492223Z",
     "iopub.status.idle": "2022-07-20T22:37:43.570351Z",
     "shell.execute_reply": "2022-07-20T22:37:43.569328Z"
    },
    "papermill": {
     "duration": 5.090102,
     "end_time": "2022-07-20T22:37:43.573622",
     "exception": false,
     "start_time": "2022-07-20T22:37:38.483520",
     "status": "completed"
    },
    "tags": []
   },
   "outputs": [],
   "source": [
    "train_df = prepare_df(train_df_original, TRAIN_ROOT_DIR)\n",
    "train_df_rearranged = rearrange_df(train_df)\n"
   ]
  },
  {
   "cell_type": "code",
   "execution_count": 7,
   "id": "5bd6e237",
   "metadata": {
    "execution": {
     "iopub.execute_input": "2022-07-20T22:37:43.590544Z",
     "iopub.status.busy": "2022-07-20T22:37:43.589547Z",
     "iopub.status.idle": "2022-07-20T22:37:43.635198Z",
     "shell.execute_reply": "2022-07-20T22:37:43.633802Z"
    },
    "papermill": {
     "duration": 0.05699,
     "end_time": "2022-07-20T22:37:43.638017",
     "exception": false,
     "start_time": "2022-07-20T22:37:43.581027",
     "status": "completed"
    },
    "tags": []
   },
   "outputs": [],
   "source": [
    "# According to this discussion : \n",
    "# https://www.kaggle.com/competitions/uw-madison-gi-tract-image-segmentation/discussion/319963#1763869\n",
    "# I'll remove misslabeled training data\n",
    "\n",
    "train_df_rearranged = train_df_rearranged[(train_df_rearranged['case']!=7)|(train_df_rearranged['day']!=0)]\n",
    "train_df_rearranged = train_df_rearranged.reset_index(drop=True)\n",
    "\n",
    "train_df_rearranged = train_df_rearranged[(train_df_rearranged['case']!=81)|(train_df_rearranged['day']!=30)]\n",
    "train_df_rearranged = train_df_rearranged.reset_index(drop=True)"
   ]
  },
  {
   "cell_type": "markdown",
   "id": "0d27502a",
   "metadata": {
    "papermill": {
     "duration": 0.007668,
     "end_time": "2022-07-20T22:37:43.653234",
     "exception": false,
     "start_time": "2022-07-20T22:37:43.645566",
     "status": "completed"
    },
    "tags": []
   },
   "source": [
    "### **slelected_fold = 2**"
   ]
  },
  {
   "cell_type": "code",
   "execution_count": 8,
   "id": "df29829a",
   "metadata": {
    "execution": {
     "iopub.execute_input": "2022-07-20T22:37:43.672472Z",
     "iopub.status.busy": "2022-07-20T22:37:43.671988Z",
     "iopub.status.idle": "2022-07-20T22:37:43.696040Z",
     "shell.execute_reply": "2022-07-20T22:37:43.694345Z"
    },
    "papermill": {
     "duration": 0.0368,
     "end_time": "2022-07-20T22:37:43.699113",
     "exception": false,
     "start_time": "2022-07-20T22:37:43.662313",
     "status": "completed"
    },
    "tags": []
   },
   "outputs": [],
   "source": [
    "# It is important to have a good validation strategy\n",
    "# the whole case (with all its slices) should not be present in the two sets : train & validation\n",
    "\n",
    "sgkf = GroupKFold(n_splits=5)\n",
    "\n",
    "for fold, (_, val_idx) in enumerate(sgkf.split(X=train_df_rearranged,groups=train_df_rearranged[\"case\"]),1): # the 1st fold has index 1 not 0\n",
    "    train_df_rearranged.loc[val_idx, \"fold\"] = fold\n",
    "\n",
    "train_df_rearranged[\"fold\"] = train_df_rearranged[\"fold\"].astype(np.uint8)"
   ]
  },
  {
   "cell_type": "code",
   "execution_count": 9,
   "id": "c25cbbfa",
   "metadata": {
    "execution": {
     "iopub.execute_input": "2022-07-20T22:37:43.716276Z",
     "iopub.status.busy": "2022-07-20T22:37:43.715493Z",
     "iopub.status.idle": "2022-07-20T22:37:43.749232Z",
     "shell.execute_reply": "2022-07-20T22:37:43.747328Z"
    },
    "papermill": {
     "duration": 0.045866,
     "end_time": "2022-07-20T22:37:43.752395",
     "exception": false,
     "start_time": "2022-07-20T22:37:43.706529",
     "status": "completed"
    },
    "tags": []
   },
   "outputs": [],
   "source": [
    "# For experiment X_train & X_val if the fold = 1\n",
    "fold_selected = 2\n",
    "train_ids = train_df_rearranged[train_df_rearranged[\"fold\"] != fold_selected].index\n",
    "valid_ids = train_df_rearranged[train_df_rearranged[\"fold\"] == fold_selected].index\n",
    "\n",
    "X_train = train_df_rearranged[train_df_rearranged.index.isin(train_ids)]\n",
    "X_valid = train_df_rearranged[train_df_rearranged.index.isin(valid_ids)]\n"
   ]
  },
  {
   "cell_type": "markdown",
   "id": "6985b838",
   "metadata": {
    "papermill": {
     "duration": 0.007307,
     "end_time": "2022-07-20T22:37:43.766747",
     "exception": false,
     "start_time": "2022-07-20T22:37:43.759440",
     "status": "completed"
    },
    "tags": []
   },
   "source": [
    "## **Create masks arrays from RLE encodings**"
   ]
  },
  {
   "cell_type": "code",
   "execution_count": 10,
   "id": "8e1afd5f",
   "metadata": {
    "execution": {
     "iopub.execute_input": "2022-07-20T22:37:43.783219Z",
     "iopub.status.busy": "2022-07-20T22:37:43.782825Z",
     "iopub.status.idle": "2022-07-20T22:37:43.792580Z",
     "shell.execute_reply": "2022-07-20T22:37:43.791193Z"
    },
    "papermill": {
     "duration": 0.020971,
     "end_time": "2022-07-20T22:37:43.795326",
     "exception": false,
     "start_time": "2022-07-20T22:37:43.774355",
     "status": "completed"
    },
    "tags": []
   },
   "outputs": [],
   "source": [
    "def rle2mask(mask_rle, shape, color=1):\n",
    "    '''\n",
    "    mask_rle: run-length as string formated (start length)\n",
    "    shape: (width,height) of array to return \n",
    "    Returns numpy array, color - mask, 0 - background\n",
    "\n",
    "    '''\n",
    "    s = mask_rle.split()\n",
    "    starts, lengths = [np.asarray(x, dtype=int) for x in (s[0:][::2], s[1:][::2])]\n",
    "    starts -= 1\n",
    "    ends = starts + lengths\n",
    "    img = np.zeros(shape[0]*shape[1], dtype=np.uint8)\n",
    "    for lo, hi in zip(starts, ends):\n",
    "        img[lo:hi] = color\n",
    "    return img.reshape(shape) "
   ]
  },
  {
   "cell_type": "markdown",
   "id": "63aa7fa7",
   "metadata": {
    "papermill": {
     "duration": 0.00715,
     "end_time": "2022-07-20T22:37:43.810624",
     "exception": false,
     "start_time": "2022-07-20T22:37:43.803474",
     "status": "completed"
    },
    "tags": []
   },
   "source": [
    "### **Developing a function to handle overlapping pixels**\n",
    "\n",
    "See the following notebook for further information on this matter of overlapping pixels (between classes):  \n",
    "\"02_Preprocess[3D masks]OverlappingPixels issue\""
   ]
  },
  {
   "cell_type": "code",
   "execution_count": 11,
   "id": "56f03772",
   "metadata": {
    "execution": {
     "iopub.execute_input": "2022-07-20T22:37:43.827599Z",
     "iopub.status.busy": "2022-07-20T22:37:43.826797Z",
     "iopub.status.idle": "2022-07-20T22:37:43.844009Z",
     "shell.execute_reply": "2022-07-20T22:37:43.842748Z"
    },
    "papermill": {
     "duration": 0.029074,
     "end_time": "2022-07-20T22:37:43.846833",
     "exception": false,
     "start_time": "2022-07-20T22:37:43.817759",
     "status": "completed"
    },
    "tags": []
   },
   "outputs": [],
   "source": [
    "# Create a function that deals with overlapping pixels according to the slice type\n",
    "#===========================\n",
    "# When count=1 => when we have one segmentation: large_bowel or small_bowel or stomach, it is\n",
    "# impossible to have overlapping pixels (since the RLE encoding was for one column, we can't have\n",
    "# for example, two columns of \"small_bowel\")\n",
    "#===========================\n",
    "# When count=2 => We have 3 cases of possible overlapping pixels: \n",
    "# according to each case, I will assign the overlapping pixels to one class of the two\n",
    "\n",
    "# large_bowel + small_bowel : 1+2 = 3 (type_slices['bk_large_small_bowel']=6) => assign to 1\n",
    "#(and it will be misleading with 3, since 3 is the class of stomach!) \n",
    "# large_bowel + stomach : 1+3 = 4 (type_slices['bk_largebowel_stomach']=5) => assign to 3(stomach)\n",
    "# small_bowel + stomach : 2+3 = 5 (type_slices['bk_smallbowel_stomach']=4) => assign to 3(stomach)\n",
    "#==========================\n",
    "# When count =3 ==> We have 4 cases of possible overlapping pixels\n",
    "# the 3 cases of count=2, above (because it is possible that only 2 classes overlap)\n",
    "# and the case when the 3 classes overlap\n",
    "\n",
    "# When count = 3, we have (04) possible cases of overlapping pixels.\n",
    "# The three cases of count = 2 above (because we can have only two classes that may overlap)\n",
    "# As well as the case where the three classes overlap (large_bowel+small_bowel+stomach = 6)\n",
    "# type_slices['bk_small_large_bowel_stomach']=7 \n",
    "\n",
    "# So when count=3 and When I have these 2 classes overlapping (small_bowel + large_bowel) \n",
    "#==> they have a value of 3, which is the same value as the stomach that coexists with them. \n",
    "# ==> I'll treat them using the column'mask_small_large' at the beginning, \n",
    "# before creating mask column.\n",
    "# in all the other cases :  \n",
    "# 3 classes overlap:large_bowel+small_bowel+stomach(1+2+3=6)=>assign overlapping pixels to3(stomach)\n",
    "# 2 classes overap : large_bowel + stomach (1+3=4) assign overlapping pixels to 3 (stomach)\n",
    "# 2 classes overlap : small_bowel + stomach (2+3=5) assign overlapping pixels to 3 (stomach)\n",
    "#===========================\n",
    "def create_2d_masks(df):\n",
    "    # class 'large_bowel' : 1 \n",
    "    df.loc[:,'large_bowel'] = df.apply(lambda x: cv2.resize(rle2mask(x['large_bowel'],\n",
    "                    shape = (x['width'],x['height']), color=1),(128,128)).astype(np.uint8),axis=1)\n",
    "    # class 'small_bowel' : 2\n",
    "    df.loc[:,'small_bowel'] = df.apply(lambda x: cv2.resize(rle2mask(x['small_bowel'],\n",
    "                    shape = (x['width'],x['height']), color=2),(128,128)).astype(np.uint8),axis=1)\n",
    "    # class 'stomack' : 3\n",
    "    df.loc[:,'stomach'] = df.apply(lambda x: cv2.resize(rle2mask(x['stomach'],\n",
    "                    shape = (x['width'],x['height']), color=3),(128,128)).astype(np.uint8),axis=1)\n",
    "\n",
    "    type_slices = {'background':0, 'bk_large_bowel':1,'bk_small_bowel':2,'bk_stomach':3,\n",
    "                             'bk_smallbowel_stomach':4,'bk_largebowel_stomach':5,\n",
    "                             'bk_large_small_bowel':6,'bk_small_large_bowel_stomach':7}\n",
    "    \n",
    "    df['mask_small_large'] = df['large_bowel'] + df['small_bowel'] \n",
    "    # I will treat the overlapping pixels (small_bowel+large_bowel=1+2=3, when count=3)\n",
    "    # That means when we have 3 segmentations on the mask, it will be confusing to have\n",
    "    # pixels with the value 3 (representing the class stomach), with the overlapping pixels 3\n",
    "    # as well as the case when count=2, when we have only small_bowel & large_bowel as segmentation\n",
    "    # and overlapping pixels 1+2 =3\n",
    "    # I will asiign the overlapping pixels to one class of them: 1 (large_bowel)\n",
    "    df['mask_s_l'] = df.apply(lambda x: np.where(x['mask_small_large']==3,1,x['mask_small_large']),\n",
    "                             axis=1)\n",
    "    \n",
    "    # Then, I will sum all segmentation in one mask\n",
    "    # In this column,mask,I am sure that all pixels with value=3, are representing the class stomach\n",
    "    # because all the overlapping pixels (large_bowel + small_bowel =1+2=3) have been treated above\n",
    "    # either for count = 2, or count = 3 (the only possible cases when this might happen).\n",
    "    df['mask_primary'] = df['mask_s_l'] + df['stomach']\n",
    "    \n",
    "    # All the other cases of possible overlapping pixels are:\n",
    "    # for count=2: large_bowel +stomach 1+3=4/ small_bowel+ stomach 2+3=5 \n",
    "    # for count=3: 3 sub-cases: small_bowel+large_bowel+stomach 1+2+3=6 /\n",
    "    # large_bowel+stomach 1+3=4 and small_bowel+ stomach 2+3=5 (under count=3)\n",
    "    # ==> for all these cases, the stomach is the element in commun=> I'll assign\n",
    "    # all these overlapping pixels to the class 3 (stomach)\n",
    "    df['mask'] = df.apply(lambda x: np.where(x['mask_primary']>3,3,x['mask_primary']), axis=1)\n",
    "    \n",
    "    df.drop(['large_bowel','small_bowel','stomach','mask_small_large','mask_s_l','mask_primary'],\n",
    "            axis=1,inplace=True)\n",
    "\n",
    "    gc.collect()\n",
    "    gc.collect(generation=2)\n",
    "    return df"
   ]
  },
  {
   "cell_type": "code",
   "execution_count": 12,
   "id": "9d448fda",
   "metadata": {
    "execution": {
     "iopub.execute_input": "2022-07-20T22:37:43.864265Z",
     "iopub.status.busy": "2022-07-20T22:37:43.863521Z",
     "iopub.status.idle": "2022-07-20T22:38:03.399676Z",
     "shell.execute_reply": "2022-07-20T22:38:03.398647Z"
    },
    "papermill": {
     "duration": 19.54849,
     "end_time": "2022-07-20T22:38:03.402787",
     "exception": false,
     "start_time": "2022-07-20T22:37:43.854297",
     "status": "completed"
    },
    "tags": []
   },
   "outputs": [],
   "source": [
    "# Create 2D masks without overlapping pixels between classes\n",
    "X_train_with_2dmasks = create_2d_masks(X_train)\n",
    "X_valid_with_2dmasks = create_2d_masks(X_valid)"
   ]
  },
  {
   "cell_type": "markdown",
   "id": "f42f8ece",
   "metadata": {
    "papermill": {
     "duration": 0.006647,
     "end_time": "2022-07-20T22:38:03.416569",
     "exception": false,
     "start_time": "2022-07-20T22:38:03.409922",
     "status": "completed"
    },
    "tags": []
   },
   "source": [
    "## **Create the 3D masks**"
   ]
  },
  {
   "cell_type": "code",
   "execution_count": 13,
   "id": "e948aa25",
   "metadata": {
    "execution": {
     "iopub.execute_input": "2022-07-20T22:38:03.432639Z",
     "iopub.status.busy": "2022-07-20T22:38:03.432212Z",
     "iopub.status.idle": "2022-07-20T22:38:03.439971Z",
     "shell.execute_reply": "2022-07-20T22:38:03.439043Z"
    },
    "papermill": {
     "duration": 0.018948,
     "end_time": "2022-07-20T22:38:03.442441",
     "exception": false,
     "start_time": "2022-07-20T22:38:03.423493",
     "status": "completed"
    },
    "tags": []
   },
   "outputs": [],
   "source": [
    "def create_3d_masks(df, root):\n",
    "    root_path = Path(root)\n",
    "    root_path.mkdir(parents=True, exist_ok=True)\n",
    " \n",
    "    for subject, list_masks in list(df.groupby('subject')['mask']):\n",
    "        mask_subject = np.asarray(list(list_masks)).astype(np.uint8)\n",
    "        mask_subject = np.swapaxes(mask_subject, 0, 2) # (num_slices,w,h) --> (h, w, num_slices)\n",
    "        mask_subject = np.swapaxes(mask_subject, 0, 1) # (h,w, num_slices) --> (w,h,num_slices)\n",
    "        mask_subject_nifti = nib.Nifti1Image(mask_subject, affine=np.eye(4))\n",
    "        nib.save(mask_subject_nifti,  root+subject+'.nii.gz')\n",
    "        \n",
    "    "
   ]
  },
  {
   "cell_type": "code",
   "execution_count": 14,
   "id": "f0b86f2a",
   "metadata": {
    "execution": {
     "iopub.execute_input": "2022-07-20T22:38:03.458928Z",
     "iopub.status.busy": "2022-07-20T22:38:03.458024Z",
     "iopub.status.idle": "2022-07-20T22:38:08.802355Z",
     "shell.execute_reply": "2022-07-20T22:38:08.801247Z"
    },
    "papermill": {
     "duration": 5.355762,
     "end_time": "2022-07-20T22:38:08.805145",
     "exception": false,
     "start_time": "2022-07-20T22:38:03.449383",
     "status": "completed"
    },
    "tags": []
   },
   "outputs": [],
   "source": [
    "create_3d_masks(X_train_with_2dmasks, root='./masks/train/')"
   ]
  },
  {
   "cell_type": "code",
   "execution_count": 15,
   "id": "29c07b73",
   "metadata": {
    "execution": {
     "iopub.execute_input": "2022-07-20T22:38:08.821465Z",
     "iopub.status.busy": "2022-07-20T22:38:08.821000Z",
     "iopub.status.idle": "2022-07-20T22:38:10.139478Z",
     "shell.execute_reply": "2022-07-20T22:38:10.138401Z"
    },
    "papermill": {
     "duration": 1.329711,
     "end_time": "2022-07-20T22:38:10.142363",
     "exception": false,
     "start_time": "2022-07-20T22:38:08.812652",
     "status": "completed"
    },
    "tags": []
   },
   "outputs": [],
   "source": [
    "create_3d_masks(X_valid_with_2dmasks, root='./masks/val/')"
   ]
  }
 ],
 "metadata": {
  "kernelspec": {
   "display_name": "Python 3",
   "language": "python",
   "name": "python3"
  },
  "language_info": {
   "codemirror_mode": {
    "name": "ipython",
    "version": 3
   },
   "file_extension": ".py",
   "mimetype": "text/x-python",
   "name": "python",
   "nbconvert_exporter": "python",
   "pygments_lexer": "ipython3",
   "version": "3.7.12"
  },
  "papermill": {
   "default_parameters": {},
   "duration": 46.230992,
   "end_time": "2022-07-20T22:38:11.173292",
   "environment_variables": {},
   "exception": null,
   "input_path": "__notebook__.ipynb",
   "output_path": "__notebook__.ipynb",
   "parameters": {},
   "start_time": "2022-07-20T22:37:24.942300",
   "version": "2.3.4"
  }
 },
 "nbformat": 4,
 "nbformat_minor": 5
}
