{
 "cells": [
  {
   "cell_type": "markdown",
   "id": "6ff2cf3d",
   "metadata": {
    "papermill": {
     "duration": 0.008441,
     "end_time": "2022-07-20T22:45:20.675567",
     "exception": false,
     "start_time": "2022-07-20T22:45:20.667126",
     "status": "completed"
    },
    "tags": []
   },
   "source": [
    "## **Imports**"
   ]
  },
  {
   "cell_type": "code",
   "execution_count": 1,
   "id": "fd74aa70",
   "metadata": {
    "execution": {
     "iopub.execute_input": "2022-07-20T22:45:20.693567Z",
     "iopub.status.busy": "2022-07-20T22:45:20.692191Z",
     "iopub.status.idle": "2022-07-20T22:45:22.604097Z",
     "shell.execute_reply": "2022-07-20T22:45:22.602887Z"
    },
    "papermill": {
     "duration": 1.923539,
     "end_time": "2022-07-20T22:45:22.606896",
     "exception": false,
     "start_time": "2022-07-20T22:45:20.683357",
     "status": "completed"
    },
    "tags": []
   },
   "outputs": [],
   "source": [
    "from pathlib import Path\n",
    "import numpy as np\n",
    "import pandas as pd\n",
    "pd.set_option('chained_assignment',None)\n",
    "import matplotlib.pyplot as plt\n",
    "from tqdm.notebook import tqdm\n",
    "import nibabel as nib\n",
    "\n",
    "import os\n",
    "import cv2\n",
    "from glob import glob\n",
    "import gc\n",
    "\n",
    "from sklearn.model_selection import StratifiedKFold, KFold, StratifiedGroupKFold,GroupKFold\n",
    "import pandas as pd\n",
    "pd.options.mode.chained_assignment = None "
   ]
  },
  {
   "cell_type": "markdown",
   "id": "be3e68b9",
   "metadata": {
    "papermill": {
     "duration": 0.007033,
     "end_time": "2022-07-20T22:45:22.621459",
     "exception": false,
     "start_time": "2022-07-20T22:45:22.614426",
     "status": "completed"
    },
    "tags": []
   },
   "source": [
    "## **Goal**\n",
    "\n",
    "The Goal is to reconstrcut 3D Masks (from  provided RLE encodings)"
   ]
  },
  {
   "cell_type": "code",
   "execution_count": 2,
   "id": "1f4b8289",
   "metadata": {
    "execution": {
     "iopub.execute_input": "2022-07-20T22:45:22.638735Z",
     "iopub.status.busy": "2022-07-20T22:45:22.638347Z",
     "iopub.status.idle": "2022-07-20T22:45:22.642767Z",
     "shell.execute_reply": "2022-07-20T22:45:22.641915Z"
    },
    "papermill": {
     "duration": 0.015809,
     "end_time": "2022-07-20T22:45:22.644748",
     "exception": false,
     "start_time": "2022-07-20T22:45:22.628939",
     "status": "completed"
    },
    "tags": []
   },
   "outputs": [],
   "source": [
    "TRAIN_ROOT_DIR = '../input/uw-madison-gi-tract-image-segmentation/train'\n",
    "TEST_ROOT_DIR = '../input/uw-madison-gi-tract-image-segmentation/test'"
   ]
  },
  {
   "cell_type": "code",
   "execution_count": 3,
   "id": "a3781d33",
   "metadata": {
    "execution": {
     "iopub.execute_input": "2022-07-20T22:45:22.663243Z",
     "iopub.status.busy": "2022-07-20T22:45:22.661860Z",
     "iopub.status.idle": "2022-07-20T22:45:23.357478Z",
     "shell.execute_reply": "2022-07-20T22:45:23.356433Z"
    },
    "papermill": {
     "duration": 0.708423,
     "end_time": "2022-07-20T22:45:23.360948",
     "exception": false,
     "start_time": "2022-07-20T22:45:22.652525",
     "status": "completed"
    },
    "tags": []
   },
   "outputs": [
    {
     "name": "stdout",
     "output_type": "stream",
     "text": [
      "(115488, 3)\n"
     ]
    },
    {
     "data": {
      "text/html": [
       "<div>\n",
       "<style scoped>\n",
       "    .dataframe tbody tr th:only-of-type {\n",
       "        vertical-align: middle;\n",
       "    }\n",
       "\n",
       "    .dataframe tbody tr th {\n",
       "        vertical-align: top;\n",
       "    }\n",
       "\n",
       "    .dataframe thead th {\n",
       "        text-align: right;\n",
       "    }\n",
       "</style>\n",
       "<table border=\"1\" class=\"dataframe\">\n",
       "  <thead>\n",
       "    <tr style=\"text-align: right;\">\n",
       "      <th></th>\n",
       "      <th>id</th>\n",
       "      <th>class</th>\n",
       "      <th>segmentation</th>\n",
       "    </tr>\n",
       "  </thead>\n",
       "  <tbody>\n",
       "    <tr>\n",
       "      <th>0</th>\n",
       "      <td>case123_day20_slice_0001</td>\n",
       "      <td>large_bowel</td>\n",
       "      <td>NaN</td>\n",
       "    </tr>\n",
       "    <tr>\n",
       "      <th>1</th>\n",
       "      <td>case123_day20_slice_0001</td>\n",
       "      <td>small_bowel</td>\n",
       "      <td>NaN</td>\n",
       "    </tr>\n",
       "    <tr>\n",
       "      <th>2</th>\n",
       "      <td>case123_day20_slice_0001</td>\n",
       "      <td>stomach</td>\n",
       "      <td>NaN</td>\n",
       "    </tr>\n",
       "    <tr>\n",
       "      <th>3</th>\n",
       "      <td>case123_day20_slice_0002</td>\n",
       "      <td>large_bowel</td>\n",
       "      <td>NaN</td>\n",
       "    </tr>\n",
       "    <tr>\n",
       "      <th>4</th>\n",
       "      <td>case123_day20_slice_0002</td>\n",
       "      <td>small_bowel</td>\n",
       "      <td>NaN</td>\n",
       "    </tr>\n",
       "  </tbody>\n",
       "</table>\n",
       "</div>"
      ],
      "text/plain": [
       "                         id        class segmentation\n",
       "0  case123_day20_slice_0001  large_bowel          NaN\n",
       "1  case123_day20_slice_0001  small_bowel          NaN\n",
       "2  case123_day20_slice_0001      stomach          NaN\n",
       "3  case123_day20_slice_0002  large_bowel          NaN\n",
       "4  case123_day20_slice_0002  small_bowel          NaN"
      ]
     },
     "execution_count": 3,
     "metadata": {},
     "output_type": "execute_result"
    }
   ],
   "source": [
    "train_df_original = pd.read_csv('../input/uw-madison-gi-tract-image-segmentation/train.csv')\n",
    "\n",
    "print(train_df_original.shape)\n",
    "train_df_original.head()"
   ]
  },
  {
   "cell_type": "markdown",
   "id": "6a11b5ef",
   "metadata": {
    "papermill": {
     "duration": 0.007656,
     "end_time": "2022-07-20T22:45:23.377439",
     "exception": false,
     "start_time": "2022-07-20T22:45:23.369783",
     "status": "completed"
    },
    "tags": []
   },
   "source": [
    "\n",
    "## **Helper function: Prepare a DataFrame from the Images Folder**\n"
   ]
  },
  {
   "cell_type": "code",
   "execution_count": 4,
   "id": "fcb2f325",
   "metadata": {
    "execution": {
     "iopub.execute_input": "2022-07-20T22:45:23.395213Z",
     "iopub.status.busy": "2022-07-20T22:45:23.394828Z",
     "iopub.status.idle": "2022-07-20T22:45:23.408472Z",
     "shell.execute_reply": "2022-07-20T22:45:23.407474Z"
    },
    "papermill": {
     "duration": 0.025299,
     "end_time": "2022-07-20T22:45:23.410562",
     "exception": false,
     "start_time": "2022-07-20T22:45:23.385263",
     "status": "completed"
    },
    "tags": []
   },
   "outputs": [],
   "source": [
    "def prepare_df(df, root_dir):\n",
    "    all_images = []\n",
    "    for path in Path(root_dir).rglob('*.png'):\n",
    "\n",
    "        parts = path.parts\n",
    "        dict_path = {}\n",
    "        case_str = parts[4][4:]\n",
    "        day_str = parts[5].split('_')[1][3:]\n",
    "        dict_path['case'] = int(case_str)\n",
    "        dict_path['day'] = int(day_str)\n",
    "        dict_path['slice'] = int(parts[7].split('_')[1])\n",
    "        slice_str = '_'.join(parts[7].split('_')[0:2])\n",
    "        #dict_path['PosixPath'] = path\n",
    "        dict_path['path'] = str(path)\n",
    "        dict_path['join_col'] = 'case'+ case_str + '_'+ 'day' + day_str + '_' + slice_str\n",
    "        dict_path['height'] = int(dict_path['path'].split('/')[7].split('_')[2])\n",
    "        dict_path['width'] = int(dict_path['path'].split('/')[7].split('_')[3])\n",
    "        dict_path['subject'] = case_str + '_'+ day_str\n",
    "        all_images.append(dict_path)\n",
    "    \n",
    "    # Only contains 1/3 length of the orginal df(where each slice is repeated 3 times )\n",
    "    df_1_3 = pd.DataFrame(all_images) \n",
    "    # Get the final dataframe with the same length of the original one...\n",
    "    df_final = pd.merge(df, df_1_3, left_on = 'id', right_on = 'join_col')\n",
    "    df_final = df_final.drop('join_col', axis=1)\n",
    "\n",
    "    return df_final"
   ]
  },
  {
   "cell_type": "markdown",
   "id": "2898feae",
   "metadata": {
    "papermill": {
     "duration": 0.007331,
     "end_time": "2022-07-20T22:45:23.425883",
     "exception": false,
     "start_time": "2022-07-20T22:45:23.418552",
     "status": "completed"
    },
    "tags": []
   },
   "source": [
    "\n",
    "## **Helper function: Rearrange the DataFrame**\n"
   ]
  },
  {
   "cell_type": "code",
   "execution_count": 5,
   "id": "64e9c29b",
   "metadata": {
    "execution": {
     "iopub.execute_input": "2022-07-20T22:45:23.443708Z",
     "iopub.status.busy": "2022-07-20T22:45:23.443379Z",
     "iopub.status.idle": "2022-07-20T22:45:23.453277Z",
     "shell.execute_reply": "2022-07-20T22:45:23.452459Z"
    },
    "papermill": {
     "duration": 0.021541,
     "end_time": "2022-07-20T22:45:23.455511",
     "exception": false,
     "start_time": "2022-07-20T22:45:23.433970",
     "status": "completed"
    },
    "tags": []
   },
   "outputs": [],
   "source": [
    "def rearrange_df(df):\n",
    "    \"\"\" \n",
    "    Rearrange data in the the prepared DataFrame (train_df or test_df).\n",
    "    For each id (repeated 3 times),it creates 3 associated columns representing the segmentation \n",
    "    for the 3 classes:'large_bowel', 'small_bowel', 'stomach' \n",
    "    \"\"\"\n",
    "    # I keep only one id (so that it is not repeated 3 times)\n",
    "    df_rearranged = pd.DataFrame({\"id\": df[\"id\"][::3]}) \n",
    "    df_rearranged[\"large_bowel\"] = df[\"segmentation\"][::3].values\n",
    "    df_rearranged[\"small_bowel\"] = df[\"segmentation\"][1::3].values\n",
    "    df_rearranged[\"stomach\"] = df[\"segmentation\"][2::3].values\n",
    "\n",
    "    # Adjust the corresponding other columns\n",
    "    df_rearranged[\"case\"] = df[\"case\"][::3].values\n",
    "    df_rearranged[\"day\"] = df[\"day\"][::3].values\n",
    "    df_rearranged[\"subject\"] = df[\"subject\"][::3].values\n",
    "    df_rearranged[\"slice\"] = df[\"slice\"][::3].values\n",
    "    df_rearranged[\"path\"] = df[\"path\"][::3].values\n",
    "    df_rearranged[\"width\"] = df[\"width\"][::3].values\n",
    "    df_rearranged[\"height\"] = df[\"height\"][::3].values\n",
    "    \n",
    "    df_rearranged = df_rearranged.reset_index(drop=True)\n",
    "    df_rearranged = df_rearranged.fillna(\"\")\n",
    "    # I count the classes for which we have segmentation (I mean rle encoding),\n",
    "    # I'll use it for the validation strategy\n",
    "    # 0: No segmentation\n",
    "    # 1: Only one class for which we have segmentation\n",
    "    # 2: Only 2 classes for which we have segmentation\n",
    "    # 3: we have segmentation for the 3 classes\n",
    "    #df_rearranged[\"count\"] = np.sum(~df_rearranged.iloc[:, 1:4].isnull(), axis=1).values\n",
    "    df_rearranged[\"count\"] = np.sum(df_rearranged.iloc[:, 1:4] != \"\", axis=1).values\n",
    "    \n",
    "   \n",
    "    return df_rearranged"
   ]
  },
  {
   "cell_type": "code",
   "execution_count": 6,
   "id": "13ca0ec8",
   "metadata": {
    "execution": {
     "iopub.execute_input": "2022-07-20T22:45:23.473844Z",
     "iopub.status.busy": "2022-07-20T22:45:23.473220Z",
     "iopub.status.idle": "2022-07-20T22:45:29.724922Z",
     "shell.execute_reply": "2022-07-20T22:45:29.724140Z"
    },
    "papermill": {
     "duration": 6.263456,
     "end_time": "2022-07-20T22:45:29.727145",
     "exception": false,
     "start_time": "2022-07-20T22:45:23.463689",
     "status": "completed"
    },
    "tags": []
   },
   "outputs": [],
   "source": [
    "train_df = prepare_df(train_df_original, TRAIN_ROOT_DIR)\n",
    "train_df_rearranged = rearrange_df(train_df)\n"
   ]
  },
  {
   "cell_type": "code",
   "execution_count": 7,
   "id": "89d90b5b",
   "metadata": {
    "execution": {
     "iopub.execute_input": "2022-07-20T22:45:29.739486Z",
     "iopub.status.busy": "2022-07-20T22:45:29.738848Z",
     "iopub.status.idle": "2022-07-20T22:45:29.779887Z",
     "shell.execute_reply": "2022-07-20T22:45:29.778995Z"
    },
    "papermill": {
     "duration": 0.049712,
     "end_time": "2022-07-20T22:45:29.781938",
     "exception": false,
     "start_time": "2022-07-20T22:45:29.732226",
     "status": "completed"
    },
    "tags": []
   },
   "outputs": [],
   "source": [
    "# According to this discussion : \n",
    "# https://www.kaggle.com/competitions/uw-madison-gi-tract-image-segmentation/discussion/319963#1763869\n",
    "# I'll remove misslabeled training data\n",
    "\n",
    "train_df_rearranged = train_df_rearranged[(train_df_rearranged['case']!=7)|(train_df_rearranged['day']!=0)]\n",
    "train_df_rearranged = train_df_rearranged.reset_index(drop=True)\n",
    "\n",
    "train_df_rearranged = train_df_rearranged[(train_df_rearranged['case']!=81)|(train_df_rearranged['day']!=30)]\n",
    "train_df_rearranged = train_df_rearranged.reset_index(drop=True)"
   ]
  },
  {
   "cell_type": "markdown",
   "id": "7592645b",
   "metadata": {
    "papermill": {
     "duration": 0.00468,
     "end_time": "2022-07-20T22:45:29.791752",
     "exception": false,
     "start_time": "2022-07-20T22:45:29.787072",
     "status": "completed"
    },
    "tags": []
   },
   "source": [
    "### **slelected_fold = 4**"
   ]
  },
  {
   "cell_type": "code",
   "execution_count": 8,
   "id": "f2d5173c",
   "metadata": {
    "execution": {
     "iopub.execute_input": "2022-07-20T22:45:29.802969Z",
     "iopub.status.busy": "2022-07-20T22:45:29.802435Z",
     "iopub.status.idle": "2022-07-20T22:45:29.821080Z",
     "shell.execute_reply": "2022-07-20T22:45:29.819734Z"
    },
    "papermill": {
     "duration": 0.026916,
     "end_time": "2022-07-20T22:45:29.823365",
     "exception": false,
     "start_time": "2022-07-20T22:45:29.796449",
     "status": "completed"
    },
    "tags": []
   },
   "outputs": [],
   "source": [
    "# It is important to have a good validation strategy\n",
    "# the whole case (with all its slices) should not be present in the two sets : train & validation\n",
    "\n",
    "sgkf = GroupKFold(n_splits=5)\n",
    "\n",
    "for fold, (_, val_idx) in enumerate(sgkf.split(X=train_df_rearranged,groups=train_df_rearranged[\"case\"]),1): # the 1st fold has index 1 not 0\n",
    "    train_df_rearranged.loc[val_idx, \"fold\"] = fold\n",
    "\n",
    "train_df_rearranged[\"fold\"] = train_df_rearranged[\"fold\"].astype(np.uint8)"
   ]
  },
  {
   "cell_type": "code",
   "execution_count": 9,
   "id": "b979bb80",
   "metadata": {
    "execution": {
     "iopub.execute_input": "2022-07-20T22:45:29.835336Z",
     "iopub.status.busy": "2022-07-20T22:45:29.834937Z",
     "iopub.status.idle": "2022-07-20T22:45:29.864296Z",
     "shell.execute_reply": "2022-07-20T22:45:29.862655Z"
    },
    "papermill": {
     "duration": 0.038461,
     "end_time": "2022-07-20T22:45:29.866905",
     "exception": false,
     "start_time": "2022-07-20T22:45:29.828444",
     "status": "completed"
    },
    "tags": []
   },
   "outputs": [],
   "source": [
    "# For experiment X_train & X_val if the fold = 1\n",
    "fold_selected = 4\n",
    "train_ids = train_df_rearranged[train_df_rearranged[\"fold\"] != fold_selected].index\n",
    "valid_ids = train_df_rearranged[train_df_rearranged[\"fold\"] == fold_selected].index\n",
    "\n",
    "X_train = train_df_rearranged[train_df_rearranged.index.isin(train_ids)]\n",
    "X_valid = train_df_rearranged[train_df_rearranged.index.isin(valid_ids)]\n"
   ]
  },
  {
   "cell_type": "markdown",
   "id": "7fce09cf",
   "metadata": {
    "papermill": {
     "duration": 0.006323,
     "end_time": "2022-07-20T22:45:29.878618",
     "exception": false,
     "start_time": "2022-07-20T22:45:29.872295",
     "status": "completed"
    },
    "tags": []
   },
   "source": [
    "## **Create masks arrays from RLE encodings**"
   ]
  },
  {
   "cell_type": "code",
   "execution_count": 10,
   "id": "e5227673",
   "metadata": {
    "execution": {
     "iopub.execute_input": "2022-07-20T22:45:29.892077Z",
     "iopub.status.busy": "2022-07-20T22:45:29.891492Z",
     "iopub.status.idle": "2022-07-20T22:45:29.899727Z",
     "shell.execute_reply": "2022-07-20T22:45:29.898909Z"
    },
    "papermill": {
     "duration": 0.016995,
     "end_time": "2022-07-20T22:45:29.902107",
     "exception": false,
     "start_time": "2022-07-20T22:45:29.885112",
     "status": "completed"
    },
    "tags": []
   },
   "outputs": [],
   "source": [
    "def rle2mask(mask_rle, shape, color=1):\n",
    "    '''\n",
    "    mask_rle: run-length as string formated (start length)\n",
    "    shape: (width,height) of array to return \n",
    "    Returns numpy array, color - mask, 0 - background\n",
    "\n",
    "    '''\n",
    "    s = mask_rle.split()\n",
    "    starts, lengths = [np.asarray(x, dtype=int) for x in (s[0:][::2], s[1:][::2])]\n",
    "    starts -= 1\n",
    "    ends = starts + lengths\n",
    "    img = np.zeros(shape[0]*shape[1], dtype=np.uint8)\n",
    "    for lo, hi in zip(starts, ends):\n",
    "        img[lo:hi] = color\n",
    "    return img.reshape(shape) "
   ]
  },
  {
   "cell_type": "markdown",
   "id": "6f16e841",
   "metadata": {
    "papermill": {
     "duration": 0.004393,
     "end_time": "2022-07-20T22:45:29.913106",
     "exception": false,
     "start_time": "2022-07-20T22:45:29.908713",
     "status": "completed"
    },
    "tags": []
   },
   "source": [
    "### **Developing a function to handle overlapping pixels**\n",
    "\n",
    "See the following notebook for further information on this matter of overlapping pixels (between classes):  \n",
    "\"02_Preprocess[3D masks]OverlappingPixels issue\""
   ]
  },
  {
   "cell_type": "code",
   "execution_count": 11,
   "id": "0ccd2d45",
   "metadata": {
    "execution": {
     "iopub.execute_input": "2022-07-20T22:45:29.932935Z",
     "iopub.status.busy": "2022-07-20T22:45:29.931505Z",
     "iopub.status.idle": "2022-07-20T22:45:29.946976Z",
     "shell.execute_reply": "2022-07-20T22:45:29.946205Z"
    },
    "papermill": {
     "duration": 0.030887,
     "end_time": "2022-07-20T22:45:29.950211",
     "exception": false,
     "start_time": "2022-07-20T22:45:29.919324",
     "status": "completed"
    },
    "tags": []
   },
   "outputs": [],
   "source": [
    "# Create a function that deals with overlapping pixels according to the slice type\n",
    "#===========================\n",
    "# When count=1 => when we have one segmentation: large_bowel or small_bowel or stomach, it is\n",
    "# impossible to have overlapping pixels (since the RLE encoding was for one column, we can't have\n",
    "# for example, two columns of \"small_bowel\")\n",
    "#===========================\n",
    "# When count=2 => We have 3 cases of possible overlapping pixels: \n",
    "# according to each case, I will assign the overlapping pixels to one class of the two\n",
    "\n",
    "# large_bowel + small_bowel : 1+2 = 3 (type_slices['bk_large_small_bowel']=6) => assign to 1\n",
    "#(and it will be misleading with 3, since 3 is the class of stomach!) \n",
    "# large_bowel + stomach : 1+3 = 4 (type_slices['bk_largebowel_stomach']=5) => assign to 3(stomach)\n",
    "# small_bowel + stomach : 2+3 = 5 (type_slices['bk_smallbowel_stomach']=4) => assign to 3(stomach)\n",
    "#==========================\n",
    "# When count =3 ==> We have 4 cases of possible overlapping pixels\n",
    "# the 3 cases of count=2, above (because it is possible that only 2 classes overlap)\n",
    "# and the case when the 3 classes overlap\n",
    "\n",
    "# When count = 3, we have (04) possible cases of overlapping pixels.\n",
    "# The three cases of count = 2 above (because we can have only two classes that may overlap)\n",
    "# As well as the case where the three classes overlap (large_bowel+small_bowel+stomach = 6)\n",
    "# type_slices['bk_small_large_bowel_stomach']=7 \n",
    "\n",
    "# So when count=3 and When I have these 2 classes overlapping (small_bowel + large_bowel) \n",
    "#==> they have a value of 3, which is the same value as the stomach that coexists with them. \n",
    "# ==> I'll treat them using the column'mask_small_large' at the beginning, \n",
    "# before creating mask column.\n",
    "# in all the other cases :  \n",
    "# 3 classes overlap:large_bowel+small_bowel+stomach(1+2+3=6)=>assign overlapping pixels to3(stomach)\n",
    "# 2 classes overap : large_bowel + stomach (1+3=4) assign overlapping pixels to 3 (stomach)\n",
    "# 2 classes overlap : small_bowel + stomach (2+3=5) assign overlapping pixels to 3 (stomach)\n",
    "#===========================\n",
    "def create_2d_masks(df):\n",
    "    # class 'large_bowel' : 1 \n",
    "    df.loc[:,'large_bowel'] = df.apply(lambda x: cv2.resize(rle2mask(x['large_bowel'],\n",
    "                    shape = (x['width'],x['height']), color=1),(128,128)).astype(np.uint8),axis=1)\n",
    "    # class 'small_bowel' : 2\n",
    "    df.loc[:,'small_bowel'] = df.apply(lambda x: cv2.resize(rle2mask(x['small_bowel'],\n",
    "                    shape = (x['width'],x['height']), color=2),(128,128)).astype(np.uint8),axis=1)\n",
    "    # class 'stomack' : 3\n",
    "    df.loc[:,'stomach'] = df.apply(lambda x: cv2.resize(rle2mask(x['stomach'],\n",
    "                    shape = (x['width'],x['height']), color=3),(128,128)).astype(np.uint8),axis=1)\n",
    "\n",
    "    type_slices = {'background':0, 'bk_large_bowel':1,'bk_small_bowel':2,'bk_stomach':3,\n",
    "                             'bk_smallbowel_stomach':4,'bk_largebowel_stomach':5,\n",
    "                             'bk_large_small_bowel':6,'bk_small_large_bowel_stomach':7}\n",
    "    \n",
    "    df['mask_small_large'] = df['large_bowel'] + df['small_bowel'] \n",
    "    # I will treat the overlapping pixels (small_bowel+large_bowel=1+2=3, when count=3)\n",
    "    # That means when we have 3 segmentations on the mask, it will be confusing to have\n",
    "    # pixels with the value 3 (representing the class stomach), with the overlapping pixels 3\n",
    "    # as well as the case when count=2, when we have only small_bowel & large_bowel as segmentation\n",
    "    # and overlapping pixels 1+2 =3\n",
    "    # I will asiign the overlapping pixels to one class of them: 1 (large_bowel)\n",
    "    df['mask_s_l'] = df.apply(lambda x: np.where(x['mask_small_large']==3,1,x['mask_small_large']),\n",
    "                             axis=1)\n",
    "    \n",
    "    # Then, I will sum all segmentation in one mask\n",
    "    # In this column,mask,I am sure that all pixels with value=3, are representing the class stomach\n",
    "    # because all the overlapping pixels (large_bowel + small_bowel =1+2=3) have been treated above\n",
    "    # either for count = 2, or count = 3 (the only possible cases when this might happen).\n",
    "    df['mask_primary'] = df['mask_s_l'] + df['stomach']\n",
    "    \n",
    "    # All the other cases of possible overlapping pixels are:\n",
    "    # for count=2: large_bowel +stomach 1+3=4/ small_bowel+ stomach 2+3=5 \n",
    "    # for count=3: 3 sub-cases: small_bowel+large_bowel+stomach 1+2+3=6 /\n",
    "    # large_bowel+stomach 1+3=4 and small_bowel+ stomach 2+3=5 (under count=3)\n",
    "    # ==> for all these cases, the stomach is the element in commun=> I'll assign\n",
    "    # all these overlapping pixels to the class 3 (stomach)\n",
    "    df['mask'] = df.apply(lambda x: np.where(x['mask_primary']>3,3,x['mask_primary']), axis=1)\n",
    "    \n",
    "    df.drop(['large_bowel','small_bowel','stomach','mask_small_large','mask_s_l','mask_primary'],\n",
    "            axis=1,inplace=True)\n",
    "\n",
    "    gc.collect()\n",
    "    gc.collect(generation=2)\n",
    "    return df"
   ]
  },
  {
   "cell_type": "code",
   "execution_count": 12,
   "id": "86295ff8",
   "metadata": {
    "execution": {
     "iopub.execute_input": "2022-07-20T22:45:29.972434Z",
     "iopub.status.busy": "2022-07-20T22:45:29.971828Z",
     "iopub.status.idle": "2022-07-20T22:45:44.155030Z",
     "shell.execute_reply": "2022-07-20T22:45:44.154280Z"
    },
    "papermill": {
     "duration": 14.196947,
     "end_time": "2022-07-20T22:45:44.157450",
     "exception": false,
     "start_time": "2022-07-20T22:45:29.960503",
     "status": "completed"
    },
    "tags": []
   },
   "outputs": [],
   "source": [
    "# Create 2D masks without overlapping pixels between classes\n",
    "X_train_with_2dmasks = create_2d_masks(X_train)\n",
    "X_valid_with_2dmasks = create_2d_masks(X_valid)"
   ]
  },
  {
   "cell_type": "markdown",
   "id": "63d56d26",
   "metadata": {
    "papermill": {
     "duration": 0.007504,
     "end_time": "2022-07-20T22:45:44.172838",
     "exception": false,
     "start_time": "2022-07-20T22:45:44.165334",
     "status": "completed"
    },
    "tags": []
   },
   "source": [
    "## **Create the 3D masks**"
   ]
  },
  {
   "cell_type": "code",
   "execution_count": 13,
   "id": "c78572bb",
   "metadata": {
    "execution": {
     "iopub.execute_input": "2022-07-20T22:45:44.190965Z",
     "iopub.status.busy": "2022-07-20T22:45:44.190396Z",
     "iopub.status.idle": "2022-07-20T22:45:44.197044Z",
     "shell.execute_reply": "2022-07-20T22:45:44.195811Z"
    },
    "papermill": {
     "duration": 0.018081,
     "end_time": "2022-07-20T22:45:44.199455",
     "exception": false,
     "start_time": "2022-07-20T22:45:44.181374",
     "status": "completed"
    },
    "tags": []
   },
   "outputs": [],
   "source": [
    "def create_3d_masks(df, root):\n",
    "    root_path = Path(root)\n",
    "    root_path.mkdir(parents=True, exist_ok=True)\n",
    " \n",
    "    for subject, list_masks in list(df.groupby('subject')['mask']):\n",
    "        mask_subject = np.asarray(list(list_masks)).astype(np.uint8)\n",
    "        mask_subject = np.swapaxes(mask_subject, 0, 2) # (num_slices,w,h) --> (h, w, num_slices)\n",
    "        mask_subject = np.swapaxes(mask_subject, 0, 1) # (h,w, num_slices) --> (w,h,num_slices)\n",
    "        mask_subject_nifti = nib.Nifti1Image(mask_subject, affine=np.eye(4))\n",
    "        nib.save(mask_subject_nifti,  root+subject+'.nii.gz')\n",
    "        \n",
    "    "
   ]
  },
  {
   "cell_type": "code",
   "execution_count": 14,
   "id": "22662f32",
   "metadata": {
    "execution": {
     "iopub.execute_input": "2022-07-20T22:45:44.211088Z",
     "iopub.status.busy": "2022-07-20T22:45:44.210473Z",
     "iopub.status.idle": "2022-07-20T22:45:52.261648Z",
     "shell.execute_reply": "2022-07-20T22:45:52.260446Z"
    },
    "papermill": {
     "duration": 8.059607,
     "end_time": "2022-07-20T22:45:52.264131",
     "exception": false,
     "start_time": "2022-07-20T22:45:44.204524",
     "status": "completed"
    },
    "tags": []
   },
   "outputs": [],
   "source": [
    "create_3d_masks(X_train_with_2dmasks, root='./masks/train/')"
   ]
  },
  {
   "cell_type": "code",
   "execution_count": 15,
   "id": "d99de3c6",
   "metadata": {
    "execution": {
     "iopub.execute_input": "2022-07-20T22:45:52.275794Z",
     "iopub.status.busy": "2022-07-20T22:45:52.275397Z",
     "iopub.status.idle": "2022-07-20T22:45:54.271524Z",
     "shell.execute_reply": "2022-07-20T22:45:54.270328Z"
    },
    "papermill": {
     "duration": 2.004944,
     "end_time": "2022-07-20T22:45:54.274193",
     "exception": false,
     "start_time": "2022-07-20T22:45:52.269249",
     "status": "completed"
    },
    "tags": []
   },
   "outputs": [],
   "source": [
    "create_3d_masks(X_valid_with_2dmasks, root='./masks/val/')"
   ]
  }
 ],
 "metadata": {
  "kernelspec": {
   "display_name": "Python 3",
   "language": "python",
   "name": "python3"
  },
  "language_info": {
   "codemirror_mode": {
    "name": "ipython",
    "version": 3
   },
   "file_extension": ".py",
   "mimetype": "text/x-python",
   "name": "python",
   "nbconvert_exporter": "python",
   "pygments_lexer": "ipython3",
   "version": "3.7.12"
  },
  "papermill": {
   "default_parameters": {},
   "duration": 46.17243,
   "end_time": "2022-07-20T22:45:55.402500",
   "environment_variables": {},
   "exception": null,
   "input_path": "__notebook__.ipynb",
   "output_path": "__notebook__.ipynb",
   "parameters": {},
   "start_time": "2022-07-20T22:45:09.230070",
   "version": "2.3.4"
  }
 },
 "nbformat": 4,
 "nbformat_minor": 5
}
