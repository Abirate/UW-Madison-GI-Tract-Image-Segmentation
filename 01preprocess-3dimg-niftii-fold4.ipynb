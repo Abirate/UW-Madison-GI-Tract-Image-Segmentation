{
 "cells": [
  {
   "cell_type": "markdown",
   "id": "43712d06",
   "metadata": {
    "papermill": {
     "duration": 0.008684,
     "end_time": "2022-07-20T18:12:27.866710",
     "exception": false,
     "start_time": "2022-07-20T18:12:27.858026",
     "status": "completed"
    },
    "tags": []
   },
   "source": [
    "## **Imports**"
   ]
  },
  {
   "cell_type": "code",
   "execution_count": 1,
   "id": "d95cc335",
   "metadata": {
    "execution": {
     "iopub.execute_input": "2022-07-20T18:12:27.884519Z",
     "iopub.status.busy": "2022-07-20T18:12:27.883900Z",
     "iopub.status.idle": "2022-07-20T18:12:29.719150Z",
     "shell.execute_reply": "2022-07-20T18:12:29.717996Z"
    },
    "papermill": {
     "duration": 1.847642,
     "end_time": "2022-07-20T18:12:29.722142",
     "exception": false,
     "start_time": "2022-07-20T18:12:27.874500",
     "status": "completed"
    },
    "tags": []
   },
   "outputs": [],
   "source": [
    "from pathlib import Path\n",
    "import numpy as np\n",
    "import pandas as pd\n",
    "import matplotlib.pyplot as plt\n",
    "from tqdm.notebook import tqdm\n",
    "import nibabel as nib\n",
    "\n",
    "import os\n",
    "import cv2\n",
    "from glob import glob\n",
    "import gc\n",
    "\n",
    "from sklearn.model_selection import StratifiedKFold, KFold, StratifiedGroupKFold,GroupKFold"
   ]
  },
  {
   "cell_type": "markdown",
   "id": "3ff7e2f6",
   "metadata": {
    "papermill": {
     "duration": 0.007524,
     "end_time": "2022-07-20T18:12:29.737228",
     "exception": false,
     "start_time": "2022-07-20T18:12:29.729704",
     "status": "completed"
    },
    "tags": []
   },
   "source": [
    "## **Goal**\n",
    "The Goal is to reconstrcut 3D MRI Images (from all slices/ subject) "
   ]
  },
  {
   "cell_type": "code",
   "execution_count": 2,
   "id": "86772761",
   "metadata": {
    "execution": {
     "iopub.execute_input": "2022-07-20T18:12:29.755006Z",
     "iopub.status.busy": "2022-07-20T18:12:29.754598Z",
     "iopub.status.idle": "2022-07-20T18:12:29.759210Z",
     "shell.execute_reply": "2022-07-20T18:12:29.758075Z"
    },
    "papermill": {
     "duration": 0.016396,
     "end_time": "2022-07-20T18:12:29.761375",
     "exception": false,
     "start_time": "2022-07-20T18:12:29.744979",
     "status": "completed"
    },
    "tags": []
   },
   "outputs": [],
   "source": [
    "TRAIN_ROOT_DIR = '../input/uw-madison-gi-tract-image-segmentation/train'\n",
    "TEST_ROOT_DIR = '../input/uw-madison-gi-tract-image-segmentation/test'"
   ]
  },
  {
   "cell_type": "code",
   "execution_count": 3,
   "id": "1a68a70b",
   "metadata": {
    "execution": {
     "iopub.execute_input": "2022-07-20T18:12:29.778359Z",
     "iopub.status.busy": "2022-07-20T18:12:29.777934Z",
     "iopub.status.idle": "2022-07-20T18:12:30.488174Z",
     "shell.execute_reply": "2022-07-20T18:12:30.486440Z"
    },
    "papermill": {
     "duration": 0.722683,
     "end_time": "2022-07-20T18:12:30.491530",
     "exception": false,
     "start_time": "2022-07-20T18:12:29.768847",
     "status": "completed"
    },
    "tags": []
   },
   "outputs": [
    {
     "name": "stdout",
     "output_type": "stream",
     "text": [
      "(115488, 3)\n"
     ]
    },
    {
     "data": {
      "text/html": [
       "<div>\n",
       "<style scoped>\n",
       "    .dataframe tbody tr th:only-of-type {\n",
       "        vertical-align: middle;\n",
       "    }\n",
       "\n",
       "    .dataframe tbody tr th {\n",
       "        vertical-align: top;\n",
       "    }\n",
       "\n",
       "    .dataframe thead th {\n",
       "        text-align: right;\n",
       "    }\n",
       "</style>\n",
       "<table border=\"1\" class=\"dataframe\">\n",
       "  <thead>\n",
       "    <tr style=\"text-align: right;\">\n",
       "      <th></th>\n",
       "      <th>id</th>\n",
       "      <th>class</th>\n",
       "      <th>segmentation</th>\n",
       "    </tr>\n",
       "  </thead>\n",
       "  <tbody>\n",
       "    <tr>\n",
       "      <th>0</th>\n",
       "      <td>case123_day20_slice_0001</td>\n",
       "      <td>large_bowel</td>\n",
       "      <td>NaN</td>\n",
       "    </tr>\n",
       "    <tr>\n",
       "      <th>1</th>\n",
       "      <td>case123_day20_slice_0001</td>\n",
       "      <td>small_bowel</td>\n",
       "      <td>NaN</td>\n",
       "    </tr>\n",
       "    <tr>\n",
       "      <th>2</th>\n",
       "      <td>case123_day20_slice_0001</td>\n",
       "      <td>stomach</td>\n",
       "      <td>NaN</td>\n",
       "    </tr>\n",
       "    <tr>\n",
       "      <th>3</th>\n",
       "      <td>case123_day20_slice_0002</td>\n",
       "      <td>large_bowel</td>\n",
       "      <td>NaN</td>\n",
       "    </tr>\n",
       "    <tr>\n",
       "      <th>4</th>\n",
       "      <td>case123_day20_slice_0002</td>\n",
       "      <td>small_bowel</td>\n",
       "      <td>NaN</td>\n",
       "    </tr>\n",
       "  </tbody>\n",
       "</table>\n",
       "</div>"
      ],
      "text/plain": [
       "                         id        class segmentation\n",
       "0  case123_day20_slice_0001  large_bowel          NaN\n",
       "1  case123_day20_slice_0001  small_bowel          NaN\n",
       "2  case123_day20_slice_0001      stomach          NaN\n",
       "3  case123_day20_slice_0002  large_bowel          NaN\n",
       "4  case123_day20_slice_0002  small_bowel          NaN"
      ]
     },
     "execution_count": 3,
     "metadata": {},
     "output_type": "execute_result"
    }
   ],
   "source": [
    "train_df_original = pd.read_csv('../input/uw-madison-gi-tract-image-segmentation/train.csv')\n",
    "\n",
    "print(train_df_original.shape)\n",
    "train_df_original.head()\n"
   ]
  },
  {
   "cell_type": "markdown",
   "id": "94bccd5e",
   "metadata": {
    "papermill": {
     "duration": 0.007494,
     "end_time": "2022-07-20T18:12:30.507052",
     "exception": false,
     "start_time": "2022-07-20T18:12:30.499558",
     "status": "completed"
    },
    "tags": []
   },
   "source": [
    "### **Helper function: Prepare a DataFrame from the Images Folder**"
   ]
  },
  {
   "cell_type": "code",
   "execution_count": 4,
   "id": "53796214",
   "metadata": {
    "execution": {
     "iopub.execute_input": "2022-07-20T18:12:30.525081Z",
     "iopub.status.busy": "2022-07-20T18:12:30.524151Z",
     "iopub.status.idle": "2022-07-20T18:12:30.536956Z",
     "shell.execute_reply": "2022-07-20T18:12:30.535821Z"
    },
    "papermill": {
     "duration": 0.024548,
     "end_time": "2022-07-20T18:12:30.539439",
     "exception": false,
     "start_time": "2022-07-20T18:12:30.514891",
     "status": "completed"
    },
    "tags": []
   },
   "outputs": [],
   "source": [
    "def prepare_df(df, root_dir):\n",
    "    all_images = []\n",
    "    for path in Path(root_dir).rglob('*.png'):\n",
    "\n",
    "        parts = path.parts\n",
    "        dict_path = {}\n",
    "        case_str = parts[4][4:]\n",
    "        day_str = parts[5].split('_')[1][3:]\n",
    "        dict_path['case'] = int(case_str)\n",
    "        dict_path['day'] = int(day_str)\n",
    "        dict_path['slice'] = int(parts[7].split('_')[1])\n",
    "        slice_str = '_'.join(parts[7].split('_')[0:2])\n",
    "        #dict_path['PosixPath'] = path\n",
    "        dict_path['path'] = str(path)\n",
    "        dict_path['join_col'] = 'case'+ case_str + '_'+ 'day' + day_str + '_' + slice_str\n",
    "        dict_path['height'] = int(dict_path['path'].split('/')[7].split('_')[2])\n",
    "        dict_path['width'] = int(dict_path['path'].split('/')[7].split('_')[3])\n",
    "        dict_path['subject'] = case_str + '_'+ day_str\n",
    "        all_images.append(dict_path)\n",
    "    \n",
    "    # Only contains 1/3 length of the orginal df(where each slice is repeated 3 times )\n",
    "    df_1_3 = pd.DataFrame(all_images) \n",
    "    # Get the final dataframe with the same length of the original one...\n",
    "    df_final = pd.merge(df, df_1_3, left_on = 'id', right_on = 'join_col')\n",
    "    df_final = df_final.drop('join_col', axis=1)\n",
    "\n",
    "    return df_final"
   ]
  },
  {
   "cell_type": "code",
   "execution_count": 5,
   "id": "1d0fb179",
   "metadata": {
    "execution": {
     "iopub.execute_input": "2022-07-20T18:12:30.557355Z",
     "iopub.status.busy": "2022-07-20T18:12:30.556560Z",
     "iopub.status.idle": "2022-07-20T18:12:36.582157Z",
     "shell.execute_reply": "2022-07-20T18:12:36.580852Z"
    },
    "papermill": {
     "duration": 6.038482,
     "end_time": "2022-07-20T18:12:36.585832",
     "exception": false,
     "start_time": "2022-07-20T18:12:30.547350",
     "status": "completed"
    },
    "tags": []
   },
   "outputs": [
    {
     "name": "stdout",
     "output_type": "stream",
     "text": [
      "115488\n"
     ]
    },
    {
     "data": {
      "text/html": [
       "<div>\n",
       "<style scoped>\n",
       "    .dataframe tbody tr th:only-of-type {\n",
       "        vertical-align: middle;\n",
       "    }\n",
       "\n",
       "    .dataframe tbody tr th {\n",
       "        vertical-align: top;\n",
       "    }\n",
       "\n",
       "    .dataframe thead th {\n",
       "        text-align: right;\n",
       "    }\n",
       "</style>\n",
       "<table border=\"1\" class=\"dataframe\">\n",
       "  <thead>\n",
       "    <tr style=\"text-align: right;\">\n",
       "      <th></th>\n",
       "      <th>id</th>\n",
       "      <th>class</th>\n",
       "      <th>segmentation</th>\n",
       "      <th>case</th>\n",
       "      <th>day</th>\n",
       "      <th>slice</th>\n",
       "      <th>path</th>\n",
       "      <th>height</th>\n",
       "      <th>width</th>\n",
       "      <th>subject</th>\n",
       "    </tr>\n",
       "  </thead>\n",
       "  <tbody>\n",
       "    <tr>\n",
       "      <th>0</th>\n",
       "      <td>case123_day20_slice_0001</td>\n",
       "      <td>large_bowel</td>\n",
       "      <td>NaN</td>\n",
       "      <td>123</td>\n",
       "      <td>20</td>\n",
       "      <td>1</td>\n",
       "      <td>../input/uw-madison-gi-tract-image-segmentatio...</td>\n",
       "      <td>266</td>\n",
       "      <td>266</td>\n",
       "      <td>123_20</td>\n",
       "    </tr>\n",
       "    <tr>\n",
       "      <th>1</th>\n",
       "      <td>case123_day20_slice_0001</td>\n",
       "      <td>small_bowel</td>\n",
       "      <td>NaN</td>\n",
       "      <td>123</td>\n",
       "      <td>20</td>\n",
       "      <td>1</td>\n",
       "      <td>../input/uw-madison-gi-tract-image-segmentatio...</td>\n",
       "      <td>266</td>\n",
       "      <td>266</td>\n",
       "      <td>123_20</td>\n",
       "    </tr>\n",
       "  </tbody>\n",
       "</table>\n",
       "</div>"
      ],
      "text/plain": [
       "                         id        class segmentation  case  day  slice  \\\n",
       "0  case123_day20_slice_0001  large_bowel          NaN   123   20      1   \n",
       "1  case123_day20_slice_0001  small_bowel          NaN   123   20      1   \n",
       "\n",
       "                                                path  height  width subject  \n",
       "0  ../input/uw-madison-gi-tract-image-segmentatio...     266    266  123_20  \n",
       "1  ../input/uw-madison-gi-tract-image-segmentatio...     266    266  123_20  "
      ]
     },
     "execution_count": 5,
     "metadata": {},
     "output_type": "execute_result"
    }
   ],
   "source": [
    "train_df = prepare_df(train_df_original, TRAIN_ROOT_DIR)\n",
    "print(len(train_df))\n",
    "train_df.head(2)\n"
   ]
  },
  {
   "cell_type": "markdown",
   "id": "4e55688c",
   "metadata": {
    "papermill": {
     "duration": 0.008258,
     "end_time": "2022-07-20T18:12:36.604153",
     "exception": false,
     "start_time": "2022-07-20T18:12:36.595895",
     "status": "completed"
    },
    "tags": []
   },
   "source": [
    "## **Helper function: Rearrange the DataFrame**"
   ]
  },
  {
   "cell_type": "code",
   "execution_count": 6,
   "id": "bde48180",
   "metadata": {
    "execution": {
     "iopub.execute_input": "2022-07-20T18:12:36.625540Z",
     "iopub.status.busy": "2022-07-20T18:12:36.624314Z",
     "iopub.status.idle": "2022-07-20T18:12:36.638236Z",
     "shell.execute_reply": "2022-07-20T18:12:36.636885Z"
    },
    "papermill": {
     "duration": 0.028239,
     "end_time": "2022-07-20T18:12:36.641657",
     "exception": false,
     "start_time": "2022-07-20T18:12:36.613418",
     "status": "completed"
    },
    "tags": []
   },
   "outputs": [],
   "source": [
    "def rearrange_df(df):\n",
    "    \"\"\" \n",
    "    Rearrange data in the the prepared DataFrame (train_df or test_df).\n",
    "    For each id (repeated 3 times),it creates 3 associated columns representing the segmentation \n",
    "    for the 3 classes:'large_bowel', 'small_bowel', 'stomach' \n",
    "    \"\"\"\n",
    "    # I keep only one id (so that it is not repeated 3 times)\n",
    "    df_rearranged = pd.DataFrame({\"id\": df[\"id\"][::3]}) \n",
    "    df_rearranged[\"large_bowel\"] = df[\"segmentation\"][::3].values\n",
    "    df_rearranged[\"small_bowel\"] = df[\"segmentation\"][1::3].values\n",
    "    df_rearranged[\"stomach\"] = df[\"segmentation\"][2::3].values\n",
    "\n",
    "    # Adjust the corresponding other columns\n",
    "    df_rearranged[\"case\"] = df[\"case\"][::3].values\n",
    "    df_rearranged[\"day\"] = df[\"day\"][::3].values\n",
    "    df_rearranged[\"subject\"] = df[\"subject\"][::3].values\n",
    "    df_rearranged[\"slice\"] = df[\"slice\"][::3].values\n",
    "    df_rearranged[\"path\"] = df[\"path\"][::3].values\n",
    "    df_rearranged[\"width\"] = df[\"width\"][::3].values\n",
    "    df_rearranged[\"height\"] = df[\"height\"][::3].values\n",
    "    \n",
    "    df_rearranged = df_rearranged.reset_index(drop=True)\n",
    "    df_rearranged = df_rearranged.fillna(\"\")\n",
    "    # I count the classes for which we have segmentation (I mean rle encoding),\n",
    "    # I'll use it for the validation strategy\n",
    "    # 0: No segmentation\n",
    "    # 1: Only one class for which we have segmentation\n",
    "    # 2: Only 2 classes for which we have segmentation\n",
    "    # 3: we have segmentation for the 3 classes\n",
    "    #df_rearranged[\"count\"] = np.sum(~df_rearranged.iloc[:, 1:4].isnull(), axis=1).values\n",
    "    df_rearranged[\"count\"] = np.sum(df_rearranged.iloc[:, 1:4] != \"\", axis=1).values\n",
    "    \n",
    "    \n",
    "    return df_rearranged"
   ]
  },
  {
   "cell_type": "code",
   "execution_count": 7,
   "id": "bdbca0ea",
   "metadata": {
    "execution": {
     "iopub.execute_input": "2022-07-20T18:12:36.660349Z",
     "iopub.status.busy": "2022-07-20T18:12:36.659719Z",
     "iopub.status.idle": "2022-07-20T18:12:36.752795Z",
     "shell.execute_reply": "2022-07-20T18:12:36.751096Z"
    },
    "papermill": {
     "duration": 0.105621,
     "end_time": "2022-07-20T18:12:36.755617",
     "exception": false,
     "start_time": "2022-07-20T18:12:36.649996",
     "status": "completed"
    },
    "tags": []
   },
   "outputs": [
    {
     "name": "stdout",
     "output_type": "stream",
     "text": [
      "38496\n"
     ]
    },
    {
     "data": {
      "text/html": [
       "<div>\n",
       "<style scoped>\n",
       "    .dataframe tbody tr th:only-of-type {\n",
       "        vertical-align: middle;\n",
       "    }\n",
       "\n",
       "    .dataframe tbody tr th {\n",
       "        vertical-align: top;\n",
       "    }\n",
       "\n",
       "    .dataframe thead th {\n",
       "        text-align: right;\n",
       "    }\n",
       "</style>\n",
       "<table border=\"1\" class=\"dataframe\">\n",
       "  <thead>\n",
       "    <tr style=\"text-align: right;\">\n",
       "      <th></th>\n",
       "      <th>id</th>\n",
       "      <th>large_bowel</th>\n",
       "      <th>small_bowel</th>\n",
       "      <th>stomach</th>\n",
       "      <th>case</th>\n",
       "      <th>day</th>\n",
       "      <th>subject</th>\n",
       "      <th>slice</th>\n",
       "      <th>path</th>\n",
       "      <th>width</th>\n",
       "      <th>height</th>\n",
       "      <th>count</th>\n",
       "    </tr>\n",
       "  </thead>\n",
       "  <tbody>\n",
       "    <tr>\n",
       "      <th>0</th>\n",
       "      <td>case123_day20_slice_0001</td>\n",
       "      <td></td>\n",
       "      <td></td>\n",
       "      <td></td>\n",
       "      <td>123</td>\n",
       "      <td>20</td>\n",
       "      <td>123_20</td>\n",
       "      <td>1</td>\n",
       "      <td>../input/uw-madison-gi-tract-image-segmentatio...</td>\n",
       "      <td>266</td>\n",
       "      <td>266</td>\n",
       "      <td>0</td>\n",
       "    </tr>\n",
       "    <tr>\n",
       "      <th>1</th>\n",
       "      <td>case123_day20_slice_0002</td>\n",
       "      <td></td>\n",
       "      <td></td>\n",
       "      <td></td>\n",
       "      <td>123</td>\n",
       "      <td>20</td>\n",
       "      <td>123_20</td>\n",
       "      <td>2</td>\n",
       "      <td>../input/uw-madison-gi-tract-image-segmentatio...</td>\n",
       "      <td>266</td>\n",
       "      <td>266</td>\n",
       "      <td>0</td>\n",
       "    </tr>\n",
       "    <tr>\n",
       "      <th>2</th>\n",
       "      <td>case123_day20_slice_0003</td>\n",
       "      <td></td>\n",
       "      <td></td>\n",
       "      <td></td>\n",
       "      <td>123</td>\n",
       "      <td>20</td>\n",
       "      <td>123_20</td>\n",
       "      <td>3</td>\n",
       "      <td>../input/uw-madison-gi-tract-image-segmentatio...</td>\n",
       "      <td>266</td>\n",
       "      <td>266</td>\n",
       "      <td>0</td>\n",
       "    </tr>\n",
       "  </tbody>\n",
       "</table>\n",
       "</div>"
      ],
      "text/plain": [
       "                         id large_bowel small_bowel stomach  case  day  \\\n",
       "0  case123_day20_slice_0001                                   123   20   \n",
       "1  case123_day20_slice_0002                                   123   20   \n",
       "2  case123_day20_slice_0003                                   123   20   \n",
       "\n",
       "  subject  slice                                               path  width  \\\n",
       "0  123_20      1  ../input/uw-madison-gi-tract-image-segmentatio...    266   \n",
       "1  123_20      2  ../input/uw-madison-gi-tract-image-segmentatio...    266   \n",
       "2  123_20      3  ../input/uw-madison-gi-tract-image-segmentatio...    266   \n",
       "\n",
       "   height  count  \n",
       "0     266      0  \n",
       "1     266      0  \n",
       "2     266      0  "
      ]
     },
     "execution_count": 7,
     "metadata": {},
     "output_type": "execute_result"
    }
   ],
   "source": [
    "train_df_rearranged = rearrange_df(train_df)\n",
    "print(len(train_df_rearranged))\n",
    "train_df_rearranged.head(3)"
   ]
  },
  {
   "cell_type": "code",
   "execution_count": 8,
   "id": "5cf3833c",
   "metadata": {
    "execution": {
     "iopub.execute_input": "2022-07-20T18:12:36.775282Z",
     "iopub.status.busy": "2022-07-20T18:12:36.774843Z",
     "iopub.status.idle": "2022-07-20T18:12:36.817461Z",
     "shell.execute_reply": "2022-07-20T18:12:36.816198Z"
    },
    "papermill": {
     "duration": 0.05612,
     "end_time": "2022-07-20T18:12:36.820258",
     "exception": false,
     "start_time": "2022-07-20T18:12:36.764138",
     "status": "completed"
    },
    "tags": []
   },
   "outputs": [],
   "source": [
    "# According to this discussion : \n",
    "# https://www.kaggle.com/competitions/uw-madison-gi-tract-image-segmentation/discussion/319963#1763869\n",
    "# I'll remove misslabeled training data\n",
    "\n",
    "train_df_rearranged = train_df_rearranged[(train_df_rearranged['case']!=7)|(train_df_rearranged['day']!=0)]\n",
    "train_df_rearranged = train_df_rearranged.reset_index(drop=True)\n",
    "\n",
    "train_df_rearranged = train_df_rearranged[(train_df_rearranged['case']!=81)|(train_df_rearranged['day']!=30)]\n",
    "train_df_rearranged = train_df_rearranged.reset_index(drop=True)\n"
   ]
  },
  {
   "cell_type": "code",
   "execution_count": 9,
   "id": "bd3d8d45",
   "metadata": {
    "execution": {
     "iopub.execute_input": "2022-07-20T18:12:36.839109Z",
     "iopub.status.busy": "2022-07-20T18:12:36.838679Z",
     "iopub.status.idle": "2022-07-20T18:12:36.845866Z",
     "shell.execute_reply": "2022-07-20T18:12:36.844735Z"
    },
    "papermill": {
     "duration": 0.01962,
     "end_time": "2022-07-20T18:12:36.848419",
     "exception": false,
     "start_time": "2022-07-20T18:12:36.828799",
     "status": "completed"
    },
    "tags": []
   },
   "outputs": [
    {
     "data": {
      "text/plain": [
       "85"
      ]
     },
     "execution_count": 9,
     "metadata": {},
     "output_type": "execute_result"
    }
   ],
   "source": [
    "len(np.unique(train_df_rearranged['case'])) \n",
    "# we have 85 cases but one case may have several MRI scans: MRI scan = case_day\n"
   ]
  },
  {
   "cell_type": "markdown",
   "id": "593d16bc",
   "metadata": {
    "papermill": {
     "duration": 0.008634,
     "end_time": "2022-07-20T18:12:36.865735",
     "exception": false,
     "start_time": "2022-07-20T18:12:36.857101",
     "status": "completed"
    },
    "tags": []
   },
   "source": [
    "## **Before further preprocessing: Validation Strategy**"
   ]
  },
  {
   "cell_type": "code",
   "execution_count": 10,
   "id": "b3a39332",
   "metadata": {
    "execution": {
     "iopub.execute_input": "2022-07-20T18:12:36.885348Z",
     "iopub.status.busy": "2022-07-20T18:12:36.884919Z",
     "iopub.status.idle": "2022-07-20T18:12:36.904409Z",
     "shell.execute_reply": "2022-07-20T18:12:36.903078Z"
    },
    "papermill": {
     "duration": 0.032763,
     "end_time": "2022-07-20T18:12:36.907243",
     "exception": false,
     "start_time": "2022-07-20T18:12:36.874480",
     "status": "completed"
    },
    "tags": []
   },
   "outputs": [],
   "source": [
    "# It is important to have a good validation strategy\n",
    "# the whole case (with all its slices) should not be present in the two sets : train & validation\n",
    "\n",
    "sgkf = GroupKFold(n_splits=5)\n",
    "\n",
    "for fold, (_, val_idx) in enumerate(sgkf.split(X=train_df_rearranged,groups=train_df_rearranged[\"case\"]),1): # the 1st fold has index 1 not 0\n",
    "    train_df_rearranged.loc[val_idx, \"fold\"] = fold\n",
    "\n",
    "train_df_rearranged[\"fold\"] = train_df_rearranged[\"fold\"].astype(np.uint8)"
   ]
  },
  {
   "cell_type": "code",
   "execution_count": 11,
   "id": "9af5b91d",
   "metadata": {
    "execution": {
     "iopub.execute_input": "2022-07-20T18:12:36.928030Z",
     "iopub.status.busy": "2022-07-20T18:12:36.927258Z",
     "iopub.status.idle": "2022-07-20T18:12:36.938540Z",
     "shell.execute_reply": "2022-07-20T18:12:36.937400Z"
    },
    "papermill": {
     "duration": 0.025078,
     "end_time": "2022-07-20T18:12:36.941190",
     "exception": false,
     "start_time": "2022-07-20T18:12:36.916112",
     "status": "completed"
    },
    "tags": []
   },
   "outputs": [
    {
     "data": {
      "text/plain": [
       "fold\n",
       "1    7696\n",
       "2    7632\n",
       "3    7632\n",
       "4    7648\n",
       "5    7600\n",
       "dtype: int64"
      ]
     },
     "execution_count": 11,
     "metadata": {},
     "output_type": "execute_result"
    }
   ],
   "source": [
    "train_df_rearranged.groupby(\"fold\").size()"
   ]
  },
  {
   "cell_type": "markdown",
   "id": "2d085538",
   "metadata": {
    "papermill": {
     "duration": 0.008534,
     "end_time": "2022-07-20T18:12:36.958920",
     "exception": false,
     "start_time": "2022-07-20T18:12:36.950386",
     "status": "completed"
    },
    "tags": []
   },
   "source": [
    "## **Slelected_fold = 4**\n"
   ]
  },
  {
   "cell_type": "code",
   "execution_count": 12,
   "id": "7ab8e28e",
   "metadata": {
    "execution": {
     "iopub.execute_input": "2022-07-20T18:12:36.979081Z",
     "iopub.status.busy": "2022-07-20T18:12:36.978179Z",
     "iopub.status.idle": "2022-07-20T18:12:37.005873Z",
     "shell.execute_reply": "2022-07-20T18:12:37.004816Z"
    },
    "papermill": {
     "duration": 0.041061,
     "end_time": "2022-07-20T18:12:37.008691",
     "exception": false,
     "start_time": "2022-07-20T18:12:36.967630",
     "status": "completed"
    },
    "tags": []
   },
   "outputs": [],
   "source": [
    "fold_selected = 4\n",
    "train_ids = train_df_rearranged[train_df_rearranged[\"fold\"] != fold_selected].index\n",
    "valid_ids = train_df_rearranged[train_df_rearranged[\"fold\"] == fold_selected].index\n",
    "\n",
    "X_train = train_df_rearranged[train_df_rearranged.index.isin(train_ids)]\n",
    "X_valid = train_df_rearranged[train_df_rearranged.index.isin(valid_ids)]"
   ]
  },
  {
   "cell_type": "code",
   "execution_count": 13,
   "id": "5b888744",
   "metadata": {
    "execution": {
     "iopub.execute_input": "2022-07-20T18:12:37.028793Z",
     "iopub.status.busy": "2022-07-20T18:12:37.028363Z",
     "iopub.status.idle": "2022-07-20T18:12:37.047422Z",
     "shell.execute_reply": "2022-07-20T18:12:37.046172Z"
    },
    "papermill": {
     "duration": 0.032262,
     "end_time": "2022-07-20T18:12:37.049993",
     "exception": false,
     "start_time": "2022-07-20T18:12:37.017731",
     "status": "completed"
    },
    "tags": []
   },
   "outputs": [
    {
     "data": {
      "text/plain": [
       "77_20     144\n",
       "119_20    144\n",
       "136_27    144\n",
       "136_0     144\n",
       "116_0     144\n",
       "         ... \n",
       "35_12      80\n",
       "35_15      80\n",
       "35_18      80\n",
       "89_21      80\n",
       "117_15     80\n",
       "Name: subject, Length: 218, dtype: int64"
      ]
     },
     "execution_count": 13,
     "metadata": {},
     "output_type": "execute_result"
    }
   ],
   "source": [
    "X_train['subject'].value_counts()"
   ]
  },
  {
   "cell_type": "code",
   "execution_count": 14,
   "id": "1120fd8f",
   "metadata": {
    "execution": {
     "iopub.execute_input": "2022-07-20T18:12:37.070702Z",
     "iopub.status.busy": "2022-07-20T18:12:37.069882Z",
     "iopub.status.idle": "2022-07-20T18:12:37.084990Z",
     "shell.execute_reply": "2022-07-20T18:12:37.083821Z"
    },
    "papermill": {
     "duration": 0.028439,
     "end_time": "2022-07-20T18:12:37.087487",
     "exception": false,
     "start_time": "2022-07-20T18:12:37.059048",
     "status": "completed"
    },
    "tags": []
   },
   "outputs": [
    {
     "data": {
      "text/plain": [
       "(array([ 80, 144]), array([ 13, 205]))"
      ]
     },
     "execution_count": 14,
     "metadata": {},
     "output_type": "execute_result"
    }
   ],
   "source": [
    "np.unique(X_train['subject'].value_counts(), return_counts = True)"
   ]
  },
  {
   "cell_type": "markdown",
   "id": "7ef39114",
   "metadata": {
    "papermill": {
     "duration": 0.009057,
     "end_time": "2022-07-20T18:12:37.106115",
     "exception": false,
     "start_time": "2022-07-20T18:12:37.097058",
     "status": "completed"
    },
    "tags": []
   },
   "source": [
    "## **Helper function: Create the list of subjects (subject=case_day) with their corresponding slices**"
   ]
  },
  {
   "cell_type": "code",
   "execution_count": 15,
   "id": "6eea71b6",
   "metadata": {
    "execution": {
     "iopub.execute_input": "2022-07-20T18:12:37.127412Z",
     "iopub.status.busy": "2022-07-20T18:12:37.126632Z",
     "iopub.status.idle": "2022-07-20T18:12:37.135760Z",
     "shell.execute_reply": "2022-07-20T18:12:37.134919Z"
    },
    "papermill": {
     "duration": 0.022381,
     "end_time": "2022-07-20T18:12:37.138237",
     "exception": false,
     "start_time": "2022-07-20T18:12:37.115856",
     "status": "completed"
    },
    "tags": []
   },
   "outputs": [],
   "source": [
    "def create_list_subjects_slices(rearranged_df):\n",
    "    list_subjects_dict = []\n",
    "    for subject, slices in list(rearranged_df.groupby('subject')['path']):\n",
    "        dict_subject ={}\n",
    "        list_slices_arrays = []\n",
    "        for path_slice in slices.values:\n",
    "            arr_img = cv2.imread(path_slice, cv2.IMREAD_ANYDEPTH)\n",
    "            resized_arr_image = cv2.resize(arr_img, (128,128), interpolation=cv2.INTER_NEAREST)\n",
    "            list_slices_arrays.append(resized_arr_image)\n",
    "        dict_subject[subject] = list_slices_arrays\n",
    "        list_subjects_dict.append(dict_subject)\n",
    "    \n",
    "    list_subjects_slices=[]\n",
    "    list_subjects = []\n",
    "    for x_dict in list_subjects_dict:\n",
    "        for key_subject in x_dict:\n",
    "            list_subjects_slices.append(x_dict[key_subject])\n",
    "            list_subjects.append(key_subject)\n",
    "    gc.collect()\n",
    "    del list_subjects_dict \n",
    "    return list_subjects_slices, list_subjects\n"
   ]
  },
  {
   "cell_type": "code",
   "execution_count": 16,
   "id": "3b575287",
   "metadata": {
    "execution": {
     "iopub.execute_input": "2022-07-20T18:12:37.158692Z",
     "iopub.status.busy": "2022-07-20T18:12:37.157870Z",
     "iopub.status.idle": "2022-07-20T18:17:07.946561Z",
     "shell.execute_reply": "2022-07-20T18:17:07.945550Z"
    },
    "papermill": {
     "duration": 270.80281,
     "end_time": "2022-07-20T18:17:07.949975",
     "exception": false,
     "start_time": "2022-07-20T18:12:37.147165",
     "status": "completed"
    },
    "tags": []
   },
   "outputs": [],
   "source": [
    "list_slices, list_subjects = create_list_subjects_slices(X_train)"
   ]
  },
  {
   "cell_type": "markdown",
   "id": "93591750",
   "metadata": {
    "papermill": {
     "duration": 0.009874,
     "end_time": "2022-07-20T18:17:07.975486",
     "exception": false,
     "start_time": "2022-07-20T18:17:07.965612",
     "status": "completed"
    },
    "tags": []
   },
   "source": [
    "### **Create the 3D MRI scans (niftii format)**"
   ]
  },
  {
   "cell_type": "code",
   "execution_count": 17,
   "id": "daeccaef",
   "metadata": {
    "execution": {
     "iopub.execute_input": "2022-07-20T18:17:07.998530Z",
     "iopub.status.busy": "2022-07-20T18:17:07.997227Z",
     "iopub.status.idle": "2022-07-20T18:17:08.008969Z",
     "shell.execute_reply": "2022-07-20T18:17:08.007556Z"
    },
    "papermill": {
     "duration": 0.026275,
     "end_time": "2022-07-20T18:17:08.012038",
     "exception": false,
     "start_time": "2022-07-20T18:17:07.985763",
     "status": "completed"
    },
    "tags": []
   },
   "outputs": [],
   "source": [
    "def create_3d_mri_images(list_all_slices, list_subjects, root):\n",
    "    root_path = Path(root)\n",
    "    root_path.mkdir(parents=True, exist_ok=True)\n",
    "    list_mri_arrays=[]\n",
    "    for subject, slices_subject in zip(list_subjects,list_all_slices):\n",
    "        mri_subject = np.asarray(slices_subject)\n",
    "        mri_subject = np.swapaxes(mri_subject, 0, 2) # (num_slices,w,h) --> (h, w, num_slices)\n",
    "        mri_subject = np.swapaxes(mri_subject, 0, 1) # (h,w, num_slices) --> (w,h,num_slices)\n",
    "        mri_subject_nifti = nib.Nifti1Image(mri_subject, affine=np.eye(4))\n",
    "        nib.save(mri_subject_nifti, root+subject+'.nii.gz')\n",
    "\n",
    "    gc.collect()\n",
    "    "
   ]
  },
  {
   "cell_type": "code",
   "execution_count": 18,
   "id": "dda165ac",
   "metadata": {
    "execution": {
     "iopub.execute_input": "2022-07-20T18:17:08.032713Z",
     "iopub.status.busy": "2022-07-20T18:17:08.031838Z",
     "iopub.status.idle": "2022-07-20T18:17:33.298628Z",
     "shell.execute_reply": "2022-07-20T18:17:33.297136Z"
    },
    "papermill": {
     "duration": 25.282537,
     "end_time": "2022-07-20T18:17:33.303959",
     "exception": false,
     "start_time": "2022-07-20T18:17:08.021422",
     "status": "completed"
    },
    "tags": []
   },
   "outputs": [],
   "source": [
    "create_3d_mri_images(list_slices,list_subjects, root= './mri_images/train/')"
   ]
  },
  {
   "cell_type": "markdown",
   "id": "80843126",
   "metadata": {
    "papermill": {
     "duration": 0.009181,
     "end_time": "2022-07-20T18:17:33.324982",
     "exception": false,
     "start_time": "2022-07-20T18:17:33.315801",
     "status": "completed"
    },
    "tags": []
   },
   "source": [
    "### **Validation set: Construct the 3D MRI scans**"
   ]
  },
  {
   "cell_type": "code",
   "execution_count": 19,
   "id": "40037216",
   "metadata": {
    "execution": {
     "iopub.execute_input": "2022-07-20T18:17:33.346277Z",
     "iopub.status.busy": "2022-07-20T18:17:33.345565Z",
     "iopub.status.idle": "2022-07-20T18:18:42.112305Z",
     "shell.execute_reply": "2022-07-20T18:18:42.110768Z"
    },
    "papermill": {
     "duration": 68.781865,
     "end_time": "2022-07-20T18:18:42.116230",
     "exception": false,
     "start_time": "2022-07-20T18:17:33.334365",
     "status": "completed"
    },
    "tags": []
   },
   "outputs": [],
   "source": [
    "list_slices_val, list_subjects_val = create_list_subjects_slices(X_valid)"
   ]
  },
  {
   "cell_type": "code",
   "execution_count": 20,
   "id": "7ddfd319",
   "metadata": {
    "execution": {
     "iopub.execute_input": "2022-07-20T18:18:42.138763Z",
     "iopub.status.busy": "2022-07-20T18:18:42.138334Z",
     "iopub.status.idle": "2022-07-20T18:18:48.653564Z",
     "shell.execute_reply": "2022-07-20T18:18:48.652239Z"
    },
    "papermill": {
     "duration": 6.529318,
     "end_time": "2022-07-20T18:18:48.656881",
     "exception": false,
     "start_time": "2022-07-20T18:18:42.127563",
     "status": "completed"
    },
    "tags": []
   },
   "outputs": [],
   "source": [
    "create_3d_mri_images(list_slices_val,list_subjects_val,root='./mri_images/val/')"
   ]
  }
 ],
 "metadata": {
  "kernelspec": {
   "display_name": "Python 3",
   "language": "python",
   "name": "python3"
  },
  "language_info": {
   "codemirror_mode": {
    "name": "ipython",
    "version": 3
   },
   "file_extension": ".py",
   "mimetype": "text/x-python",
   "name": "python",
   "nbconvert_exporter": "python",
   "pygments_lexer": "ipython3",
   "version": "3.7.12"
  },
  "papermill": {
   "default_parameters": {},
   "duration": 392.663598,
   "end_time": "2022-07-20T18:18:49.793860",
   "environment_variables": {},
   "exception": null,
   "input_path": "__notebook__.ipynb",
   "output_path": "__notebook__.ipynb",
   "parameters": {},
   "start_time": "2022-07-20T18:12:17.130262",
   "version": "2.3.4"
  }
 },
 "nbformat": 4,
 "nbformat_minor": 5
}
