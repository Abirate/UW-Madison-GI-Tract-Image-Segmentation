{
 "cells": [
  {
   "cell_type": "markdown",
   "id": "9fcf57d1",
   "metadata": {
    "papermill": {
     "duration": 0.009201,
     "end_time": "2022-07-20T18:09:22.797426",
     "exception": false,
     "start_time": "2022-07-20T18:09:22.788225",
     "status": "completed"
    },
    "tags": []
   },
   "source": [
    "## **Imports**"
   ]
  },
  {
   "cell_type": "code",
   "execution_count": 1,
   "id": "745a3436",
   "metadata": {
    "execution": {
     "iopub.execute_input": "2022-07-20T18:09:22.816390Z",
     "iopub.status.busy": "2022-07-20T18:09:22.815992Z",
     "iopub.status.idle": "2022-07-20T18:09:24.457371Z",
     "shell.execute_reply": "2022-07-20T18:09:24.456269Z"
    },
    "papermill": {
     "duration": 1.654157,
     "end_time": "2022-07-20T18:09:24.460188",
     "exception": false,
     "start_time": "2022-07-20T18:09:22.806031",
     "status": "completed"
    },
    "tags": []
   },
   "outputs": [],
   "source": [
    "from pathlib import Path\n",
    "import numpy as np\n",
    "import pandas as pd\n",
    "import matplotlib.pyplot as plt\n",
    "from tqdm.notebook import tqdm\n",
    "import nibabel as nib\n",
    "\n",
    "import os\n",
    "import cv2\n",
    "from glob import glob\n",
    "import gc\n",
    "\n",
    "from sklearn.model_selection import StratifiedKFold, KFold, StratifiedGroupKFold,GroupKFold"
   ]
  },
  {
   "cell_type": "markdown",
   "id": "450850fc",
   "metadata": {
    "papermill": {
     "duration": 0.008182,
     "end_time": "2022-07-20T18:09:24.477578",
     "exception": false,
     "start_time": "2022-07-20T18:09:24.469396",
     "status": "completed"
    },
    "tags": []
   },
   "source": [
    "## **Goal**\n",
    "The Goal is to reconstrcut 3D MRI Images (from all slices/ subject) "
   ]
  },
  {
   "cell_type": "code",
   "execution_count": 2,
   "id": "b7590d6d",
   "metadata": {
    "execution": {
     "iopub.execute_input": "2022-07-20T18:09:24.495939Z",
     "iopub.status.busy": "2022-07-20T18:09:24.495570Z",
     "iopub.status.idle": "2022-07-20T18:09:24.499293Z",
     "shell.execute_reply": "2022-07-20T18:09:24.498606Z"
    },
    "papermill": {
     "duration": 0.01493,
     "end_time": "2022-07-20T18:09:24.500779",
     "exception": false,
     "start_time": "2022-07-20T18:09:24.485849",
     "status": "completed"
    },
    "tags": []
   },
   "outputs": [],
   "source": [
    "TRAIN_ROOT_DIR = '../input/uw-madison-gi-tract-image-segmentation/train'\n",
    "TEST_ROOT_DIR = '../input/uw-madison-gi-tract-image-segmentation/test'"
   ]
  },
  {
   "cell_type": "code",
   "execution_count": 3,
   "id": "081356c7",
   "metadata": {
    "execution": {
     "iopub.execute_input": "2022-07-20T18:09:24.513268Z",
     "iopub.status.busy": "2022-07-20T18:09:24.512679Z",
     "iopub.status.idle": "2022-07-20T18:09:25.111174Z",
     "shell.execute_reply": "2022-07-20T18:09:25.109847Z"
    },
    "papermill": {
     "duration": 0.606885,
     "end_time": "2022-07-20T18:09:25.113175",
     "exception": false,
     "start_time": "2022-07-20T18:09:24.506290",
     "status": "completed"
    },
    "tags": []
   },
   "outputs": [
    {
     "name": "stdout",
     "output_type": "stream",
     "text": [
      "(115488, 3)\n"
     ]
    },
    {
     "data": {
      "text/html": [
       "<div>\n",
       "<style scoped>\n",
       "    .dataframe tbody tr th:only-of-type {\n",
       "        vertical-align: middle;\n",
       "    }\n",
       "\n",
       "    .dataframe tbody tr th {\n",
       "        vertical-align: top;\n",
       "    }\n",
       "\n",
       "    .dataframe thead th {\n",
       "        text-align: right;\n",
       "    }\n",
       "</style>\n",
       "<table border=\"1\" class=\"dataframe\">\n",
       "  <thead>\n",
       "    <tr style=\"text-align: right;\">\n",
       "      <th></th>\n",
       "      <th>id</th>\n",
       "      <th>class</th>\n",
       "      <th>segmentation</th>\n",
       "    </tr>\n",
       "  </thead>\n",
       "  <tbody>\n",
       "    <tr>\n",
       "      <th>0</th>\n",
       "      <td>case123_day20_slice_0001</td>\n",
       "      <td>large_bowel</td>\n",
       "      <td>NaN</td>\n",
       "    </tr>\n",
       "    <tr>\n",
       "      <th>1</th>\n",
       "      <td>case123_day20_slice_0001</td>\n",
       "      <td>small_bowel</td>\n",
       "      <td>NaN</td>\n",
       "    </tr>\n",
       "    <tr>\n",
       "      <th>2</th>\n",
       "      <td>case123_day20_slice_0001</td>\n",
       "      <td>stomach</td>\n",
       "      <td>NaN</td>\n",
       "    </tr>\n",
       "    <tr>\n",
       "      <th>3</th>\n",
       "      <td>case123_day20_slice_0002</td>\n",
       "      <td>large_bowel</td>\n",
       "      <td>NaN</td>\n",
       "    </tr>\n",
       "    <tr>\n",
       "      <th>4</th>\n",
       "      <td>case123_day20_slice_0002</td>\n",
       "      <td>small_bowel</td>\n",
       "      <td>NaN</td>\n",
       "    </tr>\n",
       "  </tbody>\n",
       "</table>\n",
       "</div>"
      ],
      "text/plain": [
       "                         id        class segmentation\n",
       "0  case123_day20_slice_0001  large_bowel          NaN\n",
       "1  case123_day20_slice_0001  small_bowel          NaN\n",
       "2  case123_day20_slice_0001      stomach          NaN\n",
       "3  case123_day20_slice_0002  large_bowel          NaN\n",
       "4  case123_day20_slice_0002  small_bowel          NaN"
      ]
     },
     "execution_count": 3,
     "metadata": {},
     "output_type": "execute_result"
    }
   ],
   "source": [
    "train_df_original = pd.read_csv('../input/uw-madison-gi-tract-image-segmentation/train.csv')\n",
    "\n",
    "print(train_df_original.shape)\n",
    "train_df_original.head()\n"
   ]
  },
  {
   "cell_type": "markdown",
   "id": "d2249ed5",
   "metadata": {
    "papermill": {
     "duration": 0.005199,
     "end_time": "2022-07-20T18:09:25.124129",
     "exception": false,
     "start_time": "2022-07-20T18:09:25.118930",
     "status": "completed"
    },
    "tags": []
   },
   "source": [
    "### **Helper function: Prepare a DataFrame from the Images Folder**"
   ]
  },
  {
   "cell_type": "code",
   "execution_count": 4,
   "id": "03586913",
   "metadata": {
    "execution": {
     "iopub.execute_input": "2022-07-20T18:09:25.136436Z",
     "iopub.status.busy": "2022-07-20T18:09:25.136075Z",
     "iopub.status.idle": "2022-07-20T18:09:25.150696Z",
     "shell.execute_reply": "2022-07-20T18:09:25.149579Z"
    },
    "papermill": {
     "duration": 0.023074,
     "end_time": "2022-07-20T18:09:25.152450",
     "exception": false,
     "start_time": "2022-07-20T18:09:25.129376",
     "status": "completed"
    },
    "tags": []
   },
   "outputs": [],
   "source": [
    "def prepare_df(df, root_dir):\n",
    "    all_images = []\n",
    "    for path in Path(root_dir).rglob('*.png'):\n",
    "\n",
    "        parts = path.parts\n",
    "        dict_path = {}\n",
    "        case_str = parts[4][4:]\n",
    "        day_str = parts[5].split('_')[1][3:]\n",
    "        dict_path['case'] = int(case_str)\n",
    "        dict_path['day'] = int(day_str)\n",
    "        dict_path['slice'] = int(parts[7].split('_')[1])\n",
    "        slice_str = '_'.join(parts[7].split('_')[0:2])\n",
    "        #dict_path['PosixPath'] = path\n",
    "        dict_path['path'] = str(path)\n",
    "        dict_path['join_col'] = 'case'+ case_str + '_'+ 'day' + day_str + '_' + slice_str\n",
    "        dict_path['height'] = int(dict_path['path'].split('/')[7].split('_')[2])\n",
    "        dict_path['width'] = int(dict_path['path'].split('/')[7].split('_')[3])\n",
    "        dict_path['subject'] = case_str + '_'+ day_str\n",
    "        all_images.append(dict_path)\n",
    "    \n",
    "    # Only contains 1/3 length of the orginal df(where each slice is repeated 3 times )\n",
    "    df_1_3 = pd.DataFrame(all_images) \n",
    "    # Get the final dataframe with the same length of the original one...\n",
    "    df_final = pd.merge(df, df_1_3, left_on = 'id', right_on = 'join_col')\n",
    "    df_final = df_final.drop('join_col', axis=1)\n",
    "\n",
    "    return df_final"
   ]
  },
  {
   "cell_type": "code",
   "execution_count": 5,
   "id": "edd4219a",
   "metadata": {
    "execution": {
     "iopub.execute_input": "2022-07-20T18:09:25.164611Z",
     "iopub.status.busy": "2022-07-20T18:09:25.164280Z",
     "iopub.status.idle": "2022-07-20T18:09:32.479603Z",
     "shell.execute_reply": "2022-07-20T18:09:32.478228Z"
    },
    "papermill": {
     "duration": 7.32406,
     "end_time": "2022-07-20T18:09:32.482064",
     "exception": false,
     "start_time": "2022-07-20T18:09:25.158004",
     "status": "completed"
    },
    "tags": []
   },
   "outputs": [
    {
     "name": "stdout",
     "output_type": "stream",
     "text": [
      "115488\n"
     ]
    },
    {
     "data": {
      "text/html": [
       "<div>\n",
       "<style scoped>\n",
       "    .dataframe tbody tr th:only-of-type {\n",
       "        vertical-align: middle;\n",
       "    }\n",
       "\n",
       "    .dataframe tbody tr th {\n",
       "        vertical-align: top;\n",
       "    }\n",
       "\n",
       "    .dataframe thead th {\n",
       "        text-align: right;\n",
       "    }\n",
       "</style>\n",
       "<table border=\"1\" class=\"dataframe\">\n",
       "  <thead>\n",
       "    <tr style=\"text-align: right;\">\n",
       "      <th></th>\n",
       "      <th>id</th>\n",
       "      <th>class</th>\n",
       "      <th>segmentation</th>\n",
       "      <th>case</th>\n",
       "      <th>day</th>\n",
       "      <th>slice</th>\n",
       "      <th>path</th>\n",
       "      <th>height</th>\n",
       "      <th>width</th>\n",
       "      <th>subject</th>\n",
       "    </tr>\n",
       "  </thead>\n",
       "  <tbody>\n",
       "    <tr>\n",
       "      <th>0</th>\n",
       "      <td>case123_day20_slice_0001</td>\n",
       "      <td>large_bowel</td>\n",
       "      <td>NaN</td>\n",
       "      <td>123</td>\n",
       "      <td>20</td>\n",
       "      <td>1</td>\n",
       "      <td>../input/uw-madison-gi-tract-image-segmentatio...</td>\n",
       "      <td>266</td>\n",
       "      <td>266</td>\n",
       "      <td>123_20</td>\n",
       "    </tr>\n",
       "    <tr>\n",
       "      <th>1</th>\n",
       "      <td>case123_day20_slice_0001</td>\n",
       "      <td>small_bowel</td>\n",
       "      <td>NaN</td>\n",
       "      <td>123</td>\n",
       "      <td>20</td>\n",
       "      <td>1</td>\n",
       "      <td>../input/uw-madison-gi-tract-image-segmentatio...</td>\n",
       "      <td>266</td>\n",
       "      <td>266</td>\n",
       "      <td>123_20</td>\n",
       "    </tr>\n",
       "  </tbody>\n",
       "</table>\n",
       "</div>"
      ],
      "text/plain": [
       "                         id        class segmentation  case  day  slice  \\\n",
       "0  case123_day20_slice_0001  large_bowel          NaN   123   20      1   \n",
       "1  case123_day20_slice_0001  small_bowel          NaN   123   20      1   \n",
       "\n",
       "                                                path  height  width subject  \n",
       "0  ../input/uw-madison-gi-tract-image-segmentatio...     266    266  123_20  \n",
       "1  ../input/uw-madison-gi-tract-image-segmentatio...     266    266  123_20  "
      ]
     },
     "execution_count": 5,
     "metadata": {},
     "output_type": "execute_result"
    }
   ],
   "source": [
    "train_df = prepare_df(train_df_original, TRAIN_ROOT_DIR)\n",
    "print(len(train_df))\n",
    "train_df.head(2)\n"
   ]
  },
  {
   "cell_type": "markdown",
   "id": "6084b3d9",
   "metadata": {
    "papermill": {
     "duration": 0.005423,
     "end_time": "2022-07-20T18:09:32.493651",
     "exception": false,
     "start_time": "2022-07-20T18:09:32.488228",
     "status": "completed"
    },
    "tags": []
   },
   "source": [
    "## **Helper function: Rearrange the DataFrame**"
   ]
  },
  {
   "cell_type": "code",
   "execution_count": 6,
   "id": "a9ac99f3",
   "metadata": {
    "execution": {
     "iopub.execute_input": "2022-07-20T18:09:32.506807Z",
     "iopub.status.busy": "2022-07-20T18:09:32.506431Z",
     "iopub.status.idle": "2022-07-20T18:09:32.518896Z",
     "shell.execute_reply": "2022-07-20T18:09:32.517775Z"
    },
    "papermill": {
     "duration": 0.021542,
     "end_time": "2022-07-20T18:09:32.520711",
     "exception": false,
     "start_time": "2022-07-20T18:09:32.499169",
     "status": "completed"
    },
    "tags": []
   },
   "outputs": [],
   "source": [
    "def rearrange_df(df):\n",
    "    \"\"\" \n",
    "    Rearrange data in the the prepared DataFrame (train_df or test_df).\n",
    "    For each id (repeated 3 times),it creates 3 associated columns representing the segmentation \n",
    "    for the 3 classes:'large_bowel', 'small_bowel', 'stomach' \n",
    "    \"\"\"\n",
    "    # I keep only one id (so that it is not repeated 3 times)\n",
    "    df_rearranged = pd.DataFrame({\"id\": df[\"id\"][::3]}) \n",
    "    df_rearranged[\"large_bowel\"] = df[\"segmentation\"][::3].values\n",
    "    df_rearranged[\"small_bowel\"] = df[\"segmentation\"][1::3].values\n",
    "    df_rearranged[\"stomach\"] = df[\"segmentation\"][2::3].values\n",
    "\n",
    "    # Adjust the corresponding other columns\n",
    "    df_rearranged[\"case\"] = df[\"case\"][::3].values\n",
    "    df_rearranged[\"day\"] = df[\"day\"][::3].values\n",
    "    df_rearranged[\"subject\"] = df[\"subject\"][::3].values\n",
    "    df_rearranged[\"slice\"] = df[\"slice\"][::3].values\n",
    "    df_rearranged[\"path\"] = df[\"path\"][::3].values\n",
    "    df_rearranged[\"width\"] = df[\"width\"][::3].values\n",
    "    df_rearranged[\"height\"] = df[\"height\"][::3].values\n",
    "    \n",
    "    df_rearranged = df_rearranged.reset_index(drop=True)\n",
    "    df_rearranged = df_rearranged.fillna(\"\")\n",
    "    # I count the classes for which we have segmentation (I mean rle encoding),\n",
    "    # I'll use it for the validation strategy\n",
    "    # 0: No segmentation\n",
    "    # 1: Only one class for which we have segmentation\n",
    "    # 2: Only 2 classes for which we have segmentation\n",
    "    # 3: we have segmentation for the 3 classes\n",
    "    #df_rearranged[\"count\"] = np.sum(~df_rearranged.iloc[:, 1:4].isnull(), axis=1).values\n",
    "    df_rearranged[\"count\"] = np.sum(df_rearranged.iloc[:, 1:4] != \"\", axis=1).values\n",
    "    \n",
    "    \n",
    "    return df_rearranged"
   ]
  },
  {
   "cell_type": "code",
   "execution_count": 7,
   "id": "6dcc6ad7",
   "metadata": {
    "execution": {
     "iopub.execute_input": "2022-07-20T18:09:32.534025Z",
     "iopub.status.busy": "2022-07-20T18:09:32.533673Z",
     "iopub.status.idle": "2022-07-20T18:09:32.624989Z",
     "shell.execute_reply": "2022-07-20T18:09:32.623343Z"
    },
    "papermill": {
     "duration": 0.100657,
     "end_time": "2022-07-20T18:09:32.627360",
     "exception": false,
     "start_time": "2022-07-20T18:09:32.526703",
     "status": "completed"
    },
    "tags": []
   },
   "outputs": [
    {
     "name": "stdout",
     "output_type": "stream",
     "text": [
      "38496\n"
     ]
    },
    {
     "data": {
      "text/html": [
       "<div>\n",
       "<style scoped>\n",
       "    .dataframe tbody tr th:only-of-type {\n",
       "        vertical-align: middle;\n",
       "    }\n",
       "\n",
       "    .dataframe tbody tr th {\n",
       "        vertical-align: top;\n",
       "    }\n",
       "\n",
       "    .dataframe thead th {\n",
       "        text-align: right;\n",
       "    }\n",
       "</style>\n",
       "<table border=\"1\" class=\"dataframe\">\n",
       "  <thead>\n",
       "    <tr style=\"text-align: right;\">\n",
       "      <th></th>\n",
       "      <th>id</th>\n",
       "      <th>large_bowel</th>\n",
       "      <th>small_bowel</th>\n",
       "      <th>stomach</th>\n",
       "      <th>case</th>\n",
       "      <th>day</th>\n",
       "      <th>subject</th>\n",
       "      <th>slice</th>\n",
       "      <th>path</th>\n",
       "      <th>width</th>\n",
       "      <th>height</th>\n",
       "      <th>count</th>\n",
       "    </tr>\n",
       "  </thead>\n",
       "  <tbody>\n",
       "    <tr>\n",
       "      <th>0</th>\n",
       "      <td>case123_day20_slice_0001</td>\n",
       "      <td></td>\n",
       "      <td></td>\n",
       "      <td></td>\n",
       "      <td>123</td>\n",
       "      <td>20</td>\n",
       "      <td>123_20</td>\n",
       "      <td>1</td>\n",
       "      <td>../input/uw-madison-gi-tract-image-segmentatio...</td>\n",
       "      <td>266</td>\n",
       "      <td>266</td>\n",
       "      <td>0</td>\n",
       "    </tr>\n",
       "    <tr>\n",
       "      <th>1</th>\n",
       "      <td>case123_day20_slice_0002</td>\n",
       "      <td></td>\n",
       "      <td></td>\n",
       "      <td></td>\n",
       "      <td>123</td>\n",
       "      <td>20</td>\n",
       "      <td>123_20</td>\n",
       "      <td>2</td>\n",
       "      <td>../input/uw-madison-gi-tract-image-segmentatio...</td>\n",
       "      <td>266</td>\n",
       "      <td>266</td>\n",
       "      <td>0</td>\n",
       "    </tr>\n",
       "    <tr>\n",
       "      <th>2</th>\n",
       "      <td>case123_day20_slice_0003</td>\n",
       "      <td></td>\n",
       "      <td></td>\n",
       "      <td></td>\n",
       "      <td>123</td>\n",
       "      <td>20</td>\n",
       "      <td>123_20</td>\n",
       "      <td>3</td>\n",
       "      <td>../input/uw-madison-gi-tract-image-segmentatio...</td>\n",
       "      <td>266</td>\n",
       "      <td>266</td>\n",
       "      <td>0</td>\n",
       "    </tr>\n",
       "  </tbody>\n",
       "</table>\n",
       "</div>"
      ],
      "text/plain": [
       "                         id large_bowel small_bowel stomach  case  day  \\\n",
       "0  case123_day20_slice_0001                                   123   20   \n",
       "1  case123_day20_slice_0002                                   123   20   \n",
       "2  case123_day20_slice_0003                                   123   20   \n",
       "\n",
       "  subject  slice                                               path  width  \\\n",
       "0  123_20      1  ../input/uw-madison-gi-tract-image-segmentatio...    266   \n",
       "1  123_20      2  ../input/uw-madison-gi-tract-image-segmentatio...    266   \n",
       "2  123_20      3  ../input/uw-madison-gi-tract-image-segmentatio...    266   \n",
       "\n",
       "   height  count  \n",
       "0     266      0  \n",
       "1     266      0  \n",
       "2     266      0  "
      ]
     },
     "execution_count": 7,
     "metadata": {},
     "output_type": "execute_result"
    }
   ],
   "source": [
    "train_df_rearranged = rearrange_df(train_df)\n",
    "print(len(train_df_rearranged))\n",
    "train_df_rearranged.head(3)"
   ]
  },
  {
   "cell_type": "code",
   "execution_count": 8,
   "id": "24c9c63f",
   "metadata": {
    "execution": {
     "iopub.execute_input": "2022-07-20T18:09:32.641105Z",
     "iopub.status.busy": "2022-07-20T18:09:32.640844Z",
     "iopub.status.idle": "2022-07-20T18:09:32.679819Z",
     "shell.execute_reply": "2022-07-20T18:09:32.678796Z"
    },
    "papermill": {
     "duration": 0.048613,
     "end_time": "2022-07-20T18:09:32.682153",
     "exception": false,
     "start_time": "2022-07-20T18:09:32.633540",
     "status": "completed"
    },
    "tags": []
   },
   "outputs": [],
   "source": [
    "# According to this discussion : \n",
    "# https://www.kaggle.com/competitions/uw-madison-gi-tract-image-segmentation/discussion/319963#1763869\n",
    "# I'll remove misslabeled training data\n",
    "\n",
    "train_df_rearranged = train_df_rearranged[(train_df_rearranged['case']!=7)|(train_df_rearranged['day']!=0)]\n",
    "train_df_rearranged = train_df_rearranged.reset_index(drop=True)\n",
    "\n",
    "train_df_rearranged = train_df_rearranged[(train_df_rearranged['case']!=81)|(train_df_rearranged['day']!=30)]\n",
    "train_df_rearranged = train_df_rearranged.reset_index(drop=True)\n"
   ]
  },
  {
   "cell_type": "code",
   "execution_count": 9,
   "id": "fd901832",
   "metadata": {
    "execution": {
     "iopub.execute_input": "2022-07-20T18:09:32.695482Z",
     "iopub.status.busy": "2022-07-20T18:09:32.695119Z",
     "iopub.status.idle": "2022-07-20T18:09:32.702494Z",
     "shell.execute_reply": "2022-07-20T18:09:32.701536Z"
    },
    "papermill": {
     "duration": 0.016372,
     "end_time": "2022-07-20T18:09:32.704614",
     "exception": false,
     "start_time": "2022-07-20T18:09:32.688242",
     "status": "completed"
    },
    "tags": []
   },
   "outputs": [
    {
     "data": {
      "text/plain": [
       "85"
      ]
     },
     "execution_count": 9,
     "metadata": {},
     "output_type": "execute_result"
    }
   ],
   "source": [
    "len(np.unique(train_df_rearranged['case'])) \n",
    "# we have 85 cases but one case may have several MRI scans: MRI scan = case_day\n"
   ]
  },
  {
   "cell_type": "markdown",
   "id": "92925ef3",
   "metadata": {
    "papermill": {
     "duration": 0.009326,
     "end_time": "2022-07-20T18:09:32.723667",
     "exception": false,
     "start_time": "2022-07-20T18:09:32.714341",
     "status": "completed"
    },
    "tags": []
   },
   "source": [
    "## **Before further preprocessing: Validation Strategy**"
   ]
  },
  {
   "cell_type": "code",
   "execution_count": 10,
   "id": "3339b268",
   "metadata": {
    "execution": {
     "iopub.execute_input": "2022-07-20T18:09:32.743868Z",
     "iopub.status.busy": "2022-07-20T18:09:32.743511Z",
     "iopub.status.idle": "2022-07-20T18:09:32.759487Z",
     "shell.execute_reply": "2022-07-20T18:09:32.758690Z"
    },
    "papermill": {
     "duration": 0.028715,
     "end_time": "2022-07-20T18:09:32.761781",
     "exception": false,
     "start_time": "2022-07-20T18:09:32.733066",
     "status": "completed"
    },
    "tags": []
   },
   "outputs": [],
   "source": [
    "# It is important to have a good validation strategy\n",
    "# the whole case (with all its slices) should not be present in the two sets : train & validation\n",
    "\n",
    "sgkf = GroupKFold(n_splits=5)\n",
    "\n",
    "for fold, (_, val_idx) in enumerate(sgkf.split(X=train_df_rearranged,groups=train_df_rearranged[\"case\"]),1): # the 1st fold has index 1 not 0\n",
    "    train_df_rearranged.loc[val_idx, \"fold\"] = fold\n",
    "\n",
    "train_df_rearranged[\"fold\"] = train_df_rearranged[\"fold\"].astype(np.uint8)"
   ]
  },
  {
   "cell_type": "code",
   "execution_count": 11,
   "id": "d2b32b37",
   "metadata": {
    "execution": {
     "iopub.execute_input": "2022-07-20T18:09:32.782903Z",
     "iopub.status.busy": "2022-07-20T18:09:32.782506Z",
     "iopub.status.idle": "2022-07-20T18:09:32.792310Z",
     "shell.execute_reply": "2022-07-20T18:09:32.791663Z"
    },
    "papermill": {
     "duration": 0.022739,
     "end_time": "2022-07-20T18:09:32.794201",
     "exception": false,
     "start_time": "2022-07-20T18:09:32.771462",
     "status": "completed"
    },
    "tags": []
   },
   "outputs": [
    {
     "data": {
      "text/plain": [
       "fold\n",
       "1    7696\n",
       "2    7632\n",
       "3    7632\n",
       "4    7648\n",
       "5    7600\n",
       "dtype: int64"
      ]
     },
     "execution_count": 11,
     "metadata": {},
     "output_type": "execute_result"
    }
   ],
   "source": [
    "train_df_rearranged.groupby(\"fold\").size()"
   ]
  },
  {
   "cell_type": "markdown",
   "id": "47fda043",
   "metadata": {
    "papermill": {
     "duration": 0.009335,
     "end_time": "2022-07-20T18:09:32.813484",
     "exception": false,
     "start_time": "2022-07-20T18:09:32.804149",
     "status": "completed"
    },
    "tags": []
   },
   "source": [
    "## **Slelected_fold = 3**\n"
   ]
  },
  {
   "cell_type": "code",
   "execution_count": 12,
   "id": "6117f081",
   "metadata": {
    "execution": {
     "iopub.execute_input": "2022-07-20T18:09:32.835367Z",
     "iopub.status.busy": "2022-07-20T18:09:32.834888Z",
     "iopub.status.idle": "2022-07-20T18:09:32.860066Z",
     "shell.execute_reply": "2022-07-20T18:09:32.859004Z"
    },
    "papermill": {
     "duration": 0.039066,
     "end_time": "2022-07-20T18:09:32.862409",
     "exception": false,
     "start_time": "2022-07-20T18:09:32.823343",
     "status": "completed"
    },
    "tags": []
   },
   "outputs": [],
   "source": [
    "fold_selected = 3\n",
    "train_ids = train_df_rearranged[train_df_rearranged[\"fold\"] != fold_selected].index\n",
    "valid_ids = train_df_rearranged[train_df_rearranged[\"fold\"] == fold_selected].index\n",
    "\n",
    "X_train = train_df_rearranged[train_df_rearranged.index.isin(train_ids)]\n",
    "X_valid = train_df_rearranged[train_df_rearranged.index.isin(valid_ids)]"
   ]
  },
  {
   "cell_type": "code",
   "execution_count": 13,
   "id": "84427718",
   "metadata": {
    "execution": {
     "iopub.execute_input": "2022-07-20T18:09:32.883725Z",
     "iopub.status.busy": "2022-07-20T18:09:32.883214Z",
     "iopub.status.idle": "2022-07-20T18:09:32.900597Z",
     "shell.execute_reply": "2022-07-20T18:09:32.899792Z"
    },
    "papermill": {
     "duration": 0.030212,
     "end_time": "2022-07-20T18:09:32.902542",
     "exception": false,
     "start_time": "2022-07-20T18:09:32.872330",
     "status": "completed"
    },
    "tags": []
   },
   "outputs": [
    {
     "data": {
      "text/plain": [
       "123_20    144\n",
       "119_25    144\n",
       "108_10    144\n",
       "108_0     144\n",
       "108_13    144\n",
       "         ... \n",
       "34_0       80\n",
       "117_15     80\n",
       "117_17     80\n",
       "34_15      80\n",
       "117_13     80\n",
       "Name: subject, Length: 219, dtype: int64"
      ]
     },
     "execution_count": 13,
     "metadata": {},
     "output_type": "execute_result"
    }
   ],
   "source": [
    "X_train['subject'].value_counts()"
   ]
  },
  {
   "cell_type": "code",
   "execution_count": 14,
   "id": "61a2ee7b",
   "metadata": {
    "execution": {
     "iopub.execute_input": "2022-07-20T18:09:32.924846Z",
     "iopub.status.busy": "2022-07-20T18:09:32.923324Z",
     "iopub.status.idle": "2022-07-20T18:09:32.934612Z",
     "shell.execute_reply": "2022-07-20T18:09:32.933841Z"
    },
    "papermill": {
     "duration": 0.024091,
     "end_time": "2022-07-20T18:09:32.936566",
     "exception": false,
     "start_time": "2022-07-20T18:09:32.912475",
     "status": "completed"
    },
    "tags": []
   },
   "outputs": [
    {
     "data": {
      "text/plain": [
       "(array([ 80, 144]), array([ 15, 204]))"
      ]
     },
     "execution_count": 14,
     "metadata": {},
     "output_type": "execute_result"
    }
   ],
   "source": [
    "np.unique(X_train['subject'].value_counts(), return_counts = True)"
   ]
  },
  {
   "cell_type": "markdown",
   "id": "1ab8c319",
   "metadata": {
    "papermill": {
     "duration": 0.005977,
     "end_time": "2022-07-20T18:09:32.951059",
     "exception": false,
     "start_time": "2022-07-20T18:09:32.945082",
     "status": "completed"
    },
    "tags": []
   },
   "source": [
    "## **Helper function: Create the list of subjects (subject=case_day) with their corresponding slices**"
   ]
  },
  {
   "cell_type": "code",
   "execution_count": 15,
   "id": "9e7a5cf9",
   "metadata": {
    "execution": {
     "iopub.execute_input": "2022-07-20T18:09:32.964939Z",
     "iopub.status.busy": "2022-07-20T18:09:32.964639Z",
     "iopub.status.idle": "2022-07-20T18:09:32.971339Z",
     "shell.execute_reply": "2022-07-20T18:09:32.970522Z"
    },
    "papermill": {
     "duration": 0.015986,
     "end_time": "2022-07-20T18:09:32.973236",
     "exception": false,
     "start_time": "2022-07-20T18:09:32.957250",
     "status": "completed"
    },
    "tags": []
   },
   "outputs": [],
   "source": [
    "def create_list_subjects_slices(rearranged_df):\n",
    "    list_subjects_dict = []\n",
    "    for subject, slices in list(rearranged_df.groupby('subject')['path']):\n",
    "        dict_subject ={}\n",
    "        list_slices_arrays = []\n",
    "        for path_slice in slices.values:\n",
    "            arr_img = cv2.imread(path_slice, cv2.IMREAD_ANYDEPTH)\n",
    "            resized_arr_image = cv2.resize(arr_img, (128,128), interpolation=cv2.INTER_NEAREST)\n",
    "            list_slices_arrays.append(resized_arr_image)\n",
    "        dict_subject[subject] = list_slices_arrays\n",
    "        list_subjects_dict.append(dict_subject)\n",
    "    \n",
    "    list_subjects_slices=[]\n",
    "    list_subjects = []\n",
    "    for x_dict in list_subjects_dict:\n",
    "        for key_subject in x_dict:\n",
    "            list_subjects_slices.append(x_dict[key_subject])\n",
    "            list_subjects.append(key_subject)\n",
    "    gc.collect()\n",
    "    del list_subjects_dict \n",
    "    return list_subjects_slices, list_subjects\n"
   ]
  },
  {
   "cell_type": "code",
   "execution_count": 16,
   "id": "a0e9ce87",
   "metadata": {
    "execution": {
     "iopub.execute_input": "2022-07-20T18:09:32.995865Z",
     "iopub.status.busy": "2022-07-20T18:09:32.994990Z",
     "iopub.status.idle": "2022-07-20T18:14:12.245256Z",
     "shell.execute_reply": "2022-07-20T18:14:12.243897Z"
    },
    "papermill": {
     "duration": 279.266634,
     "end_time": "2022-07-20T18:14:12.250382",
     "exception": false,
     "start_time": "2022-07-20T18:09:32.983748",
     "status": "completed"
    },
    "tags": []
   },
   "outputs": [],
   "source": [
    "list_slices, list_subjects = create_list_subjects_slices(X_train)"
   ]
  },
  {
   "cell_type": "markdown",
   "id": "600a1a00",
   "metadata": {
    "papermill": {
     "duration": 0.009748,
     "end_time": "2022-07-20T18:14:12.273140",
     "exception": false,
     "start_time": "2022-07-20T18:14:12.263392",
     "status": "completed"
    },
    "tags": []
   },
   "source": [
    "### **Create the 3D MRI scans (niftii format)**"
   ]
  },
  {
   "cell_type": "code",
   "execution_count": 17,
   "id": "7932c33a",
   "metadata": {
    "execution": {
     "iopub.execute_input": "2022-07-20T18:14:12.295597Z",
     "iopub.status.busy": "2022-07-20T18:14:12.294824Z",
     "iopub.status.idle": "2022-07-20T18:14:12.301427Z",
     "shell.execute_reply": "2022-07-20T18:14:12.300833Z"
    },
    "papermill": {
     "duration": 0.02071,
     "end_time": "2022-07-20T18:14:12.303802",
     "exception": false,
     "start_time": "2022-07-20T18:14:12.283092",
     "status": "completed"
    },
    "tags": []
   },
   "outputs": [],
   "source": [
    "def create_3d_mri_images(list_all_slices, list_subjects, root):\n",
    "    root_path = Path(root)\n",
    "    root_path.mkdir(parents=True, exist_ok=True)\n",
    "    list_mri_arrays=[]\n",
    "    for subject, slices_subject in zip(list_subjects,list_all_slices):\n",
    "        mri_subject = np.asarray(slices_subject)\n",
    "        mri_subject = np.swapaxes(mri_subject, 0, 2) # (num_slices,w,h) --> (h, w, num_slices)\n",
    "        mri_subject = np.swapaxes(mri_subject, 0, 1) # (h,w, num_slices) --> (w,h,num_slices)\n",
    "        mri_subject_nifti = nib.Nifti1Image(mri_subject, affine=np.eye(4))\n",
    "        nib.save(mri_subject_nifti, root+subject+'.nii.gz')\n",
    "\n",
    "    gc.collect()\n",
    "    "
   ]
  },
  {
   "cell_type": "code",
   "execution_count": 18,
   "id": "3faea21c",
   "metadata": {
    "execution": {
     "iopub.execute_input": "2022-07-20T18:14:12.325935Z",
     "iopub.status.busy": "2022-07-20T18:14:12.325585Z",
     "iopub.status.idle": "2022-07-20T18:14:39.263777Z",
     "shell.execute_reply": "2022-07-20T18:14:39.262856Z"
    },
    "papermill": {
     "duration": 26.952273,
     "end_time": "2022-07-20T18:14:39.266537",
     "exception": false,
     "start_time": "2022-07-20T18:14:12.314264",
     "status": "completed"
    },
    "tags": []
   },
   "outputs": [],
   "source": [
    "create_3d_mri_images(list_slices,list_subjects, root= './mri_images/train/')"
   ]
  },
  {
   "cell_type": "markdown",
   "id": "4b5fb3c4",
   "metadata": {
    "papermill": {
     "duration": 0.010136,
     "end_time": "2022-07-20T18:14:39.287169",
     "exception": false,
     "start_time": "2022-07-20T18:14:39.277033",
     "status": "completed"
    },
    "tags": []
   },
   "source": [
    "### **Validation set: Construct the 3D MRI scans**"
   ]
  },
  {
   "cell_type": "code",
   "execution_count": 19,
   "id": "35cc2528",
   "metadata": {
    "execution": {
     "iopub.execute_input": "2022-07-20T18:14:39.309283Z",
     "iopub.status.busy": "2022-07-20T18:14:39.308642Z",
     "iopub.status.idle": "2022-07-20T18:15:49.117888Z",
     "shell.execute_reply": "2022-07-20T18:15:49.116927Z"
    },
    "papermill": {
     "duration": 69.82295,
     "end_time": "2022-07-20T18:15:49.120189",
     "exception": false,
     "start_time": "2022-07-20T18:14:39.297239",
     "status": "completed"
    },
    "tags": []
   },
   "outputs": [],
   "source": [
    "list_slices_val, list_subjects_val = create_list_subjects_slices(X_valid)"
   ]
  },
  {
   "cell_type": "code",
   "execution_count": 20,
   "id": "a2add939",
   "metadata": {
    "execution": {
     "iopub.execute_input": "2022-07-20T18:15:49.136766Z",
     "iopub.status.busy": "2022-07-20T18:15:49.135880Z",
     "iopub.status.idle": "2022-07-20T18:15:55.339013Z",
     "shell.execute_reply": "2022-07-20T18:15:55.338114Z"
    },
    "papermill": {
     "duration": 6.213303,
     "end_time": "2022-07-20T18:15:55.341152",
     "exception": false,
     "start_time": "2022-07-20T18:15:49.127849",
     "status": "completed"
    },
    "tags": []
   },
   "outputs": [],
   "source": [
    "create_3d_mri_images(list_slices_val,list_subjects_val,root='./mri_images/val/')"
   ]
  }
 ],
 "metadata": {
  "kernelspec": {
   "display_name": "Python 3",
   "language": "python",
   "name": "python3"
  },
  "language_info": {
   "codemirror_mode": {
    "name": "ipython",
    "version": 3
   },
   "file_extension": ".py",
   "mimetype": "text/x-python",
   "name": "python",
   "nbconvert_exporter": "python",
   "pygments_lexer": "ipython3",
   "version": "3.7.12"
  },
  "papermill": {
   "default_parameters": {},
   "duration": 404.077216,
   "end_time": "2022-07-20T18:15:56.472283",
   "environment_variables": {},
   "exception": null,
   "input_path": "__notebook__.ipynb",
   "output_path": "__notebook__.ipynb",
   "parameters": {},
   "start_time": "2022-07-20T18:09:12.395067",
   "version": "2.3.4"
  }
 },
 "nbformat": 4,
 "nbformat_minor": 5
}
