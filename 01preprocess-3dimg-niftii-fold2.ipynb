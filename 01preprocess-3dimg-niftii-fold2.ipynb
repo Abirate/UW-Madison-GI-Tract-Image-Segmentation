{
 "cells": [
  {
   "cell_type": "markdown",
   "id": "d51936d8",
   "metadata": {
    "papermill": {
     "duration": 0.009654,
     "end_time": "2022-07-20T17:57:11.945033",
     "exception": false,
     "start_time": "2022-07-20T17:57:11.935379",
     "status": "completed"
    },
    "tags": []
   },
   "source": [
    "## **Imports**"
   ]
  },
  {
   "cell_type": "code",
   "execution_count": 1,
   "id": "aa049d2e",
   "metadata": {
    "execution": {
     "iopub.execute_input": "2022-07-20T17:57:11.964533Z",
     "iopub.status.busy": "2022-07-20T17:57:11.963887Z",
     "iopub.status.idle": "2022-07-20T17:57:14.514352Z",
     "shell.execute_reply": "2022-07-20T17:57:14.512559Z"
    },
    "papermill": {
     "duration": 2.563964,
     "end_time": "2022-07-20T17:57:14.517835",
     "exception": false,
     "start_time": "2022-07-20T17:57:11.953871",
     "status": "completed"
    },
    "tags": []
   },
   "outputs": [],
   "source": [
    "from pathlib import Path\n",
    "import numpy as np\n",
    "import pandas as pd\n",
    "import matplotlib.pyplot as plt\n",
    "from tqdm.notebook import tqdm\n",
    "import nibabel as nib\n",
    "\n",
    "import os\n",
    "import cv2\n",
    "from glob import glob\n",
    "import gc\n",
    "\n",
    "from sklearn.model_selection import StratifiedKFold, KFold, StratifiedGroupKFold,GroupKFold"
   ]
  },
  {
   "cell_type": "markdown",
   "id": "998305d3",
   "metadata": {
    "papermill": {
     "duration": 0.008175,
     "end_time": "2022-07-20T17:57:14.534465",
     "exception": false,
     "start_time": "2022-07-20T17:57:14.526290",
     "status": "completed"
    },
    "tags": []
   },
   "source": [
    "## **Goal**\n",
    "The Goal is to reconstrcut 3D MRI Images (from all slices/ subject) "
   ]
  },
  {
   "cell_type": "code",
   "execution_count": 2,
   "id": "e628adef",
   "metadata": {
    "execution": {
     "iopub.execute_input": "2022-07-20T17:57:14.554905Z",
     "iopub.status.busy": "2022-07-20T17:57:14.553173Z",
     "iopub.status.idle": "2022-07-20T17:57:14.559632Z",
     "shell.execute_reply": "2022-07-20T17:57:14.558103Z"
    },
    "papermill": {
     "duration": 0.019635,
     "end_time": "2022-07-20T17:57:14.562638",
     "exception": false,
     "start_time": "2022-07-20T17:57:14.543003",
     "status": "completed"
    },
    "tags": []
   },
   "outputs": [],
   "source": [
    "TRAIN_ROOT_DIR = '../input/uw-madison-gi-tract-image-segmentation/train'\n",
    "TEST_ROOT_DIR = '../input/uw-madison-gi-tract-image-segmentation/test'"
   ]
  },
  {
   "cell_type": "code",
   "execution_count": 3,
   "id": "e207b0e0",
   "metadata": {
    "execution": {
     "iopub.execute_input": "2022-07-20T17:57:14.581604Z",
     "iopub.status.busy": "2022-07-20T17:57:14.581136Z",
     "iopub.status.idle": "2022-07-20T17:57:15.313871Z",
     "shell.execute_reply": "2022-07-20T17:57:15.312239Z"
    },
    "papermill": {
     "duration": 0.750571,
     "end_time": "2022-07-20T17:57:15.321501",
     "exception": false,
     "start_time": "2022-07-20T17:57:14.570930",
     "status": "completed"
    },
    "tags": []
   },
   "outputs": [
    {
     "name": "stdout",
     "output_type": "stream",
     "text": [
      "(115488, 3)\n"
     ]
    },
    {
     "data": {
      "text/html": [
       "<div>\n",
       "<style scoped>\n",
       "    .dataframe tbody tr th:only-of-type {\n",
       "        vertical-align: middle;\n",
       "    }\n",
       "\n",
       "    .dataframe tbody tr th {\n",
       "        vertical-align: top;\n",
       "    }\n",
       "\n",
       "    .dataframe thead th {\n",
       "        text-align: right;\n",
       "    }\n",
       "</style>\n",
       "<table border=\"1\" class=\"dataframe\">\n",
       "  <thead>\n",
       "    <tr style=\"text-align: right;\">\n",
       "      <th></th>\n",
       "      <th>id</th>\n",
       "      <th>class</th>\n",
       "      <th>segmentation</th>\n",
       "    </tr>\n",
       "  </thead>\n",
       "  <tbody>\n",
       "    <tr>\n",
       "      <th>0</th>\n",
       "      <td>case123_day20_slice_0001</td>\n",
       "      <td>large_bowel</td>\n",
       "      <td>NaN</td>\n",
       "    </tr>\n",
       "    <tr>\n",
       "      <th>1</th>\n",
       "      <td>case123_day20_slice_0001</td>\n",
       "      <td>small_bowel</td>\n",
       "      <td>NaN</td>\n",
       "    </tr>\n",
       "    <tr>\n",
       "      <th>2</th>\n",
       "      <td>case123_day20_slice_0001</td>\n",
       "      <td>stomach</td>\n",
       "      <td>NaN</td>\n",
       "    </tr>\n",
       "    <tr>\n",
       "      <th>3</th>\n",
       "      <td>case123_day20_slice_0002</td>\n",
       "      <td>large_bowel</td>\n",
       "      <td>NaN</td>\n",
       "    </tr>\n",
       "    <tr>\n",
       "      <th>4</th>\n",
       "      <td>case123_day20_slice_0002</td>\n",
       "      <td>small_bowel</td>\n",
       "      <td>NaN</td>\n",
       "    </tr>\n",
       "  </tbody>\n",
       "</table>\n",
       "</div>"
      ],
      "text/plain": [
       "                         id        class segmentation\n",
       "0  case123_day20_slice_0001  large_bowel          NaN\n",
       "1  case123_day20_slice_0001  small_bowel          NaN\n",
       "2  case123_day20_slice_0001      stomach          NaN\n",
       "3  case123_day20_slice_0002  large_bowel          NaN\n",
       "4  case123_day20_slice_0002  small_bowel          NaN"
      ]
     },
     "execution_count": 3,
     "metadata": {},
     "output_type": "execute_result"
    }
   ],
   "source": [
    "train_df_original = pd.read_csv('../input/uw-madison-gi-tract-image-segmentation/train.csv')\n",
    "\n",
    "print(train_df_original.shape)\n",
    "train_df_original.head()\n"
   ]
  },
  {
   "cell_type": "markdown",
   "id": "5c165263",
   "metadata": {
    "papermill": {
     "duration": 0.008195,
     "end_time": "2022-07-20T17:57:15.338547",
     "exception": false,
     "start_time": "2022-07-20T17:57:15.330352",
     "status": "completed"
    },
    "tags": []
   },
   "source": [
    "### **Helper function: Prepare a DataFrame from the Images Folder**"
   ]
  },
  {
   "cell_type": "code",
   "execution_count": 4,
   "id": "09656474",
   "metadata": {
    "execution": {
     "iopub.execute_input": "2022-07-20T17:57:15.357648Z",
     "iopub.status.busy": "2022-07-20T17:57:15.357242Z",
     "iopub.status.idle": "2022-07-20T17:57:15.374457Z",
     "shell.execute_reply": "2022-07-20T17:57:15.372235Z"
    },
    "papermill": {
     "duration": 0.032847,
     "end_time": "2022-07-20T17:57:15.380066",
     "exception": false,
     "start_time": "2022-07-20T17:57:15.347219",
     "status": "completed"
    },
    "tags": []
   },
   "outputs": [],
   "source": [
    "def prepare_df(df, root_dir):\n",
    "    all_images = []\n",
    "    for path in Path(root_dir).rglob('*.png'):\n",
    "\n",
    "        parts = path.parts\n",
    "        dict_path = {}\n",
    "        case_str = parts[4][4:]\n",
    "        day_str = parts[5].split('_')[1][3:]\n",
    "        dict_path['case'] = int(case_str)\n",
    "        dict_path['day'] = int(day_str)\n",
    "        dict_path['slice'] = int(parts[7].split('_')[1])\n",
    "        slice_str = '_'.join(parts[7].split('_')[0:2])\n",
    "        #dict_path['PosixPath'] = path\n",
    "        dict_path['path'] = str(path)\n",
    "        dict_path['join_col'] = 'case'+ case_str + '_'+ 'day' + day_str + '_' + slice_str\n",
    "        dict_path['height'] = int(dict_path['path'].split('/')[7].split('_')[2])\n",
    "        dict_path['width'] = int(dict_path['path'].split('/')[7].split('_')[3])\n",
    "        dict_path['subject'] = case_str + '_'+ day_str\n",
    "        all_images.append(dict_path)\n",
    "    \n",
    "    # Only contains 1/3 length of the orginal df(where each slice is repeated 3 times )\n",
    "    df_1_3 = pd.DataFrame(all_images) \n",
    "    # Get the final dataframe with the same length of the original one...\n",
    "    df_final = pd.merge(df, df_1_3, left_on = 'id', right_on = 'join_col')\n",
    "    df_final = df_final.drop('join_col', axis=1)\n",
    "\n",
    "    return df_final"
   ]
  },
  {
   "cell_type": "code",
   "execution_count": 5,
   "id": "56849fc0",
   "metadata": {
    "execution": {
     "iopub.execute_input": "2022-07-20T17:57:15.405195Z",
     "iopub.status.busy": "2022-07-20T17:57:15.402346Z",
     "iopub.status.idle": "2022-07-20T17:57:28.923320Z",
     "shell.execute_reply": "2022-07-20T17:57:28.921433Z"
    },
    "papermill": {
     "duration": 13.537423,
     "end_time": "2022-07-20T17:57:28.927082",
     "exception": false,
     "start_time": "2022-07-20T17:57:15.389659",
     "status": "completed"
    },
    "tags": []
   },
   "outputs": [
    {
     "name": "stdout",
     "output_type": "stream",
     "text": [
      "115488\n"
     ]
    },
    {
     "data": {
      "text/html": [
       "<div>\n",
       "<style scoped>\n",
       "    .dataframe tbody tr th:only-of-type {\n",
       "        vertical-align: middle;\n",
       "    }\n",
       "\n",
       "    .dataframe tbody tr th {\n",
       "        vertical-align: top;\n",
       "    }\n",
       "\n",
       "    .dataframe thead th {\n",
       "        text-align: right;\n",
       "    }\n",
       "</style>\n",
       "<table border=\"1\" class=\"dataframe\">\n",
       "  <thead>\n",
       "    <tr style=\"text-align: right;\">\n",
       "      <th></th>\n",
       "      <th>id</th>\n",
       "      <th>class</th>\n",
       "      <th>segmentation</th>\n",
       "      <th>case</th>\n",
       "      <th>day</th>\n",
       "      <th>slice</th>\n",
       "      <th>path</th>\n",
       "      <th>height</th>\n",
       "      <th>width</th>\n",
       "      <th>subject</th>\n",
       "    </tr>\n",
       "  </thead>\n",
       "  <tbody>\n",
       "    <tr>\n",
       "      <th>0</th>\n",
       "      <td>case123_day20_slice_0001</td>\n",
       "      <td>large_bowel</td>\n",
       "      <td>NaN</td>\n",
       "      <td>123</td>\n",
       "      <td>20</td>\n",
       "      <td>1</td>\n",
       "      <td>../input/uw-madison-gi-tract-image-segmentatio...</td>\n",
       "      <td>266</td>\n",
       "      <td>266</td>\n",
       "      <td>123_20</td>\n",
       "    </tr>\n",
       "    <tr>\n",
       "      <th>1</th>\n",
       "      <td>case123_day20_slice_0001</td>\n",
       "      <td>small_bowel</td>\n",
       "      <td>NaN</td>\n",
       "      <td>123</td>\n",
       "      <td>20</td>\n",
       "      <td>1</td>\n",
       "      <td>../input/uw-madison-gi-tract-image-segmentatio...</td>\n",
       "      <td>266</td>\n",
       "      <td>266</td>\n",
       "      <td>123_20</td>\n",
       "    </tr>\n",
       "  </tbody>\n",
       "</table>\n",
       "</div>"
      ],
      "text/plain": [
       "                         id        class segmentation  case  day  slice  \\\n",
       "0  case123_day20_slice_0001  large_bowel          NaN   123   20      1   \n",
       "1  case123_day20_slice_0001  small_bowel          NaN   123   20      1   \n",
       "\n",
       "                                                path  height  width subject  \n",
       "0  ../input/uw-madison-gi-tract-image-segmentatio...     266    266  123_20  \n",
       "1  ../input/uw-madison-gi-tract-image-segmentatio...     266    266  123_20  "
      ]
     },
     "execution_count": 5,
     "metadata": {},
     "output_type": "execute_result"
    }
   ],
   "source": [
    "train_df = prepare_df(train_df_original, TRAIN_ROOT_DIR)\n",
    "print(len(train_df))\n",
    "train_df.head(2)\n"
   ]
  },
  {
   "cell_type": "markdown",
   "id": "14e1090a",
   "metadata": {
    "papermill": {
     "duration": 0.012502,
     "end_time": "2022-07-20T17:57:28.950733",
     "exception": false,
     "start_time": "2022-07-20T17:57:28.938231",
     "status": "completed"
    },
    "tags": []
   },
   "source": [
    "## **Helper function: Rearrange the DataFrame**"
   ]
  },
  {
   "cell_type": "code",
   "execution_count": 6,
   "id": "6260bc0c",
   "metadata": {
    "execution": {
     "iopub.execute_input": "2022-07-20T17:57:28.972398Z",
     "iopub.status.busy": "2022-07-20T17:57:28.971974Z",
     "iopub.status.idle": "2022-07-20T17:57:28.988628Z",
     "shell.execute_reply": "2022-07-20T17:57:28.986431Z"
    },
    "papermill": {
     "duration": 0.032514,
     "end_time": "2022-07-20T17:57:28.992847",
     "exception": false,
     "start_time": "2022-07-20T17:57:28.960333",
     "status": "completed"
    },
    "tags": []
   },
   "outputs": [],
   "source": [
    "def rearrange_df(df):\n",
    "    \"\"\" \n",
    "    Rearrange data in the the prepared DataFrame (train_df or test_df).\n",
    "    For each id (repeated 3 times),it creates 3 associated columns representing the segmentation \n",
    "    for the 3 classes:'large_bowel', 'small_bowel', 'stomach' \n",
    "    \"\"\"\n",
    "    # I keep only one id (so that it is not repeated 3 times)\n",
    "    df_rearranged = pd.DataFrame({\"id\": df[\"id\"][::3]}) \n",
    "    df_rearranged[\"large_bowel\"] = df[\"segmentation\"][::3].values\n",
    "    df_rearranged[\"small_bowel\"] = df[\"segmentation\"][1::3].values\n",
    "    df_rearranged[\"stomach\"] = df[\"segmentation\"][2::3].values\n",
    "\n",
    "    # Adjust the corresponding other columns\n",
    "    df_rearranged[\"case\"] = df[\"case\"][::3].values\n",
    "    df_rearranged[\"day\"] = df[\"day\"][::3].values\n",
    "    df_rearranged[\"subject\"] = df[\"subject\"][::3].values\n",
    "    df_rearranged[\"slice\"] = df[\"slice\"][::3].values\n",
    "    df_rearranged[\"path\"] = df[\"path\"][::3].values\n",
    "    df_rearranged[\"width\"] = df[\"width\"][::3].values\n",
    "    df_rearranged[\"height\"] = df[\"height\"][::3].values\n",
    "    \n",
    "    df_rearranged = df_rearranged.reset_index(drop=True)\n",
    "    df_rearranged = df_rearranged.fillna(\"\")\n",
    "    # I count the classes for which we have segmentation (I mean rle encoding),\n",
    "    # I'll use it for the validation strategy\n",
    "    # 0: No segmentation\n",
    "    # 1: Only one class for which we have segmentation\n",
    "    # 2: Only 2 classes for which we have segmentation\n",
    "    # 3: we have segmentation for the 3 classes\n",
    "    #df_rearranged[\"count\"] = np.sum(~df_rearranged.iloc[:, 1:4].isnull(), axis=1).values\n",
    "    df_rearranged[\"count\"] = np.sum(df_rearranged.iloc[:, 1:4] != \"\", axis=1).values\n",
    "    \n",
    "    \n",
    "    return df_rearranged"
   ]
  },
  {
   "cell_type": "code",
   "execution_count": 7,
   "id": "1edcad96",
   "metadata": {
    "execution": {
     "iopub.execute_input": "2022-07-20T17:57:29.024086Z",
     "iopub.status.busy": "2022-07-20T17:57:29.022187Z",
     "iopub.status.idle": "2022-07-20T17:57:29.164013Z",
     "shell.execute_reply": "2022-07-20T17:57:29.161977Z"
    },
    "papermill": {
     "duration": 0.162993,
     "end_time": "2022-07-20T17:57:29.167285",
     "exception": false,
     "start_time": "2022-07-20T17:57:29.004292",
     "status": "completed"
    },
    "tags": []
   },
   "outputs": [
    {
     "name": "stdout",
     "output_type": "stream",
     "text": [
      "38496\n"
     ]
    },
    {
     "data": {
      "text/html": [
       "<div>\n",
       "<style scoped>\n",
       "    .dataframe tbody tr th:only-of-type {\n",
       "        vertical-align: middle;\n",
       "    }\n",
       "\n",
       "    .dataframe tbody tr th {\n",
       "        vertical-align: top;\n",
       "    }\n",
       "\n",
       "    .dataframe thead th {\n",
       "        text-align: right;\n",
       "    }\n",
       "</style>\n",
       "<table border=\"1\" class=\"dataframe\">\n",
       "  <thead>\n",
       "    <tr style=\"text-align: right;\">\n",
       "      <th></th>\n",
       "      <th>id</th>\n",
       "      <th>large_bowel</th>\n",
       "      <th>small_bowel</th>\n",
       "      <th>stomach</th>\n",
       "      <th>case</th>\n",
       "      <th>day</th>\n",
       "      <th>subject</th>\n",
       "      <th>slice</th>\n",
       "      <th>path</th>\n",
       "      <th>width</th>\n",
       "      <th>height</th>\n",
       "      <th>count</th>\n",
       "    </tr>\n",
       "  </thead>\n",
       "  <tbody>\n",
       "    <tr>\n",
       "      <th>0</th>\n",
       "      <td>case123_day20_slice_0001</td>\n",
       "      <td></td>\n",
       "      <td></td>\n",
       "      <td></td>\n",
       "      <td>123</td>\n",
       "      <td>20</td>\n",
       "      <td>123_20</td>\n",
       "      <td>1</td>\n",
       "      <td>../input/uw-madison-gi-tract-image-segmentatio...</td>\n",
       "      <td>266</td>\n",
       "      <td>266</td>\n",
       "      <td>0</td>\n",
       "    </tr>\n",
       "    <tr>\n",
       "      <th>1</th>\n",
       "      <td>case123_day20_slice_0002</td>\n",
       "      <td></td>\n",
       "      <td></td>\n",
       "      <td></td>\n",
       "      <td>123</td>\n",
       "      <td>20</td>\n",
       "      <td>123_20</td>\n",
       "      <td>2</td>\n",
       "      <td>../input/uw-madison-gi-tract-image-segmentatio...</td>\n",
       "      <td>266</td>\n",
       "      <td>266</td>\n",
       "      <td>0</td>\n",
       "    </tr>\n",
       "    <tr>\n",
       "      <th>2</th>\n",
       "      <td>case123_day20_slice_0003</td>\n",
       "      <td></td>\n",
       "      <td></td>\n",
       "      <td></td>\n",
       "      <td>123</td>\n",
       "      <td>20</td>\n",
       "      <td>123_20</td>\n",
       "      <td>3</td>\n",
       "      <td>../input/uw-madison-gi-tract-image-segmentatio...</td>\n",
       "      <td>266</td>\n",
       "      <td>266</td>\n",
       "      <td>0</td>\n",
       "    </tr>\n",
       "  </tbody>\n",
       "</table>\n",
       "</div>"
      ],
      "text/plain": [
       "                         id large_bowel small_bowel stomach  case  day  \\\n",
       "0  case123_day20_slice_0001                                   123   20   \n",
       "1  case123_day20_slice_0002                                   123   20   \n",
       "2  case123_day20_slice_0003                                   123   20   \n",
       "\n",
       "  subject  slice                                               path  width  \\\n",
       "0  123_20      1  ../input/uw-madison-gi-tract-image-segmentatio...    266   \n",
       "1  123_20      2  ../input/uw-madison-gi-tract-image-segmentatio...    266   \n",
       "2  123_20      3  ../input/uw-madison-gi-tract-image-segmentatio...    266   \n",
       "\n",
       "   height  count  \n",
       "0     266      0  \n",
       "1     266      0  \n",
       "2     266      0  "
      ]
     },
     "execution_count": 7,
     "metadata": {},
     "output_type": "execute_result"
    }
   ],
   "source": [
    "train_df_rearranged = rearrange_df(train_df)\n",
    "print(len(train_df_rearranged))\n",
    "train_df_rearranged.head(3)"
   ]
  },
  {
   "cell_type": "code",
   "execution_count": 8,
   "id": "d29306fe",
   "metadata": {
    "execution": {
     "iopub.execute_input": "2022-07-20T17:57:29.193476Z",
     "iopub.status.busy": "2022-07-20T17:57:29.193064Z",
     "iopub.status.idle": "2022-07-20T17:57:29.249481Z",
     "shell.execute_reply": "2022-07-20T17:57:29.247586Z"
    },
    "papermill": {
     "duration": 0.074863,
     "end_time": "2022-07-20T17:57:29.253594",
     "exception": false,
     "start_time": "2022-07-20T17:57:29.178731",
     "status": "completed"
    },
    "tags": []
   },
   "outputs": [],
   "source": [
    "# According to this discussion : \n",
    "# https://www.kaggle.com/competitions/uw-madison-gi-tract-image-segmentation/discussion/319963#1763869\n",
    "# I'll remove misslabeled training data\n",
    "\n",
    "train_df_rearranged = train_df_rearranged[(train_df_rearranged['case']!=7)|(train_df_rearranged['day']!=0)]\n",
    "train_df_rearranged = train_df_rearranged.reset_index(drop=True)\n",
    "\n",
    "train_df_rearranged = train_df_rearranged[(train_df_rearranged['case']!=81)|(train_df_rearranged['day']!=30)]\n",
    "train_df_rearranged = train_df_rearranged.reset_index(drop=True)\n"
   ]
  },
  {
   "cell_type": "code",
   "execution_count": 9,
   "id": "fde9d6cf",
   "metadata": {
    "execution": {
     "iopub.execute_input": "2022-07-20T17:57:29.278712Z",
     "iopub.status.busy": "2022-07-20T17:57:29.278203Z",
     "iopub.status.idle": "2022-07-20T17:57:29.286290Z",
     "shell.execute_reply": "2022-07-20T17:57:29.285115Z"
    },
    "papermill": {
     "duration": 0.023527,
     "end_time": "2022-07-20T17:57:29.289643",
     "exception": false,
     "start_time": "2022-07-20T17:57:29.266116",
     "status": "completed"
    },
    "tags": []
   },
   "outputs": [
    {
     "data": {
      "text/plain": [
       "85"
      ]
     },
     "execution_count": 9,
     "metadata": {},
     "output_type": "execute_result"
    }
   ],
   "source": [
    "len(np.unique(train_df_rearranged['case'])) \n",
    "# we have 85 cases but one case may have several MRI scans: MRI scan = case_day\n"
   ]
  },
  {
   "cell_type": "markdown",
   "id": "f2cc5e0a",
   "metadata": {
    "papermill": {
     "duration": 0.011143,
     "end_time": "2022-07-20T17:57:29.312639",
     "exception": false,
     "start_time": "2022-07-20T17:57:29.301496",
     "status": "completed"
    },
    "tags": []
   },
   "source": [
    "## **Before further preprocessing: Validation Strategy**"
   ]
  },
  {
   "cell_type": "code",
   "execution_count": 10,
   "id": "1780a98e",
   "metadata": {
    "execution": {
     "iopub.execute_input": "2022-07-20T17:57:29.337832Z",
     "iopub.status.busy": "2022-07-20T17:57:29.337153Z",
     "iopub.status.idle": "2022-07-20T17:57:29.366435Z",
     "shell.execute_reply": "2022-07-20T17:57:29.364354Z"
    },
    "papermill": {
     "duration": 0.047375,
     "end_time": "2022-07-20T17:57:29.371566",
     "exception": false,
     "start_time": "2022-07-20T17:57:29.324191",
     "status": "completed"
    },
    "tags": []
   },
   "outputs": [],
   "source": [
    "# It is important to have a good validation strategy\n",
    "# the whole case (with all its slices) should not be present in the two sets : train & validation\n",
    "\n",
    "sgkf = GroupKFold(n_splits=5)\n",
    "\n",
    "for fold, (_, val_idx) in enumerate(sgkf.split(X=train_df_rearranged,groups=train_df_rearranged[\"case\"]),1): # the 1st fold has index 1 not 0\n",
    "    train_df_rearranged.loc[val_idx, \"fold\"] = fold\n",
    "\n",
    "train_df_rearranged[\"fold\"] = train_df_rearranged[\"fold\"].astype(np.uint8)"
   ]
  },
  {
   "cell_type": "code",
   "execution_count": 11,
   "id": "788162ea",
   "metadata": {
    "execution": {
     "iopub.execute_input": "2022-07-20T17:57:29.395845Z",
     "iopub.status.busy": "2022-07-20T17:57:29.395359Z",
     "iopub.status.idle": "2022-07-20T17:57:29.413259Z",
     "shell.execute_reply": "2022-07-20T17:57:29.410909Z"
    },
    "papermill": {
     "duration": 0.036152,
     "end_time": "2022-07-20T17:57:29.418434",
     "exception": false,
     "start_time": "2022-07-20T17:57:29.382282",
     "status": "completed"
    },
    "tags": []
   },
   "outputs": [
    {
     "data": {
      "text/plain": [
       "fold\n",
       "1    7696\n",
       "2    7632\n",
       "3    7632\n",
       "4    7648\n",
       "5    7600\n",
       "dtype: int64"
      ]
     },
     "execution_count": 11,
     "metadata": {},
     "output_type": "execute_result"
    }
   ],
   "source": [
    "train_df_rearranged.groupby(\"fold\").size()"
   ]
  },
  {
   "cell_type": "markdown",
   "id": "501bd435",
   "metadata": {
    "papermill": {
     "duration": 0.010047,
     "end_time": "2022-07-20T17:57:29.441089",
     "exception": false,
     "start_time": "2022-07-20T17:57:29.431042",
     "status": "completed"
    },
    "tags": []
   },
   "source": [
    "## **Slelected_fold = 2**\n"
   ]
  },
  {
   "cell_type": "code",
   "execution_count": 12,
   "id": "8047f9cb",
   "metadata": {
    "execution": {
     "iopub.execute_input": "2022-07-20T17:57:29.471129Z",
     "iopub.status.busy": "2022-07-20T17:57:29.470637Z",
     "iopub.status.idle": "2022-07-20T17:57:29.503826Z",
     "shell.execute_reply": "2022-07-20T17:57:29.502800Z"
    },
    "papermill": {
     "duration": 0.053543,
     "end_time": "2022-07-20T17:57:29.508292",
     "exception": false,
     "start_time": "2022-07-20T17:57:29.454749",
     "status": "completed"
    },
    "tags": []
   },
   "outputs": [],
   "source": [
    "fold_selected = 2\n",
    "train_ids = train_df_rearranged[train_df_rearranged[\"fold\"] != fold_selected].index\n",
    "valid_ids = train_df_rearranged[train_df_rearranged[\"fold\"] == fold_selected].index\n",
    "\n",
    "X_train = train_df_rearranged[train_df_rearranged.index.isin(train_ids)]\n",
    "X_valid = train_df_rearranged[train_df_rearranged.index.isin(valid_ids)]"
   ]
  },
  {
   "cell_type": "code",
   "execution_count": 13,
   "id": "a2bd4a43",
   "metadata": {
    "execution": {
     "iopub.execute_input": "2022-07-20T17:57:29.539429Z",
     "iopub.status.busy": "2022-07-20T17:57:29.539023Z",
     "iopub.status.idle": "2022-07-20T17:57:29.563226Z",
     "shell.execute_reply": "2022-07-20T17:57:29.561819Z"
    },
    "papermill": {
     "duration": 0.046504,
     "end_time": "2022-07-20T17:57:29.566996",
     "exception": false,
     "start_time": "2022-07-20T17:57:29.520492",
     "status": "completed"
    },
    "tags": []
   },
   "outputs": [
    {
     "data": {
      "text/plain": [
       "123_20    144\n",
       "119_19    144\n",
       "136_0     144\n",
       "116_0     144\n",
       "143_23    144\n",
       "         ... \n",
       "117_13     80\n",
       "35_15      80\n",
       "89_21      80\n",
       "146_25     80\n",
       "118_0      80\n",
       "Name: subject, Length: 219, dtype: int64"
      ]
     },
     "execution_count": 13,
     "metadata": {},
     "output_type": "execute_result"
    }
   ],
   "source": [
    "X_train['subject'].value_counts()"
   ]
  },
  {
   "cell_type": "code",
   "execution_count": 14,
   "id": "75df69c8",
   "metadata": {
    "execution": {
     "iopub.execute_input": "2022-07-20T17:57:29.592308Z",
     "iopub.status.busy": "2022-07-20T17:57:29.591377Z",
     "iopub.status.idle": "2022-07-20T17:57:29.609727Z",
     "shell.execute_reply": "2022-07-20T17:57:29.608798Z"
    },
    "papermill": {
     "duration": 0.034053,
     "end_time": "2022-07-20T17:57:29.612564",
     "exception": false,
     "start_time": "2022-07-20T17:57:29.578511",
     "status": "completed"
    },
    "tags": []
   },
   "outputs": [
    {
     "data": {
      "text/plain": [
       "(array([ 80, 144]), array([ 15, 204]))"
      ]
     },
     "execution_count": 14,
     "metadata": {},
     "output_type": "execute_result"
    }
   ],
   "source": [
    "np.unique(X_train['subject'].value_counts(), return_counts = True)"
   ]
  },
  {
   "cell_type": "markdown",
   "id": "cf085e77",
   "metadata": {
    "papermill": {
     "duration": 0.010648,
     "end_time": "2022-07-20T17:57:29.633920",
     "exception": false,
     "start_time": "2022-07-20T17:57:29.623272",
     "status": "completed"
    },
    "tags": []
   },
   "source": [
    "## **Helper function: Create the list of subjects (subject=case_day) with their corresponding slices**"
   ]
  },
  {
   "cell_type": "code",
   "execution_count": 15,
   "id": "b14967e7",
   "metadata": {
    "execution": {
     "iopub.execute_input": "2022-07-20T17:57:29.658249Z",
     "iopub.status.busy": "2022-07-20T17:57:29.657778Z",
     "iopub.status.idle": "2022-07-20T17:57:29.669745Z",
     "shell.execute_reply": "2022-07-20T17:57:29.667852Z"
    },
    "papermill": {
     "duration": 0.027498,
     "end_time": "2022-07-20T17:57:29.672535",
     "exception": false,
     "start_time": "2022-07-20T17:57:29.645037",
     "status": "completed"
    },
    "tags": []
   },
   "outputs": [],
   "source": [
    "def create_list_subjects_slices(rearranged_df):\n",
    "    list_subjects_dict = []\n",
    "    for subject, slices in list(rearranged_df.groupby('subject')['path']):\n",
    "        dict_subject ={}\n",
    "        list_slices_arrays = []\n",
    "        for path_slice in slices.values:\n",
    "            arr_img = cv2.imread(path_slice, cv2.IMREAD_ANYDEPTH)\n",
    "            resized_arr_image = cv2.resize(arr_img, (128,128), interpolation=cv2.INTER_NEAREST)\n",
    "            list_slices_arrays.append(resized_arr_image)\n",
    "        dict_subject[subject] = list_slices_arrays\n",
    "        list_subjects_dict.append(dict_subject)\n",
    "    \n",
    "    list_subjects_slices=[]\n",
    "    list_subjects = []\n",
    "    for x_dict in list_subjects_dict:\n",
    "        for key_subject in x_dict:\n",
    "            list_subjects_slices.append(x_dict[key_subject])\n",
    "            list_subjects.append(key_subject)\n",
    "    gc.collect()\n",
    "    del list_subjects_dict \n",
    "    return list_subjects_slices, list_subjects\n"
   ]
  },
  {
   "cell_type": "code",
   "execution_count": 16,
   "id": "d1a65a55",
   "metadata": {
    "execution": {
     "iopub.execute_input": "2022-07-20T17:57:29.695537Z",
     "iopub.status.busy": "2022-07-20T17:57:29.695136Z",
     "iopub.status.idle": "2022-07-20T18:02:52.008090Z",
     "shell.execute_reply": "2022-07-20T18:02:52.006033Z"
    },
    "papermill": {
     "duration": 322.33283,
     "end_time": "2022-07-20T18:02:52.014931",
     "exception": false,
     "start_time": "2022-07-20T17:57:29.682101",
     "status": "completed"
    },
    "tags": []
   },
   "outputs": [],
   "source": [
    "list_slices, list_subjects = create_list_subjects_slices(X_train)"
   ]
  },
  {
   "cell_type": "markdown",
   "id": "124f95b3",
   "metadata": {
    "papermill": {
     "duration": 0.012865,
     "end_time": "2022-07-20T18:02:52.041834",
     "exception": false,
     "start_time": "2022-07-20T18:02:52.028969",
     "status": "completed"
    },
    "tags": []
   },
   "source": [
    "### **Create the 3D MRI scans (niftii format)**"
   ]
  },
  {
   "cell_type": "code",
   "execution_count": 17,
   "id": "f3a49a33",
   "metadata": {
    "execution": {
     "iopub.execute_input": "2022-07-20T18:02:52.069221Z",
     "iopub.status.busy": "2022-07-20T18:02:52.068807Z",
     "iopub.status.idle": "2022-07-20T18:02:52.081194Z",
     "shell.execute_reply": "2022-07-20T18:02:52.079108Z"
    },
    "papermill": {
     "duration": 0.029871,
     "end_time": "2022-07-20T18:02:52.084619",
     "exception": false,
     "start_time": "2022-07-20T18:02:52.054748",
     "status": "completed"
    },
    "tags": []
   },
   "outputs": [],
   "source": [
    "def create_3d_mri_images(list_all_slices, list_subjects, root):\n",
    "    root_path = Path(root)\n",
    "    root_path.mkdir(parents=True, exist_ok=True)\n",
    "    list_mri_arrays=[]\n",
    "    for subject, slices_subject in zip(list_subjects,list_all_slices):\n",
    "        mri_subject = np.asarray(slices_subject)\n",
    "        mri_subject = np.swapaxes(mri_subject, 0, 2) # (num_slices,w,h) --> (h, w, num_slices)\n",
    "        mri_subject = np.swapaxes(mri_subject, 0, 1) # (h,w, num_slices) --> (w,h,num_slices)\n",
    "        mri_subject_nifti = nib.Nifti1Image(mri_subject, affine=np.eye(4))\n",
    "        nib.save(mri_subject_nifti, root+subject+'.nii.gz')\n",
    "\n",
    "    gc.collect()\n",
    "    "
   ]
  },
  {
   "cell_type": "code",
   "execution_count": 18,
   "id": "ce78a0b1",
   "metadata": {
    "execution": {
     "iopub.execute_input": "2022-07-20T18:02:52.110091Z",
     "iopub.status.busy": "2022-07-20T18:02:52.109224Z",
     "iopub.status.idle": "2022-07-20T18:03:24.990574Z",
     "shell.execute_reply": "2022-07-20T18:03:24.989142Z"
    },
    "papermill": {
     "duration": 32.899902,
     "end_time": "2022-07-20T18:03:24.995687",
     "exception": false,
     "start_time": "2022-07-20T18:02:52.095785",
     "status": "completed"
    },
    "tags": []
   },
   "outputs": [],
   "source": [
    "create_3d_mri_images(list_slices,list_subjects, root= './mri_images/train/')"
   ]
  },
  {
   "cell_type": "markdown",
   "id": "a89206d3",
   "metadata": {
    "papermill": {
     "duration": 0.01076,
     "end_time": "2022-07-20T18:03:25.021825",
     "exception": false,
     "start_time": "2022-07-20T18:03:25.011065",
     "status": "completed"
    },
    "tags": []
   },
   "source": [
    "### **Validation set: Construct the 3D MRI scans**"
   ]
  },
  {
   "cell_type": "code",
   "execution_count": 19,
   "id": "fad79c95",
   "metadata": {
    "execution": {
     "iopub.execute_input": "2022-07-20T18:03:25.045631Z",
     "iopub.status.busy": "2022-07-20T18:03:25.044313Z",
     "iopub.status.idle": "2022-07-20T18:04:49.761981Z",
     "shell.execute_reply": "2022-07-20T18:04:49.760425Z"
    },
    "papermill": {
     "duration": 84.732642,
     "end_time": "2022-07-20T18:04:49.765233",
     "exception": false,
     "start_time": "2022-07-20T18:03:25.032591",
     "status": "completed"
    },
    "tags": []
   },
   "outputs": [],
   "source": [
    "list_slices_val, list_subjects_val = create_list_subjects_slices(X_valid)"
   ]
  },
  {
   "cell_type": "code",
   "execution_count": 20,
   "id": "88af1dcb",
   "metadata": {
    "execution": {
     "iopub.execute_input": "2022-07-20T18:04:49.788995Z",
     "iopub.status.busy": "2022-07-20T18:04:49.788479Z",
     "iopub.status.idle": "2022-07-20T18:04:56.223537Z",
     "shell.execute_reply": "2022-07-20T18:04:56.222048Z"
    },
    "papermill": {
     "duration": 6.451011,
     "end_time": "2022-07-20T18:04:56.226721",
     "exception": false,
     "start_time": "2022-07-20T18:04:49.775710",
     "status": "completed"
    },
    "tags": []
   },
   "outputs": [],
   "source": [
    "create_3d_mri_images(list_slices_val,list_subjects_val,root='./mri_images/val/')"
   ]
  }
 ],
 "metadata": {
  "kernelspec": {
   "display_name": "Python 3",
   "language": "python",
   "name": "python3"
  },
  "language_info": {
   "codemirror_mode": {
    "name": "ipython",
    "version": 3
   },
   "file_extension": ".py",
   "mimetype": "text/x-python",
   "name": "python",
   "nbconvert_exporter": "python",
   "pygments_lexer": "ipython3",
   "version": "3.7.12"
  },
  "papermill": {
   "default_parameters": {},
   "duration": 479.652943,
   "end_time": "2022-07-20T18:04:57.466515",
   "environment_variables": {},
   "exception": null,
   "input_path": "__notebook__.ipynb",
   "output_path": "__notebook__.ipynb",
   "parameters": {},
   "start_time": "2022-07-20T17:56:57.813572",
   "version": "2.3.4"
  }
 },
 "nbformat": 4,
 "nbformat_minor": 5
}
