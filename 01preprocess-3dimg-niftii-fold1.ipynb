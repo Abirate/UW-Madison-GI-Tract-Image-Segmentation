{
 "cells": [
  {
   "cell_type": "markdown",
   "id": "cd682f61",
   "metadata": {
    "papermill": {
     "duration": 0.007268,
     "end_time": "2022-07-20T18:04:36.547949",
     "exception": false,
     "start_time": "2022-07-20T18:04:36.540681",
     "status": "completed"
    },
    "tags": []
   },
   "source": [
    "## **Imports**"
   ]
  },
  {
   "cell_type": "code",
   "execution_count": 1,
   "id": "61db6fd5",
   "metadata": {
    "execution": {
     "iopub.execute_input": "2022-07-20T18:04:36.562355Z",
     "iopub.status.busy": "2022-07-20T18:04:36.561928Z",
     "iopub.status.idle": "2022-07-20T18:04:38.545715Z",
     "shell.execute_reply": "2022-07-20T18:04:38.543799Z"
    },
    "papermill": {
     "duration": 1.995161,
     "end_time": "2022-07-20T18:04:38.549494",
     "exception": false,
     "start_time": "2022-07-20T18:04:36.554333",
     "status": "completed"
    },
    "tags": []
   },
   "outputs": [],
   "source": [
    "from pathlib import Path\n",
    "import numpy as np\n",
    "import pandas as pd\n",
    "import matplotlib.pyplot as plt\n",
    "from tqdm.notebook import tqdm\n",
    "import nibabel as nib\n",
    "\n",
    "import os\n",
    "import cv2\n",
    "from glob import glob\n",
    "import gc\n",
    "\n",
    "from sklearn.model_selection import StratifiedKFold, KFold, StratifiedGroupKFold,GroupKFold"
   ]
  },
  {
   "cell_type": "markdown",
   "id": "0b170526",
   "metadata": {
    "papermill": {
     "duration": 0.006604,
     "end_time": "2022-07-20T18:04:38.563115",
     "exception": false,
     "start_time": "2022-07-20T18:04:38.556511",
     "status": "completed"
    },
    "tags": []
   },
   "source": [
    "## **Goal**\n",
    "The Goal is to reconstrcut 3D MRI Images (from all slices/ subject) "
   ]
  },
  {
   "cell_type": "code",
   "execution_count": 2,
   "id": "0c8fa163",
   "metadata": {
    "execution": {
     "iopub.execute_input": "2022-07-20T18:04:38.579824Z",
     "iopub.status.busy": "2022-07-20T18:04:38.578900Z",
     "iopub.status.idle": "2022-07-20T18:04:38.584033Z",
     "shell.execute_reply": "2022-07-20T18:04:38.583117Z"
    },
    "papermill": {
     "duration": 0.017699,
     "end_time": "2022-07-20T18:04:38.586712",
     "exception": false,
     "start_time": "2022-07-20T18:04:38.569013",
     "status": "completed"
    },
    "tags": []
   },
   "outputs": [],
   "source": [
    "TRAIN_ROOT_DIR = '../input/uw-madison-gi-tract-image-segmentation/train'\n",
    "TEST_ROOT_DIR = '../input/uw-madison-gi-tract-image-segmentation/test'"
   ]
  },
  {
   "cell_type": "code",
   "execution_count": 3,
   "id": "5c7420cd",
   "metadata": {
    "execution": {
     "iopub.execute_input": "2022-07-20T18:04:38.601402Z",
     "iopub.status.busy": "2022-07-20T18:04:38.600664Z",
     "iopub.status.idle": "2022-07-20T18:04:39.463503Z",
     "shell.execute_reply": "2022-07-20T18:04:39.461623Z"
    },
    "papermill": {
     "duration": 0.873417,
     "end_time": "2022-07-20T18:04:39.466816",
     "exception": false,
     "start_time": "2022-07-20T18:04:38.593399",
     "status": "completed"
    },
    "tags": []
   },
   "outputs": [
    {
     "name": "stdout",
     "output_type": "stream",
     "text": [
      "(115488, 3)\n"
     ]
    },
    {
     "data": {
      "text/html": [
       "<div>\n",
       "<style scoped>\n",
       "    .dataframe tbody tr th:only-of-type {\n",
       "        vertical-align: middle;\n",
       "    }\n",
       "\n",
       "    .dataframe tbody tr th {\n",
       "        vertical-align: top;\n",
       "    }\n",
       "\n",
       "    .dataframe thead th {\n",
       "        text-align: right;\n",
       "    }\n",
       "</style>\n",
       "<table border=\"1\" class=\"dataframe\">\n",
       "  <thead>\n",
       "    <tr style=\"text-align: right;\">\n",
       "      <th></th>\n",
       "      <th>id</th>\n",
       "      <th>class</th>\n",
       "      <th>segmentation</th>\n",
       "    </tr>\n",
       "  </thead>\n",
       "  <tbody>\n",
       "    <tr>\n",
       "      <th>0</th>\n",
       "      <td>case123_day20_slice_0001</td>\n",
       "      <td>large_bowel</td>\n",
       "      <td>NaN</td>\n",
       "    </tr>\n",
       "    <tr>\n",
       "      <th>1</th>\n",
       "      <td>case123_day20_slice_0001</td>\n",
       "      <td>small_bowel</td>\n",
       "      <td>NaN</td>\n",
       "    </tr>\n",
       "    <tr>\n",
       "      <th>2</th>\n",
       "      <td>case123_day20_slice_0001</td>\n",
       "      <td>stomach</td>\n",
       "      <td>NaN</td>\n",
       "    </tr>\n",
       "    <tr>\n",
       "      <th>3</th>\n",
       "      <td>case123_day20_slice_0002</td>\n",
       "      <td>large_bowel</td>\n",
       "      <td>NaN</td>\n",
       "    </tr>\n",
       "    <tr>\n",
       "      <th>4</th>\n",
       "      <td>case123_day20_slice_0002</td>\n",
       "      <td>small_bowel</td>\n",
       "      <td>NaN</td>\n",
       "    </tr>\n",
       "  </tbody>\n",
       "</table>\n",
       "</div>"
      ],
      "text/plain": [
       "                         id        class segmentation\n",
       "0  case123_day20_slice_0001  large_bowel          NaN\n",
       "1  case123_day20_slice_0001  small_bowel          NaN\n",
       "2  case123_day20_slice_0001      stomach          NaN\n",
       "3  case123_day20_slice_0002  large_bowel          NaN\n",
       "4  case123_day20_slice_0002  small_bowel          NaN"
      ]
     },
     "execution_count": 3,
     "metadata": {},
     "output_type": "execute_result"
    }
   ],
   "source": [
    "train_df_original = pd.read_csv('../input/uw-madison-gi-tract-image-segmentation/train.csv')\n",
    "\n",
    "print(train_df_original.shape)\n",
    "train_df_original.head()\n"
   ]
  },
  {
   "cell_type": "markdown",
   "id": "3a8962cb",
   "metadata": {
    "papermill": {
     "duration": 0.005711,
     "end_time": "2022-07-20T18:04:39.478906",
     "exception": false,
     "start_time": "2022-07-20T18:04:39.473195",
     "status": "completed"
    },
    "tags": []
   },
   "source": [
    "### **Helper function: Prepare a DataFrame from the Images Folder**"
   ]
  },
  {
   "cell_type": "code",
   "execution_count": 4,
   "id": "8ffab3e5",
   "metadata": {
    "execution": {
     "iopub.execute_input": "2022-07-20T18:04:39.492559Z",
     "iopub.status.busy": "2022-07-20T18:04:39.491965Z",
     "iopub.status.idle": "2022-07-20T18:04:39.502358Z",
     "shell.execute_reply": "2022-07-20T18:04:39.501472Z"
    },
    "papermill": {
     "duration": 0.020391,
     "end_time": "2022-07-20T18:04:39.505078",
     "exception": false,
     "start_time": "2022-07-20T18:04:39.484687",
     "status": "completed"
    },
    "tags": []
   },
   "outputs": [],
   "source": [
    "def prepare_df(df, root_dir):\n",
    "    all_images = []\n",
    "    for path in Path(root_dir).rglob('*.png'):\n",
    "\n",
    "        parts = path.parts\n",
    "        dict_path = {}\n",
    "        case_str = parts[4][4:]\n",
    "        day_str = parts[5].split('_')[1][3:]\n",
    "        dict_path['case'] = int(case_str)\n",
    "        dict_path['day'] = int(day_str)\n",
    "        dict_path['slice'] = int(parts[7].split('_')[1])\n",
    "        slice_str = '_'.join(parts[7].split('_')[0:2])\n",
    "        #dict_path['PosixPath'] = path\n",
    "        dict_path['path'] = str(path)\n",
    "        dict_path['join_col'] = 'case'+ case_str + '_'+ 'day' + day_str + '_' + slice_str\n",
    "        dict_path['height'] = int(dict_path['path'].split('/')[7].split('_')[2])\n",
    "        dict_path['width'] = int(dict_path['path'].split('/')[7].split('_')[3])\n",
    "        dict_path['subject'] = case_str + '_'+ day_str\n",
    "        all_images.append(dict_path)\n",
    "    \n",
    "    # Only contains 1/3 length of the orginal df(where each slice is repeated 3 times )\n",
    "    df_1_3 = pd.DataFrame(all_images) \n",
    "    # Get the final dataframe with the same length of the original one...\n",
    "    df_final = pd.merge(df, df_1_3, left_on = 'id', right_on = 'join_col')\n",
    "    df_final = df_final.drop('join_col', axis=1)\n",
    "\n",
    "    return df_final"
   ]
  },
  {
   "cell_type": "code",
   "execution_count": 5,
   "id": "a3a47692",
   "metadata": {
    "execution": {
     "iopub.execute_input": "2022-07-20T18:04:39.520385Z",
     "iopub.status.busy": "2022-07-20T18:04:39.519616Z",
     "iopub.status.idle": "2022-07-20T18:04:47.267032Z",
     "shell.execute_reply": "2022-07-20T18:04:47.265872Z"
    },
    "papermill": {
     "duration": 7.758429,
     "end_time": "2022-07-20T18:04:47.269917",
     "exception": false,
     "start_time": "2022-07-20T18:04:39.511488",
     "status": "completed"
    },
    "tags": []
   },
   "outputs": [
    {
     "name": "stdout",
     "output_type": "stream",
     "text": [
      "115488\n"
     ]
    },
    {
     "data": {
      "text/html": [
       "<div>\n",
       "<style scoped>\n",
       "    .dataframe tbody tr th:only-of-type {\n",
       "        vertical-align: middle;\n",
       "    }\n",
       "\n",
       "    .dataframe tbody tr th {\n",
       "        vertical-align: top;\n",
       "    }\n",
       "\n",
       "    .dataframe thead th {\n",
       "        text-align: right;\n",
       "    }\n",
       "</style>\n",
       "<table border=\"1\" class=\"dataframe\">\n",
       "  <thead>\n",
       "    <tr style=\"text-align: right;\">\n",
       "      <th></th>\n",
       "      <th>id</th>\n",
       "      <th>class</th>\n",
       "      <th>segmentation</th>\n",
       "      <th>case</th>\n",
       "      <th>day</th>\n",
       "      <th>slice</th>\n",
       "      <th>path</th>\n",
       "      <th>height</th>\n",
       "      <th>width</th>\n",
       "      <th>subject</th>\n",
       "    </tr>\n",
       "  </thead>\n",
       "  <tbody>\n",
       "    <tr>\n",
       "      <th>0</th>\n",
       "      <td>case123_day20_slice_0001</td>\n",
       "      <td>large_bowel</td>\n",
       "      <td>NaN</td>\n",
       "      <td>123</td>\n",
       "      <td>20</td>\n",
       "      <td>1</td>\n",
       "      <td>../input/uw-madison-gi-tract-image-segmentatio...</td>\n",
       "      <td>266</td>\n",
       "      <td>266</td>\n",
       "      <td>123_20</td>\n",
       "    </tr>\n",
       "    <tr>\n",
       "      <th>1</th>\n",
       "      <td>case123_day20_slice_0001</td>\n",
       "      <td>small_bowel</td>\n",
       "      <td>NaN</td>\n",
       "      <td>123</td>\n",
       "      <td>20</td>\n",
       "      <td>1</td>\n",
       "      <td>../input/uw-madison-gi-tract-image-segmentatio...</td>\n",
       "      <td>266</td>\n",
       "      <td>266</td>\n",
       "      <td>123_20</td>\n",
       "    </tr>\n",
       "  </tbody>\n",
       "</table>\n",
       "</div>"
      ],
      "text/plain": [
       "                         id        class segmentation  case  day  slice  \\\n",
       "0  case123_day20_slice_0001  large_bowel          NaN   123   20      1   \n",
       "1  case123_day20_slice_0001  small_bowel          NaN   123   20      1   \n",
       "\n",
       "                                                path  height  width subject  \n",
       "0  ../input/uw-madison-gi-tract-image-segmentatio...     266    266  123_20  \n",
       "1  ../input/uw-madison-gi-tract-image-segmentatio...     266    266  123_20  "
      ]
     },
     "execution_count": 5,
     "metadata": {},
     "output_type": "execute_result"
    }
   ],
   "source": [
    "train_df = prepare_df(train_df_original, TRAIN_ROOT_DIR)\n",
    "print(len(train_df))\n",
    "train_df.head(2)\n"
   ]
  },
  {
   "cell_type": "markdown",
   "id": "f19f5ec3",
   "metadata": {
    "papermill": {
     "duration": 0.005707,
     "end_time": "2022-07-20T18:04:47.282094",
     "exception": false,
     "start_time": "2022-07-20T18:04:47.276387",
     "status": "completed"
    },
    "tags": []
   },
   "source": [
    "## **Helper function: Rearrange the DataFrame**"
   ]
  },
  {
   "cell_type": "code",
   "execution_count": 6,
   "id": "0832ffa6",
   "metadata": {
    "execution": {
     "iopub.execute_input": "2022-07-20T18:04:47.297761Z",
     "iopub.status.busy": "2022-07-20T18:04:47.297340Z",
     "iopub.status.idle": "2022-07-20T18:04:47.307330Z",
     "shell.execute_reply": "2022-07-20T18:04:47.306353Z"
    },
    "papermill": {
     "duration": 0.021743,
     "end_time": "2022-07-20T18:04:47.310448",
     "exception": false,
     "start_time": "2022-07-20T18:04:47.288705",
     "status": "completed"
    },
    "tags": []
   },
   "outputs": [],
   "source": [
    "def rearrange_df(df):\n",
    "    \"\"\" \n",
    "    Rearrange data in the the prepared DataFrame (train_df or test_df).\n",
    "    For each id (repeated 3 times),it creates 3 associated columns representing the segmentation \n",
    "    for the 3 classes:'large_bowel', 'small_bowel', 'stomach' \n",
    "    \"\"\"\n",
    "    # I keep only one id (so that it is not repeated 3 times)\n",
    "    df_rearranged = pd.DataFrame({\"id\": df[\"id\"][::3]}) \n",
    "    df_rearranged[\"large_bowel\"] = df[\"segmentation\"][::3].values\n",
    "    df_rearranged[\"small_bowel\"] = df[\"segmentation\"][1::3].values\n",
    "    df_rearranged[\"stomach\"] = df[\"segmentation\"][2::3].values\n",
    "\n",
    "    # Adjust the corresponding other columns\n",
    "    df_rearranged[\"case\"] = df[\"case\"][::3].values\n",
    "    df_rearranged[\"day\"] = df[\"day\"][::3].values\n",
    "    df_rearranged[\"subject\"] = df[\"subject\"][::3].values\n",
    "    df_rearranged[\"slice\"] = df[\"slice\"][::3].values\n",
    "    df_rearranged[\"path\"] = df[\"path\"][::3].values\n",
    "    df_rearranged[\"width\"] = df[\"width\"][::3].values\n",
    "    df_rearranged[\"height\"] = df[\"height\"][::3].values\n",
    "    \n",
    "    df_rearranged = df_rearranged.reset_index(drop=True)\n",
    "    df_rearranged = df_rearranged.fillna(\"\")\n",
    "    # I count the classes for which we have segmentation (I mean rle encoding),\n",
    "    # I'll use it for the validation strategy\n",
    "    # 0: No segmentation\n",
    "    # 1: Only one class for which we have segmentation\n",
    "    # 2: Only 2 classes for which we have segmentation\n",
    "    # 3: we have segmentation for the 3 classes\n",
    "    #df_rearranged[\"count\"] = np.sum(~df_rearranged.iloc[:, 1:4].isnull(), axis=1).values\n",
    "    df_rearranged[\"count\"] = np.sum(df_rearranged.iloc[:, 1:4] != \"\", axis=1).values\n",
    "    \n",
    "    \n",
    "    return df_rearranged"
   ]
  },
  {
   "cell_type": "code",
   "execution_count": 7,
   "id": "4461a8ff",
   "metadata": {
    "execution": {
     "iopub.execute_input": "2022-07-20T18:04:47.325933Z",
     "iopub.status.busy": "2022-07-20T18:04:47.324801Z",
     "iopub.status.idle": "2022-07-20T18:04:47.405279Z",
     "shell.execute_reply": "2022-07-20T18:04:47.404455Z"
    },
    "papermill": {
     "duration": 0.090409,
     "end_time": "2022-07-20T18:04:47.407682",
     "exception": false,
     "start_time": "2022-07-20T18:04:47.317273",
     "status": "completed"
    },
    "tags": []
   },
   "outputs": [
    {
     "name": "stdout",
     "output_type": "stream",
     "text": [
      "38496\n"
     ]
    },
    {
     "data": {
      "text/html": [
       "<div>\n",
       "<style scoped>\n",
       "    .dataframe tbody tr th:only-of-type {\n",
       "        vertical-align: middle;\n",
       "    }\n",
       "\n",
       "    .dataframe tbody tr th {\n",
       "        vertical-align: top;\n",
       "    }\n",
       "\n",
       "    .dataframe thead th {\n",
       "        text-align: right;\n",
       "    }\n",
       "</style>\n",
       "<table border=\"1\" class=\"dataframe\">\n",
       "  <thead>\n",
       "    <tr style=\"text-align: right;\">\n",
       "      <th></th>\n",
       "      <th>id</th>\n",
       "      <th>large_bowel</th>\n",
       "      <th>small_bowel</th>\n",
       "      <th>stomach</th>\n",
       "      <th>case</th>\n",
       "      <th>day</th>\n",
       "      <th>subject</th>\n",
       "      <th>slice</th>\n",
       "      <th>path</th>\n",
       "      <th>width</th>\n",
       "      <th>height</th>\n",
       "      <th>count</th>\n",
       "    </tr>\n",
       "  </thead>\n",
       "  <tbody>\n",
       "    <tr>\n",
       "      <th>0</th>\n",
       "      <td>case123_day20_slice_0001</td>\n",
       "      <td></td>\n",
       "      <td></td>\n",
       "      <td></td>\n",
       "      <td>123</td>\n",
       "      <td>20</td>\n",
       "      <td>123_20</td>\n",
       "      <td>1</td>\n",
       "      <td>../input/uw-madison-gi-tract-image-segmentatio...</td>\n",
       "      <td>266</td>\n",
       "      <td>266</td>\n",
       "      <td>0</td>\n",
       "    </tr>\n",
       "    <tr>\n",
       "      <th>1</th>\n",
       "      <td>case123_day20_slice_0002</td>\n",
       "      <td></td>\n",
       "      <td></td>\n",
       "      <td></td>\n",
       "      <td>123</td>\n",
       "      <td>20</td>\n",
       "      <td>123_20</td>\n",
       "      <td>2</td>\n",
       "      <td>../input/uw-madison-gi-tract-image-segmentatio...</td>\n",
       "      <td>266</td>\n",
       "      <td>266</td>\n",
       "      <td>0</td>\n",
       "    </tr>\n",
       "    <tr>\n",
       "      <th>2</th>\n",
       "      <td>case123_day20_slice_0003</td>\n",
       "      <td></td>\n",
       "      <td></td>\n",
       "      <td></td>\n",
       "      <td>123</td>\n",
       "      <td>20</td>\n",
       "      <td>123_20</td>\n",
       "      <td>3</td>\n",
       "      <td>../input/uw-madison-gi-tract-image-segmentatio...</td>\n",
       "      <td>266</td>\n",
       "      <td>266</td>\n",
       "      <td>0</td>\n",
       "    </tr>\n",
       "  </tbody>\n",
       "</table>\n",
       "</div>"
      ],
      "text/plain": [
       "                         id large_bowel small_bowel stomach  case  day  \\\n",
       "0  case123_day20_slice_0001                                   123   20   \n",
       "1  case123_day20_slice_0002                                   123   20   \n",
       "2  case123_day20_slice_0003                                   123   20   \n",
       "\n",
       "  subject  slice                                               path  width  \\\n",
       "0  123_20      1  ../input/uw-madison-gi-tract-image-segmentatio...    266   \n",
       "1  123_20      2  ../input/uw-madison-gi-tract-image-segmentatio...    266   \n",
       "2  123_20      3  ../input/uw-madison-gi-tract-image-segmentatio...    266   \n",
       "\n",
       "   height  count  \n",
       "0     266      0  \n",
       "1     266      0  \n",
       "2     266      0  "
      ]
     },
     "execution_count": 7,
     "metadata": {},
     "output_type": "execute_result"
    }
   ],
   "source": [
    "train_df_rearranged = rearrange_df(train_df)\n",
    "print(len(train_df_rearranged))\n",
    "train_df_rearranged.head(3)"
   ]
  },
  {
   "cell_type": "code",
   "execution_count": 8,
   "id": "52c05a07",
   "metadata": {
    "execution": {
     "iopub.execute_input": "2022-07-20T18:04:47.423956Z",
     "iopub.status.busy": "2022-07-20T18:04:47.423555Z",
     "iopub.status.idle": "2022-07-20T18:04:47.467220Z",
     "shell.execute_reply": "2022-07-20T18:04:47.465978Z"
    },
    "papermill": {
     "duration": 0.055103,
     "end_time": "2022-07-20T18:04:47.469884",
     "exception": false,
     "start_time": "2022-07-20T18:04:47.414781",
     "status": "completed"
    },
    "tags": []
   },
   "outputs": [],
   "source": [
    "# According to this discussion : \n",
    "# https://www.kaggle.com/competitions/uw-madison-gi-tract-image-segmentation/discussion/319963#1763869\n",
    "# I'll remove misslabeled training data\n",
    "\n",
    "train_df_rearranged = train_df_rearranged[(train_df_rearranged['case']!=7)|(train_df_rearranged['day']!=0)]\n",
    "train_df_rearranged = train_df_rearranged.reset_index(drop=True)\n",
    "\n",
    "train_df_rearranged = train_df_rearranged[(train_df_rearranged['case']!=81)|(train_df_rearranged['day']!=30)]\n",
    "train_df_rearranged = train_df_rearranged.reset_index(drop=True)\n"
   ]
  },
  {
   "cell_type": "code",
   "execution_count": 9,
   "id": "64c3e2ae",
   "metadata": {
    "execution": {
     "iopub.execute_input": "2022-07-20T18:04:47.485497Z",
     "iopub.status.busy": "2022-07-20T18:04:47.485058Z",
     "iopub.status.idle": "2022-07-20T18:04:47.493420Z",
     "shell.execute_reply": "2022-07-20T18:04:47.492135Z"
    },
    "papermill": {
     "duration": 0.019455,
     "end_time": "2022-07-20T18:04:47.495872",
     "exception": false,
     "start_time": "2022-07-20T18:04:47.476417",
     "status": "completed"
    },
    "tags": []
   },
   "outputs": [
    {
     "data": {
      "text/plain": [
       "85"
      ]
     },
     "execution_count": 9,
     "metadata": {},
     "output_type": "execute_result"
    }
   ],
   "source": [
    "len(np.unique(train_df_rearranged['case'])) \n",
    "# we have 85 cases but one case may have several MRI scans: MRI scan = case_day\n"
   ]
  },
  {
   "cell_type": "markdown",
   "id": "82760ad3",
   "metadata": {
    "papermill": {
     "duration": 0.006785,
     "end_time": "2022-07-20T18:04:47.509290",
     "exception": false,
     "start_time": "2022-07-20T18:04:47.502505",
     "status": "completed"
    },
    "tags": []
   },
   "source": [
    "## **Before further preprocessing: Validation Strategy**"
   ]
  },
  {
   "cell_type": "code",
   "execution_count": 10,
   "id": "0a7b11f6",
   "metadata": {
    "execution": {
     "iopub.execute_input": "2022-07-20T18:04:47.524925Z",
     "iopub.status.busy": "2022-07-20T18:04:47.524431Z",
     "iopub.status.idle": "2022-07-20T18:04:47.545775Z",
     "shell.execute_reply": "2022-07-20T18:04:47.543962Z"
    },
    "papermill": {
     "duration": 0.033365,
     "end_time": "2022-07-20T18:04:47.549571",
     "exception": false,
     "start_time": "2022-07-20T18:04:47.516206",
     "status": "completed"
    },
    "tags": []
   },
   "outputs": [],
   "source": [
    "# It is important to have a good validation strategy\n",
    "# the whole case (with all its slices) should not be present in the two sets : train & validation\n",
    "\n",
    "sgkf = GroupKFold(n_splits=5)\n",
    "\n",
    "for fold, (_, val_idx) in enumerate(sgkf.split(X=train_df_rearranged,groups=train_df_rearranged[\"case\"]),1): # the 1st fold has index 1 not 0\n",
    "    train_df_rearranged.loc[val_idx, \"fold\"] = fold\n",
    "\n",
    "train_df_rearranged[\"fold\"] = train_df_rearranged[\"fold\"].astype(np.uint8)"
   ]
  },
  {
   "cell_type": "code",
   "execution_count": 11,
   "id": "7869a3c1",
   "metadata": {
    "execution": {
     "iopub.execute_input": "2022-07-20T18:04:47.568238Z",
     "iopub.status.busy": "2022-07-20T18:04:47.567761Z",
     "iopub.status.idle": "2022-07-20T18:04:47.579512Z",
     "shell.execute_reply": "2022-07-20T18:04:47.578333Z"
    },
    "papermill": {
     "duration": 0.023973,
     "end_time": "2022-07-20T18:04:47.582216",
     "exception": false,
     "start_time": "2022-07-20T18:04:47.558243",
     "status": "completed"
    },
    "tags": []
   },
   "outputs": [
    {
     "data": {
      "text/plain": [
       "fold\n",
       "1    7696\n",
       "2    7632\n",
       "3    7632\n",
       "4    7648\n",
       "5    7600\n",
       "dtype: int64"
      ]
     },
     "execution_count": 11,
     "metadata": {},
     "output_type": "execute_result"
    }
   ],
   "source": [
    "train_df_rearranged.groupby(\"fold\").size()"
   ]
  },
  {
   "cell_type": "markdown",
   "id": "9265d0a9",
   "metadata": {
    "papermill": {
     "duration": 0.007431,
     "end_time": "2022-07-20T18:04:47.597583",
     "exception": false,
     "start_time": "2022-07-20T18:04:47.590152",
     "status": "completed"
    },
    "tags": []
   },
   "source": [
    "## **Slelected_fold = 1**\n"
   ]
  },
  {
   "cell_type": "code",
   "execution_count": 12,
   "id": "7bae7f07",
   "metadata": {
    "execution": {
     "iopub.execute_input": "2022-07-20T18:04:47.615049Z",
     "iopub.status.busy": "2022-07-20T18:04:47.613848Z",
     "iopub.status.idle": "2022-07-20T18:04:47.644621Z",
     "shell.execute_reply": "2022-07-20T18:04:47.642880Z"
    },
    "papermill": {
     "duration": 0.042918,
     "end_time": "2022-07-20T18:04:47.647406",
     "exception": false,
     "start_time": "2022-07-20T18:04:47.604488",
     "status": "completed"
    },
    "tags": []
   },
   "outputs": [],
   "source": [
    "fold_selected = 1\n",
    "train_ids = train_df_rearranged[train_df_rearranged[\"fold\"] != fold_selected].index\n",
    "valid_ids = train_df_rearranged[train_df_rearranged[\"fold\"] == fold_selected].index\n",
    "\n",
    "X_train = train_df_rearranged[train_df_rearranged.index.isin(train_ids)]\n",
    "X_valid = train_df_rearranged[train_df_rearranged.index.isin(valid_ids)]"
   ]
  },
  {
   "cell_type": "code",
   "execution_count": 13,
   "id": "b272f1ed",
   "metadata": {
    "execution": {
     "iopub.execute_input": "2022-07-20T18:04:47.664864Z",
     "iopub.status.busy": "2022-07-20T18:04:47.663644Z",
     "iopub.status.idle": "2022-07-20T18:04:47.680086Z",
     "shell.execute_reply": "2022-07-20T18:04:47.679105Z"
    },
    "papermill": {
     "duration": 0.027438,
     "end_time": "2022-07-20T18:04:47.682410",
     "exception": false,
     "start_time": "2022-07-20T18:04:47.654972",
     "status": "completed"
    },
    "tags": []
   },
   "outputs": [
    {
     "data": {
      "text/plain": [
       "123_20    144\n",
       "108_13    144\n",
       "43_18     144\n",
       "43_22     144\n",
       "43_26     144\n",
       "         ... \n",
       "118_0      80\n",
       "117_15     80\n",
       "117_17     80\n",
       "117_13     80\n",
       "89_21      80\n",
       "Name: subject, Length: 215, dtype: int64"
      ]
     },
     "execution_count": 13,
     "metadata": {},
     "output_type": "execute_result"
    }
   ],
   "source": [
    "X_train['subject'].value_counts()"
   ]
  },
  {
   "cell_type": "code",
   "execution_count": 14,
   "id": "902f09df",
   "metadata": {
    "execution": {
     "iopub.execute_input": "2022-07-20T18:04:47.699010Z",
     "iopub.status.busy": "2022-07-20T18:04:47.698449Z",
     "iopub.status.idle": "2022-07-20T18:04:47.710627Z",
     "shell.execute_reply": "2022-07-20T18:04:47.709363Z"
    },
    "papermill": {
     "duration": 0.023295,
     "end_time": "2022-07-20T18:04:47.712933",
     "exception": false,
     "start_time": "2022-07-20T18:04:47.689638",
     "status": "completed"
    },
    "tags": []
   },
   "outputs": [
    {
     "data": {
      "text/plain": [
       "(array([ 80, 144]), array([  7, 208]))"
      ]
     },
     "execution_count": 14,
     "metadata": {},
     "output_type": "execute_result"
    }
   ],
   "source": [
    "np.unique(X_train['subject'].value_counts(), return_counts = True)"
   ]
  },
  {
   "cell_type": "markdown",
   "id": "0b4eacc3",
   "metadata": {
    "papermill": {
     "duration": 0.00697,
     "end_time": "2022-07-20T18:04:47.727684",
     "exception": false,
     "start_time": "2022-07-20T18:04:47.720714",
     "status": "completed"
    },
    "tags": []
   },
   "source": [
    "## **Helper function: Create the list of subjects (subject=case_day) with their corresponding slices**"
   ]
  },
  {
   "cell_type": "code",
   "execution_count": 15,
   "id": "c23cf610",
   "metadata": {
    "execution": {
     "iopub.execute_input": "2022-07-20T18:04:47.744327Z",
     "iopub.status.busy": "2022-07-20T18:04:47.743666Z",
     "iopub.status.idle": "2022-07-20T18:04:47.751736Z",
     "shell.execute_reply": "2022-07-20T18:04:47.750631Z"
    },
    "papermill": {
     "duration": 0.019961,
     "end_time": "2022-07-20T18:04:47.754969",
     "exception": false,
     "start_time": "2022-07-20T18:04:47.735008",
     "status": "completed"
    },
    "tags": []
   },
   "outputs": [],
   "source": [
    "def create_list_subjects_slices(rearranged_df):\n",
    "    list_subjects_dict = []\n",
    "    for subject, slices in list(rearranged_df.groupby('subject')['path']):\n",
    "        dict_subject ={}\n",
    "        list_slices_arrays = []\n",
    "        for path_slice in slices.values:\n",
    "            arr_img = cv2.imread(path_slice, cv2.IMREAD_ANYDEPTH)\n",
    "            resized_arr_image = cv2.resize(arr_img, (128,128), interpolation=cv2.INTER_NEAREST)\n",
    "            list_slices_arrays.append(resized_arr_image)\n",
    "        dict_subject[subject] = list_slices_arrays\n",
    "        list_subjects_dict.append(dict_subject)\n",
    "    \n",
    "    list_subjects_slices=[]\n",
    "    list_subjects = []\n",
    "    for x_dict in list_subjects_dict:\n",
    "        for key_subject in x_dict:\n",
    "            list_subjects_slices.append(x_dict[key_subject])\n",
    "            list_subjects.append(key_subject)\n",
    "    gc.collect()\n",
    "    del list_subjects_dict \n",
    "    return list_subjects_slices, list_subjects\n"
   ]
  },
  {
   "cell_type": "code",
   "execution_count": 16,
   "id": "9c9b9687",
   "metadata": {
    "execution": {
     "iopub.execute_input": "2022-07-20T18:04:47.772451Z",
     "iopub.status.busy": "2022-07-20T18:04:47.772026Z",
     "iopub.status.idle": "2022-07-20T18:09:27.594967Z",
     "shell.execute_reply": "2022-07-20T18:09:27.593304Z"
    },
    "papermill": {
     "duration": 279.840269,
     "end_time": "2022-07-20T18:09:27.602758",
     "exception": false,
     "start_time": "2022-07-20T18:04:47.762489",
     "status": "completed"
    },
    "tags": []
   },
   "outputs": [],
   "source": [
    "list_slices, list_subjects = create_list_subjects_slices(X_train)"
   ]
  },
  {
   "cell_type": "markdown",
   "id": "46df073f",
   "metadata": {
    "papermill": {
     "duration": 0.010265,
     "end_time": "2022-07-20T18:09:27.628474",
     "exception": false,
     "start_time": "2022-07-20T18:09:27.618209",
     "status": "completed"
    },
    "tags": []
   },
   "source": [
    "### **Create the 3D MRI scans (niftii format)**"
   ]
  },
  {
   "cell_type": "code",
   "execution_count": 17,
   "id": "af383ecb",
   "metadata": {
    "execution": {
     "iopub.execute_input": "2022-07-20T18:09:27.652953Z",
     "iopub.status.busy": "2022-07-20T18:09:27.651789Z",
     "iopub.status.idle": "2022-07-20T18:09:27.659822Z",
     "shell.execute_reply": "2022-07-20T18:09:27.658692Z"
    },
    "papermill": {
     "duration": 0.022883,
     "end_time": "2022-07-20T18:09:27.662084",
     "exception": false,
     "start_time": "2022-07-20T18:09:27.639201",
     "status": "completed"
    },
    "tags": []
   },
   "outputs": [],
   "source": [
    "def create_3d_mri_images(list_all_slices, list_subjects, root):\n",
    "    root_path = Path(root)\n",
    "    root_path.mkdir(parents=True, exist_ok=True)\n",
    "    list_mri_arrays=[]\n",
    "    for subject, slices_subject in zip(list_subjects,list_all_slices):\n",
    "        mri_subject = np.asarray(slices_subject)\n",
    "        mri_subject = np.swapaxes(mri_subject, 0, 2) # (num_slices,w,h) --> (h, w, num_slices)\n",
    "        mri_subject = np.swapaxes(mri_subject, 0, 1) # (h,w, num_slices) --> (w,h,num_slices)\n",
    "        mri_subject_nifti = nib.Nifti1Image(mri_subject, affine=np.eye(4))\n",
    "        nib.save(mri_subject_nifti, root+subject+'.nii.gz')\n",
    "\n",
    "    gc.collect()\n",
    "    "
   ]
  },
  {
   "cell_type": "code",
   "execution_count": 18,
   "id": "f89ddee0",
   "metadata": {
    "execution": {
     "iopub.execute_input": "2022-07-20T18:09:27.677847Z",
     "iopub.status.busy": "2022-07-20T18:09:27.677066Z",
     "iopub.status.idle": "2022-07-20T18:09:52.974411Z",
     "shell.execute_reply": "2022-07-20T18:09:52.973124Z"
    },
    "papermill": {
     "duration": 25.308955,
     "end_time": "2022-07-20T18:09:52.977960",
     "exception": false,
     "start_time": "2022-07-20T18:09:27.669005",
     "status": "completed"
    },
    "tags": []
   },
   "outputs": [],
   "source": [
    "create_3d_mri_images(list_slices,list_subjects, root= './mri_images/train/')"
   ]
  },
  {
   "cell_type": "markdown",
   "id": "4fbc8eb7",
   "metadata": {
    "papermill": {
     "duration": 0.00654,
     "end_time": "2022-07-20T18:09:52.992334",
     "exception": false,
     "start_time": "2022-07-20T18:09:52.985794",
     "status": "completed"
    },
    "tags": []
   },
   "source": [
    "### **Validation set: Construct the 3D MRI scans**"
   ]
  },
  {
   "cell_type": "code",
   "execution_count": 19,
   "id": "c05df5c4",
   "metadata": {
    "execution": {
     "iopub.execute_input": "2022-07-20T18:09:53.007291Z",
     "iopub.status.busy": "2022-07-20T18:09:53.006916Z",
     "iopub.status.idle": "2022-07-20T18:11:21.913636Z",
     "shell.execute_reply": "2022-07-20T18:11:21.912091Z"
    },
    "papermill": {
     "duration": 88.9184,
     "end_time": "2022-07-20T18:11:21.917342",
     "exception": false,
     "start_time": "2022-07-20T18:09:52.998942",
     "status": "completed"
    },
    "tags": []
   },
   "outputs": [],
   "source": [
    "list_slices_val, list_subjects_val = create_list_subjects_slices(X_valid)"
   ]
  },
  {
   "cell_type": "code",
   "execution_count": 20,
   "id": "98960b9a",
   "metadata": {
    "execution": {
     "iopub.execute_input": "2022-07-20T18:11:21.935909Z",
     "iopub.status.busy": "2022-07-20T18:11:21.935048Z",
     "iopub.status.idle": "2022-07-20T18:11:29.009214Z",
     "shell.execute_reply": "2022-07-20T18:11:29.007904Z"
    },
    "papermill": {
     "duration": 7.086842,
     "end_time": "2022-07-20T18:11:29.012338",
     "exception": false,
     "start_time": "2022-07-20T18:11:21.925496",
     "status": "completed"
    },
    "tags": []
   },
   "outputs": [],
   "source": [
    "create_3d_mri_images(list_slices_val,list_subjects_val,root='./mri_images/val/')"
   ]
  }
 ],
 "metadata": {
  "kernelspec": {
   "display_name": "Python 3",
   "language": "python",
   "name": "python3"
  },
  "language_info": {
   "codemirror_mode": {
    "name": "ipython",
    "version": 3
   },
   "file_extension": ".py",
   "mimetype": "text/x-python",
   "name": "python",
   "nbconvert_exporter": "python",
   "pygments_lexer": "ipython3",
   "version": "3.7.12"
  },
  "papermill": {
   "default_parameters": {},
   "duration": 426.637614,
   "end_time": "2022-07-20T18:11:30.449700",
   "environment_variables": {},
   "exception": null,
   "input_path": "__notebook__.ipynb",
   "output_path": "__notebook__.ipynb",
   "parameters": {},
   "start_time": "2022-07-20T18:04:23.812086",
   "version": "2.3.4"
  }
 },
 "nbformat": 4,
 "nbformat_minor": 5
}
